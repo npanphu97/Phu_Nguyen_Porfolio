{
 "cells": [
  {
   "cell_type": "code",
   "execution_count": 21,
   "metadata": {},
   "outputs": [],
   "source": [
    "import numpy as np\n",
    "import pandas as pd\n",
    "import matplotlib.pyplot as plt\n",
    "from prophet import Prophet\n",
    "#from statsmodels.tsa.stattools import adfuller\n",
    "from sklearn.model_selection import ParameterGrid\n",
    "#from prophet.diagnostics import cross_validation, performance_metrics\n",
    "from prophet.plot import plot_cross_validation_metric, plot, plot_components,add_changepoints_to_plot"
   ]
  },
  {
   "cell_type": "code",
   "execution_count": 27,
   "metadata": {},
   "outputs": [],
   "source": [
    "dataset = pd.read_csv(\"data.csv\")"
   ]
  },
  {
   "cell_type": "code",
   "execution_count": 3,
   "metadata": {},
   "outputs": [],
   "source": [
    "# change data type of ds column to pd.datatime as require of model Prophet\n",
    "dataset['ds'] = pd.to_datetime(dataset['ds'])\n",
    "\n",
    "# Splitting the data into train and test sets\n",
    "train = dataset.iloc[:-4]  # Using all except the last 4 months for training\n",
    "test = dataset.iloc[-4:]  # Using the last 4 months for testing"
   ]
  },
  {
   "cell_type": "code",
   "execution_count": 4,
   "metadata": {},
   "outputs": [],
   "source": [
    "# using simple MAPE to find the best hyperparameter\n",
    "def mean_absolute_percentage_error(y_true, y_pred): \n",
    "    y_true, y_pred = np.array(y_true), np.array(y_pred)\n",
    "    return np.mean(np.abs((y_true - y_pred) / y_true)) * 100"
   ]
  },
  {
   "cell_type": "markdown",
   "metadata": {},
   "source": [
    "### Parameters that can be tuned\n",
    "\n",
    "**changepoint_prior_scale**: This is probably the most impactful parameter. It determines the flexibility of the trend, and in particular how much the trend changes at the trend changepoints. As described in this documentation, if it is too small, the trend will be underfit and variance that should have been modeled with trend changes will instead end up being handled with the noise term. If it is too large, the trend will overfit and in the most extreme case you can end up with the trend capturing yearly seasonality. The default of 0.05 works for many time series, but this could be tuned; a range of [0.001, 0.5] would likely be about right. Parameters like this (regularization penalties; this is effectively a lasso penalty) are often tuned on a log scale.\n",
    "\n",
    "**seasonality_prior_scale**: This parameter controls the flexibility of the seasonality. Similarly, a large value allows the seasonality to fit large fluctuations, a small value shrinks the magnitude of the seasonality. The default is 10., which applies basically no regularization. That is because we very rarely see overfitting here (there’s inherent regularization with the fact that it is being modeled with a truncated Fourier series, so it’s essentially low-pass filtered). A reasonable range for tuning it would probably be [0.01, 10]; when set to 0.01 you should find that the magnitude of seasonality is forced to be very small. This likely also makes sense on a log scale, since it is effectively an L2 penalty like in ridge regression.\n",
    "\n",
    "**holidays_prior_scale**: This controls flexibility to fit holiday effects. Similar to seasonality_prior_scale, it defaults to 10.0 which applies basically no regularization, since we usually have multiple observations of holidays and can do a good job of estimating their effects. This could also be tuned on a range of [0.01, 10] as with seasonality_prior_scale.\n",
    "\n",
    "**seasonality_mode**: Options are ['additive', 'multiplicative']. Default is 'additive', but many business time series will have multiplicative seasonality. This is best identified just from looking at the time series and seeing if the magnitude of seasonal fluctuations grows with the magnitude of the time series (see the documentation here on multiplicative seasonality), but when that isn’t possible, it could be tuned."
   ]
  },
  {
   "cell_type": "code",
   "execution_count": 5,
   "metadata": {},
   "outputs": [
    {
     "name": "stdout",
     "output_type": "stream",
     "text": [
      "Total Possible Models 480\n"
     ]
    }
   ],
   "source": [
    "# input hyperparameter want to try\n",
    "params_grid = {'seasonality_mode':('multiplicative','additive'),\n",
    "            'changepoint_prior_scale':[0.001, 0.002, 0.003, 0.004, 0.005,\n",
    "                                        0.01, 0.02, 0.03, 0.04, 0.05,\n",
    "                                        0.1,0.2, 0.3, 0.4, 0.5],\n",
    "            'seasonality_prior_scale':[0.01, 0.02, 0.03, 0.04, 0.05,\n",
    "                                        0.1,0.2, 0.3, 0.4, 0.5,\n",
    "                                        1.0, 2.0, 3.0, 4.0, 5.0, 10.0]}\n",
    "\n",
    "# make parameters grid to test\n",
    "grid = ParameterGrid(params_grid)\n",
    "\n",
    "# trial numbers\n",
    "cnt = 0\n",
    "for p in grid:\n",
    "    cnt = cnt+1\n",
    "print('Total Possible Models',cnt)"
   ]
  },
  {
   "cell_type": "code",
   "execution_count": 14,
   "metadata": {},
   "outputs": [
    {
     "name": "stderr",
     "output_type": "stream",
     "text": [
      "14:30:25 - cmdstanpy - INFO - Chain [1] start processing\n",
      "14:30:25 - cmdstanpy - INFO - Chain [1] done processing\n",
      "14:30:25 - cmdstanpy - INFO - Chain [1] start processing\n"
     ]
    },
    {
     "name": "stdout",
     "output_type": "stream",
     "text": [
      "--------------------------------------------------------------------------------------------------\n",
      "try 1 -- Mean Absolute Percentage Error(MAPE)------------------------------------ 21.12752046190984\n"
     ]
    },
    {
     "name": "stderr",
     "output_type": "stream",
     "text": [
      "14:30:25 - cmdstanpy - INFO - Chain [1] done processing\n",
      "14:30:26 - cmdstanpy - INFO - Chain [1] start processing\n"
     ]
    },
    {
     "name": "stdout",
     "output_type": "stream",
     "text": [
      "--------------------------------------------------------------------------------------------------\n",
      "try 2 -- Mean Absolute Percentage Error(MAPE)------------------------------------ 20.65425203362165\n"
     ]
    },
    {
     "name": "stderr",
     "output_type": "stream",
     "text": [
      "14:30:26 - cmdstanpy - INFO - Chain [1] done processing\n",
      "14:30:26 - cmdstanpy - INFO - Chain [1] start processing\n"
     ]
    },
    {
     "name": "stdout",
     "output_type": "stream",
     "text": [
      "--------------------------------------------------------------------------------------------------\n",
      "try 3 -- Mean Absolute Percentage Error(MAPE)------------------------------------ 19.876480426709247\n"
     ]
    },
    {
     "name": "stderr",
     "output_type": "stream",
     "text": [
      "14:30:26 - cmdstanpy - INFO - Chain [1] done processing\n",
      "14:30:26 - cmdstanpy - INFO - Chain [1] start processing\n"
     ]
    },
    {
     "name": "stdout",
     "output_type": "stream",
     "text": [
      "--------------------------------------------------------------------------------------------------\n",
      "try 4 -- Mean Absolute Percentage Error(MAPE)------------------------------------ 18.777804315400463\n"
     ]
    },
    {
     "name": "stderr",
     "output_type": "stream",
     "text": [
      "14:30:27 - cmdstanpy - INFO - Chain [1] done processing\n",
      "14:30:27 - cmdstanpy - INFO - Chain [1] start processing\n"
     ]
    },
    {
     "name": "stdout",
     "output_type": "stream",
     "text": [
      "--------------------------------------------------------------------------------------------------\n",
      "try 5 -- Mean Absolute Percentage Error(MAPE)------------------------------------ 17.487586836022295\n"
     ]
    },
    {
     "name": "stderr",
     "output_type": "stream",
     "text": [
      "14:30:27 - cmdstanpy - INFO - Chain [1] done processing\n",
      "14:30:27 - cmdstanpy - INFO - Chain [1] start processing\n"
     ]
    },
    {
     "name": "stdout",
     "output_type": "stream",
     "text": [
      "--------------------------------------------------------------------------------------------------\n",
      "try 6 -- Mean Absolute Percentage Error(MAPE)------------------------------------ 12.067715210343941\n"
     ]
    },
    {
     "name": "stderr",
     "output_type": "stream",
     "text": [
      "14:30:27 - cmdstanpy - INFO - Chain [1] done processing\n",
      "14:30:28 - cmdstanpy - INFO - Chain [1] start processing\n"
     ]
    },
    {
     "name": "stdout",
     "output_type": "stream",
     "text": [
      "--------------------------------------------------------------------------------------------------\n",
      "try 7 -- Mean Absolute Percentage Error(MAPE)------------------------------------ 9.34968702354997\n"
     ]
    },
    {
     "name": "stderr",
     "output_type": "stream",
     "text": [
      "14:30:30 - cmdstanpy - INFO - Chain [1] done processing\n",
      "14:30:30 - cmdstanpy - INFO - Chain [1] start processing\n"
     ]
    },
    {
     "name": "stdout",
     "output_type": "stream",
     "text": [
      "--------------------------------------------------------------------------------------------------\n",
      "try 8 -- Mean Absolute Percentage Error(MAPE)------------------------------------ 9.669026226600117\n"
     ]
    },
    {
     "name": "stderr",
     "output_type": "stream",
     "text": [
      "14:30:31 - cmdstanpy - INFO - Chain [1] done processing\n",
      "14:30:31 - cmdstanpy - INFO - Chain [1] start processing\n"
     ]
    },
    {
     "name": "stdout",
     "output_type": "stream",
     "text": [
      "--------------------------------------------------------------------------------------------------\n",
      "try 9 -- Mean Absolute Percentage Error(MAPE)------------------------------------ 9.533368270407829\n"
     ]
    },
    {
     "name": "stderr",
     "output_type": "stream",
     "text": [
      "14:30:32 - cmdstanpy - INFO - Chain [1] done processing\n",
      "14:30:32 - cmdstanpy - INFO - Chain [1] start processing\n"
     ]
    },
    {
     "name": "stdout",
     "output_type": "stream",
     "text": [
      "--------------------------------------------------------------------------------------------------\n",
      "try 10 -- Mean Absolute Percentage Error(MAPE)------------------------------------ 9.586077255612619\n"
     ]
    },
    {
     "name": "stderr",
     "output_type": "stream",
     "text": [
      "14:30:33 - cmdstanpy - INFO - Chain [1] done processing\n",
      "14:30:33 - cmdstanpy - INFO - Chain [1] start processing\n"
     ]
    },
    {
     "name": "stdout",
     "output_type": "stream",
     "text": [
      "--------------------------------------------------------------------------------------------------\n",
      "try 11 -- Mean Absolute Percentage Error(MAPE)------------------------------------ 9.961944564886082\n"
     ]
    },
    {
     "name": "stderr",
     "output_type": "stream",
     "text": [
      "14:30:33 - cmdstanpy - INFO - Chain [1] done processing\n",
      "14:30:33 - cmdstanpy - INFO - Chain [1] start processing\n"
     ]
    },
    {
     "name": "stdout",
     "output_type": "stream",
     "text": [
      "--------------------------------------------------------------------------------------------------\n",
      "try 12 -- Mean Absolute Percentage Error(MAPE)------------------------------------ 10.813158495877069\n"
     ]
    },
    {
     "name": "stderr",
     "output_type": "stream",
     "text": [
      "14:30:34 - cmdstanpy - INFO - Chain [1] done processing\n",
      "14:30:34 - cmdstanpy - INFO - Chain [1] start processing\n"
     ]
    },
    {
     "name": "stdout",
     "output_type": "stream",
     "text": [
      "--------------------------------------------------------------------------------------------------\n",
      "try 13 -- Mean Absolute Percentage Error(MAPE)------------------------------------ 12.320992780574283\n"
     ]
    },
    {
     "name": "stderr",
     "output_type": "stream",
     "text": [
      "14:30:37 - cmdstanpy - INFO - Chain [1] done processing\n",
      "14:30:37 - cmdstanpy - INFO - Chain [1] start processing\n"
     ]
    },
    {
     "name": "stdout",
     "output_type": "stream",
     "text": [
      "--------------------------------------------------------------------------------------------------\n",
      "try 14 -- Mean Absolute Percentage Error(MAPE)------------------------------------ 14.010072609153065\n"
     ]
    },
    {
     "name": "stderr",
     "output_type": "stream",
     "text": [
      "14:30:38 - cmdstanpy - INFO - Chain [1] done processing\n",
      "14:30:38 - cmdstanpy - INFO - Chain [1] start processing\n"
     ]
    },
    {
     "name": "stdout",
     "output_type": "stream",
     "text": [
      "--------------------------------------------------------------------------------------------------\n",
      "try 15 -- Mean Absolute Percentage Error(MAPE)------------------------------------ 14.060381069967695\n"
     ]
    },
    {
     "name": "stderr",
     "output_type": "stream",
     "text": [
      "14:30:39 - cmdstanpy - INFO - Chain [1] done processing\n"
     ]
    },
    {
     "name": "stdout",
     "output_type": "stream",
     "text": [
      "--------------------------------------------------------------------------------------------------\n",
      "try 16 -- Mean Absolute Percentage Error(MAPE)------------------------------------ 22.85278553209764\n"
     ]
    },
    {
     "name": "stderr",
     "output_type": "stream",
     "text": [
      "14:30:39 - cmdstanpy - INFO - Chain [1] start processing\n",
      "14:30:39 - cmdstanpy - INFO - Chain [1] done processing\n",
      "14:30:39 - cmdstanpy - INFO - Chain [1] start processing\n"
     ]
    },
    {
     "name": "stdout",
     "output_type": "stream",
     "text": [
      "--------------------------------------------------------------------------------------------------\n",
      "try 17 -- Mean Absolute Percentage Error(MAPE)------------------------------------ 20.685386243892992\n"
     ]
    },
    {
     "name": "stderr",
     "output_type": "stream",
     "text": [
      "14:30:39 - cmdstanpy - INFO - Chain [1] done processing\n",
      "14:30:40 - cmdstanpy - INFO - Chain [1] start processing\n"
     ]
    },
    {
     "name": "stdout",
     "output_type": "stream",
     "text": [
      "--------------------------------------------------------------------------------------------------\n",
      "try 18 -- Mean Absolute Percentage Error(MAPE)------------------------------------ 18.828501501483238\n"
     ]
    },
    {
     "name": "stderr",
     "output_type": "stream",
     "text": [
      "14:30:40 - cmdstanpy - INFO - Chain [1] done processing\n",
      "14:30:40 - cmdstanpy - INFO - Chain [1] start processing\n"
     ]
    },
    {
     "name": "stdout",
     "output_type": "stream",
     "text": [
      "--------------------------------------------------------------------------------------------------\n",
      "try 19 -- Mean Absolute Percentage Error(MAPE)------------------------------------ 15.729751228484497\n"
     ]
    },
    {
     "name": "stderr",
     "output_type": "stream",
     "text": [
      "14:30:40 - cmdstanpy - INFO - Chain [1] done processing\n",
      "14:30:40 - cmdstanpy - INFO - Chain [1] start processing\n"
     ]
    },
    {
     "name": "stdout",
     "output_type": "stream",
     "text": [
      "--------------------------------------------------------------------------------------------------\n",
      "try 20 -- Mean Absolute Percentage Error(MAPE)------------------------------------ 11.490543507415046\n"
     ]
    },
    {
     "name": "stderr",
     "output_type": "stream",
     "text": [
      "14:30:41 - cmdstanpy - INFO - Chain [1] done processing\n",
      "14:30:41 - cmdstanpy - INFO - Chain [1] start processing\n"
     ]
    },
    {
     "name": "stdout",
     "output_type": "stream",
     "text": [
      "--------------------------------------------------------------------------------------------------\n",
      "try 21 -- Mean Absolute Percentage Error(MAPE)------------------------------------ 11.582893361724159\n"
     ]
    },
    {
     "name": "stderr",
     "output_type": "stream",
     "text": [
      "14:30:42 - cmdstanpy - INFO - Chain [1] done processing\n",
      "14:30:43 - cmdstanpy - INFO - Chain [1] start processing\n"
     ]
    },
    {
     "name": "stdout",
     "output_type": "stream",
     "text": [
      "--------------------------------------------------------------------------------------------------\n",
      "try 22 -- Mean Absolute Percentage Error(MAPE)------------------------------------ 7.015566799827639\n"
     ]
    },
    {
     "name": "stderr",
     "output_type": "stream",
     "text": [
      "14:30:43 - cmdstanpy - INFO - Chain [1] done processing\n",
      "14:30:43 - cmdstanpy - INFO - Chain [1] start processing\n"
     ]
    },
    {
     "name": "stdout",
     "output_type": "stream",
     "text": [
      "--------------------------------------------------------------------------------------------------\n",
      "try 23 -- Mean Absolute Percentage Error(MAPE)------------------------------------ 7.532605864060214\n"
     ]
    },
    {
     "name": "stderr",
     "output_type": "stream",
     "text": [
      "14:30:43 - cmdstanpy - INFO - Chain [1] done processing\n",
      "14:30:43 - cmdstanpy - INFO - Chain [1] start processing\n"
     ]
    },
    {
     "name": "stdout",
     "output_type": "stream",
     "text": [
      "--------------------------------------------------------------------------------------------------\n",
      "try 24 -- Mean Absolute Percentage Error(MAPE)------------------------------------ 7.5192167987210885\n"
     ]
    },
    {
     "name": "stderr",
     "output_type": "stream",
     "text": [
      "14:30:44 - cmdstanpy - INFO - Chain [1] done processing\n",
      "14:30:44 - cmdstanpy - INFO - Chain [1] start processing\n"
     ]
    },
    {
     "name": "stdout",
     "output_type": "stream",
     "text": [
      "--------------------------------------------------------------------------------------------------\n",
      "try 25 -- Mean Absolute Percentage Error(MAPE)------------------------------------ 7.62820687505953\n"
     ]
    },
    {
     "name": "stderr",
     "output_type": "stream",
     "text": [
      "14:30:44 - cmdstanpy - INFO - Chain [1] done processing\n",
      "14:30:44 - cmdstanpy - INFO - Chain [1] start processing\n"
     ]
    },
    {
     "name": "stdout",
     "output_type": "stream",
     "text": [
      "--------------------------------------------------------------------------------------------------\n",
      "try 26 -- Mean Absolute Percentage Error(MAPE)------------------------------------ 8.217472799604174\n"
     ]
    },
    {
     "name": "stderr",
     "output_type": "stream",
     "text": [
      "14:30:45 - cmdstanpy - INFO - Chain [1] done processing\n",
      "14:30:45 - cmdstanpy - INFO - Chain [1] start processing\n"
     ]
    },
    {
     "name": "stdout",
     "output_type": "stream",
     "text": [
      "--------------------------------------------------------------------------------------------------\n",
      "try 27 -- Mean Absolute Percentage Error(MAPE)------------------------------------ 10.27118852241849\n"
     ]
    },
    {
     "name": "stderr",
     "output_type": "stream",
     "text": [
      "14:30:46 - cmdstanpy - INFO - Chain [1] done processing\n",
      "14:30:46 - cmdstanpy - INFO - Chain [1] start processing\n"
     ]
    },
    {
     "name": "stdout",
     "output_type": "stream",
     "text": [
      "--------------------------------------------------------------------------------------------------\n",
      "try 28 -- Mean Absolute Percentage Error(MAPE)------------------------------------ 14.52986645714915\n"
     ]
    },
    {
     "name": "stderr",
     "output_type": "stream",
     "text": [
      "14:30:46 - cmdstanpy - INFO - Chain [1] done processing\n",
      "14:30:47 - cmdstanpy - INFO - Chain [1] start processing\n"
     ]
    },
    {
     "name": "stdout",
     "output_type": "stream",
     "text": [
      "--------------------------------------------------------------------------------------------------\n",
      "try 29 -- Mean Absolute Percentage Error(MAPE)------------------------------------ 16.251545429882704\n"
     ]
    },
    {
     "name": "stderr",
     "output_type": "stream",
     "text": [
      "14:30:47 - cmdstanpy - INFO - Chain [1] done processing\n",
      "14:30:47 - cmdstanpy - INFO - Chain [1] start processing\n"
     ]
    },
    {
     "name": "stdout",
     "output_type": "stream",
     "text": [
      "--------------------------------------------------------------------------------------------------\n",
      "try 30 -- Mean Absolute Percentage Error(MAPE)------------------------------------ 15.806617416251939\n"
     ]
    },
    {
     "name": "stderr",
     "output_type": "stream",
     "text": [
      "14:30:47 - cmdstanpy - INFO - Chain [1] done processing\n",
      "14:30:47 - cmdstanpy - INFO - Chain [1] start processing\n"
     ]
    },
    {
     "name": "stdout",
     "output_type": "stream",
     "text": [
      "--------------------------------------------------------------------------------------------------\n",
      "try 31 -- Mean Absolute Percentage Error(MAPE)------------------------------------ 16.62118793093525\n"
     ]
    },
    {
     "name": "stderr",
     "output_type": "stream",
     "text": [
      "14:30:48 - cmdstanpy - INFO - Chain [1] done processing\n",
      "14:30:48 - cmdstanpy - INFO - Chain [1] start processing\n"
     ]
    },
    {
     "name": "stdout",
     "output_type": "stream",
     "text": [
      "--------------------------------------------------------------------------------------------------\n",
      "try 32 -- Mean Absolute Percentage Error(MAPE)------------------------------------ 16.806490594107622\n"
     ]
    },
    {
     "name": "stderr",
     "output_type": "stream",
     "text": [
      "14:30:48 - cmdstanpy - INFO - Chain [1] done processing\n",
      "14:30:49 - cmdstanpy - INFO - Chain [1] start processing\n"
     ]
    },
    {
     "name": "stdout",
     "output_type": "stream",
     "text": [
      "--------------------------------------------------------------------------------------------------\n",
      "try 33 -- Mean Absolute Percentage Error(MAPE)------------------------------------ 21.57359459311558\n"
     ]
    },
    {
     "name": "stderr",
     "output_type": "stream",
     "text": [
      "14:30:49 - cmdstanpy - INFO - Chain [1] done processing\n",
      "14:30:49 - cmdstanpy - INFO - Chain [1] start processing\n"
     ]
    },
    {
     "name": "stdout",
     "output_type": "stream",
     "text": [
      "--------------------------------------------------------------------------------------------------\n",
      "try 34 -- Mean Absolute Percentage Error(MAPE)------------------------------------ 21.553692217996705\n"
     ]
    },
    {
     "name": "stderr",
     "output_type": "stream",
     "text": [
      "14:30:50 - cmdstanpy - INFO - Chain [1] done processing\n",
      "14:30:50 - cmdstanpy - INFO - Chain [1] start processing\n"
     ]
    },
    {
     "name": "stdout",
     "output_type": "stream",
     "text": [
      "--------------------------------------------------------------------------------------------------\n",
      "try 35 -- Mean Absolute Percentage Error(MAPE)------------------------------------ 19.79951772284067\n"
     ]
    },
    {
     "name": "stderr",
     "output_type": "stream",
     "text": [
      "14:30:51 - cmdstanpy - INFO - Chain [1] done processing\n",
      "14:30:51 - cmdstanpy - INFO - Chain [1] start processing\n"
     ]
    },
    {
     "name": "stdout",
     "output_type": "stream",
     "text": [
      "--------------------------------------------------------------------------------------------------\n",
      "try 36 -- Mean Absolute Percentage Error(MAPE)------------------------------------ 18.756830172668113\n"
     ]
    },
    {
     "name": "stderr",
     "output_type": "stream",
     "text": [
      "14:30:51 - cmdstanpy - INFO - Chain [1] done processing\n",
      "14:30:51 - cmdstanpy - INFO - Chain [1] start processing\n"
     ]
    },
    {
     "name": "stdout",
     "output_type": "stream",
     "text": [
      "--------------------------------------------------------------------------------------------------\n",
      "try 37 -- Mean Absolute Percentage Error(MAPE)------------------------------------ 17.417993956883866\n"
     ]
    },
    {
     "name": "stderr",
     "output_type": "stream",
     "text": [
      "14:30:52 - cmdstanpy - INFO - Chain [1] done processing\n",
      "14:30:52 - cmdstanpy - INFO - Chain [1] start processing\n"
     ]
    },
    {
     "name": "stdout",
     "output_type": "stream",
     "text": [
      "--------------------------------------------------------------------------------------------------\n",
      "try 38 -- Mean Absolute Percentage Error(MAPE)------------------------------------ 12.254691081617185\n"
     ]
    },
    {
     "name": "stderr",
     "output_type": "stream",
     "text": [
      "14:30:52 - cmdstanpy - INFO - Chain [1] done processing\n",
      "14:30:52 - cmdstanpy - INFO - Chain [1] start processing\n"
     ]
    },
    {
     "name": "stdout",
     "output_type": "stream",
     "text": [
      "--------------------------------------------------------------------------------------------------\n",
      "try 39 -- Mean Absolute Percentage Error(MAPE)------------------------------------ 8.747040616977163\n"
     ]
    },
    {
     "name": "stderr",
     "output_type": "stream",
     "text": [
      "14:30:53 - cmdstanpy - INFO - Chain [1] done processing\n",
      "14:30:53 - cmdstanpy - INFO - Chain [1] start processing\n"
     ]
    },
    {
     "name": "stdout",
     "output_type": "stream",
     "text": [
      "--------------------------------------------------------------------------------------------------\n",
      "try 40 -- Mean Absolute Percentage Error(MAPE)------------------------------------ 9.25877289481251\n"
     ]
    },
    {
     "name": "stderr",
     "output_type": "stream",
     "text": [
      "14:30:53 - cmdstanpy - INFO - Chain [1] done processing\n",
      "14:30:53 - cmdstanpy - INFO - Chain [1] start processing\n"
     ]
    },
    {
     "name": "stdout",
     "output_type": "stream",
     "text": [
      "--------------------------------------------------------------------------------------------------\n",
      "try 41 -- Mean Absolute Percentage Error(MAPE)------------------------------------ 8.987950325835298\n"
     ]
    },
    {
     "name": "stderr",
     "output_type": "stream",
     "text": [
      "14:30:54 - cmdstanpy - INFO - Chain [1] done processing\n",
      "14:30:54 - cmdstanpy - INFO - Chain [1] start processing\n"
     ]
    },
    {
     "name": "stdout",
     "output_type": "stream",
     "text": [
      "--------------------------------------------------------------------------------------------------\n",
      "try 42 -- Mean Absolute Percentage Error(MAPE)------------------------------------ 8.945995816287763\n"
     ]
    },
    {
     "name": "stderr",
     "output_type": "stream",
     "text": [
      "14:30:54 - cmdstanpy - INFO - Chain [1] done processing\n",
      "14:30:54 - cmdstanpy - INFO - Chain [1] start processing\n"
     ]
    },
    {
     "name": "stdout",
     "output_type": "stream",
     "text": [
      "--------------------------------------------------------------------------------------------------\n",
      "try 43 -- Mean Absolute Percentage Error(MAPE)------------------------------------ 9.884207003244985\n"
     ]
    },
    {
     "name": "stderr",
     "output_type": "stream",
     "text": [
      "14:30:55 - cmdstanpy - INFO - Chain [1] done processing\n",
      "14:30:55 - cmdstanpy - INFO - Chain [1] start processing\n"
     ]
    },
    {
     "name": "stdout",
     "output_type": "stream",
     "text": [
      "--------------------------------------------------------------------------------------------------\n",
      "try 44 -- Mean Absolute Percentage Error(MAPE)------------------------------------ 10.73309038012602\n"
     ]
    },
    {
     "name": "stderr",
     "output_type": "stream",
     "text": [
      "14:30:55 - cmdstanpy - INFO - Chain [1] done processing\n",
      "14:30:55 - cmdstanpy - INFO - Chain [1] start processing\n"
     ]
    },
    {
     "name": "stdout",
     "output_type": "stream",
     "text": [
      "--------------------------------------------------------------------------------------------------\n",
      "try 45 -- Mean Absolute Percentage Error(MAPE)------------------------------------ 12.379541868910524\n"
     ]
    },
    {
     "name": "stderr",
     "output_type": "stream",
     "text": [
      "14:30:56 - cmdstanpy - INFO - Chain [1] done processing\n",
      "14:30:56 - cmdstanpy - INFO - Chain [1] start processing\n"
     ]
    },
    {
     "name": "stdout",
     "output_type": "stream",
     "text": [
      "--------------------------------------------------------------------------------------------------\n",
      "try 46 -- Mean Absolute Percentage Error(MAPE)------------------------------------ 14.235053814199834\n"
     ]
    },
    {
     "name": "stderr",
     "output_type": "stream",
     "text": [
      "14:30:56 - cmdstanpy - INFO - Chain [1] done processing\n",
      "14:30:56 - cmdstanpy - INFO - Chain [1] start processing\n"
     ]
    },
    {
     "name": "stdout",
     "output_type": "stream",
     "text": [
      "--------------------------------------------------------------------------------------------------\n",
      "try 47 -- Mean Absolute Percentage Error(MAPE)------------------------------------ 15.446537980506708\n"
     ]
    },
    {
     "name": "stderr",
     "output_type": "stream",
     "text": [
      "14:30:57 - cmdstanpy - INFO - Chain [1] done processing\n",
      "14:30:57 - cmdstanpy - INFO - Chain [1] start processing\n"
     ]
    },
    {
     "name": "stdout",
     "output_type": "stream",
     "text": [
      "--------------------------------------------------------------------------------------------------\n",
      "try 48 -- Mean Absolute Percentage Error(MAPE)------------------------------------ 22.871896838992683\n"
     ]
    },
    {
     "name": "stderr",
     "output_type": "stream",
     "text": [
      "14:30:57 - cmdstanpy - INFO - Chain [1] done processing\n",
      "14:30:57 - cmdstanpy - INFO - Chain [1] start processing\n"
     ]
    },
    {
     "name": "stdout",
     "output_type": "stream",
     "text": [
      "--------------------------------------------------------------------------------------------------\n",
      "try 49 -- Mean Absolute Percentage Error(MAPE)------------------------------------ 19.381445255007485\n"
     ]
    },
    {
     "name": "stderr",
     "output_type": "stream",
     "text": [
      "14:30:58 - cmdstanpy - INFO - Chain [1] done processing\n",
      "14:30:58 - cmdstanpy - INFO - Chain [1] start processing\n"
     ]
    },
    {
     "name": "stdout",
     "output_type": "stream",
     "text": [
      "--------------------------------------------------------------------------------------------------\n",
      "try 50 -- Mean Absolute Percentage Error(MAPE)------------------------------------ 18.798689347477005\n"
     ]
    },
    {
     "name": "stderr",
     "output_type": "stream",
     "text": [
      "14:30:58 - cmdstanpy - INFO - Chain [1] done processing\n",
      "14:30:58 - cmdstanpy - INFO - Chain [1] start processing\n"
     ]
    },
    {
     "name": "stdout",
     "output_type": "stream",
     "text": [
      "--------------------------------------------------------------------------------------------------\n",
      "try 51 -- Mean Absolute Percentage Error(MAPE)------------------------------------ 15.729807099655863\n"
     ]
    },
    {
     "name": "stderr",
     "output_type": "stream",
     "text": [
      "14:30:59 - cmdstanpy - INFO - Chain [1] done processing\n",
      "14:30:59 - cmdstanpy - INFO - Chain [1] start processing\n"
     ]
    },
    {
     "name": "stdout",
     "output_type": "stream",
     "text": [
      "--------------------------------------------------------------------------------------------------\n",
      "try 52 -- Mean Absolute Percentage Error(MAPE)------------------------------------ 13.569752178609647\n"
     ]
    },
    {
     "name": "stderr",
     "output_type": "stream",
     "text": [
      "14:30:59 - cmdstanpy - INFO - Chain [1] done processing\n",
      "14:30:59 - cmdstanpy - INFO - Chain [1] start processing\n"
     ]
    },
    {
     "name": "stdout",
     "output_type": "stream",
     "text": [
      "--------------------------------------------------------------------------------------------------\n",
      "try 53 -- Mean Absolute Percentage Error(MAPE)------------------------------------ 11.30798688142293\n"
     ]
    },
    {
     "name": "stderr",
     "output_type": "stream",
     "text": [
      "14:31:00 - cmdstanpy - INFO - Chain [1] done processing\n",
      "14:31:01 - cmdstanpy - INFO - Chain [1] start processing\n"
     ]
    },
    {
     "name": "stdout",
     "output_type": "stream",
     "text": [
      "--------------------------------------------------------------------------------------------------\n",
      "try 54 -- Mean Absolute Percentage Error(MAPE)------------------------------------ 7.133675272621097\n"
     ]
    },
    {
     "name": "stderr",
     "output_type": "stream",
     "text": [
      "14:31:01 - cmdstanpy - INFO - Chain [1] done processing\n",
      "14:31:01 - cmdstanpy - INFO - Chain [1] start processing\n"
     ]
    },
    {
     "name": "stdout",
     "output_type": "stream",
     "text": [
      "--------------------------------------------------------------------------------------------------\n",
      "try 55 -- Mean Absolute Percentage Error(MAPE)------------------------------------ 7.580229198456443\n"
     ]
    },
    {
     "name": "stderr",
     "output_type": "stream",
     "text": [
      "14:31:01 - cmdstanpy - INFO - Chain [1] done processing\n",
      "14:31:01 - cmdstanpy - INFO - Chain [1] start processing\n"
     ]
    },
    {
     "name": "stdout",
     "output_type": "stream",
     "text": [
      "--------------------------------------------------------------------------------------------------\n",
      "try 56 -- Mean Absolute Percentage Error(MAPE)------------------------------------ 7.521520035048976\n"
     ]
    },
    {
     "name": "stderr",
     "output_type": "stream",
     "text": [
      "14:31:01 - cmdstanpy - INFO - Chain [1] done processing\n",
      "14:31:02 - cmdstanpy - INFO - Chain [1] start processing\n"
     ]
    },
    {
     "name": "stdout",
     "output_type": "stream",
     "text": [
      "--------------------------------------------------------------------------------------------------\n",
      "try 57 -- Mean Absolute Percentage Error(MAPE)------------------------------------ 7.6348639999978305\n"
     ]
    },
    {
     "name": "stderr",
     "output_type": "stream",
     "text": [
      "14:31:02 - cmdstanpy - INFO - Chain [1] done processing\n",
      "14:31:02 - cmdstanpy - INFO - Chain [1] start processing\n"
     ]
    },
    {
     "name": "stdout",
     "output_type": "stream",
     "text": [
      "--------------------------------------------------------------------------------------------------\n",
      "try 58 -- Mean Absolute Percentage Error(MAPE)------------------------------------ 8.200166083068595\n"
     ]
    },
    {
     "name": "stderr",
     "output_type": "stream",
     "text": [
      "14:31:03 - cmdstanpy - INFO - Chain [1] done processing\n",
      "14:31:03 - cmdstanpy - INFO - Chain [1] start processing\n"
     ]
    },
    {
     "name": "stdout",
     "output_type": "stream",
     "text": [
      "--------------------------------------------------------------------------------------------------\n",
      "try 59 -- Mean Absolute Percentage Error(MAPE)------------------------------------ 10.499014546057131\n"
     ]
    },
    {
     "name": "stderr",
     "output_type": "stream",
     "text": [
      "14:31:03 - cmdstanpy - INFO - Chain [1] done processing\n",
      "14:31:03 - cmdstanpy - INFO - Chain [1] start processing\n"
     ]
    },
    {
     "name": "stdout",
     "output_type": "stream",
     "text": [
      "--------------------------------------------------------------------------------------------------\n",
      "try 60 -- Mean Absolute Percentage Error(MAPE)------------------------------------ 14.410016415947593\n"
     ]
    },
    {
     "name": "stderr",
     "output_type": "stream",
     "text": [
      "14:31:04 - cmdstanpy - INFO - Chain [1] done processing\n",
      "14:31:04 - cmdstanpy - INFO - Chain [1] start processing\n"
     ]
    },
    {
     "name": "stdout",
     "output_type": "stream",
     "text": [
      "--------------------------------------------------------------------------------------------------\n",
      "try 61 -- Mean Absolute Percentage Error(MAPE)------------------------------------ 16.200601750137313\n"
     ]
    },
    {
     "name": "stderr",
     "output_type": "stream",
     "text": [
      "14:31:04 - cmdstanpy - INFO - Chain [1] done processing\n",
      "14:31:04 - cmdstanpy - INFO - Chain [1] start processing\n"
     ]
    },
    {
     "name": "stdout",
     "output_type": "stream",
     "text": [
      "--------------------------------------------------------------------------------------------------\n",
      "try 62 -- Mean Absolute Percentage Error(MAPE)------------------------------------ 15.896394362551671\n"
     ]
    },
    {
     "name": "stderr",
     "output_type": "stream",
     "text": [
      "14:31:05 - cmdstanpy - INFO - Chain [1] done processing\n",
      "14:31:05 - cmdstanpy - INFO - Chain [1] start processing\n"
     ]
    },
    {
     "name": "stdout",
     "output_type": "stream",
     "text": [
      "--------------------------------------------------------------------------------------------------\n",
      "try 63 -- Mean Absolute Percentage Error(MAPE)------------------------------------ 16.78933925321705\n"
     ]
    },
    {
     "name": "stderr",
     "output_type": "stream",
     "text": [
      "14:31:05 - cmdstanpy - INFO - Chain [1] done processing\n",
      "14:31:05 - cmdstanpy - INFO - Chain [1] start processing\n"
     ]
    },
    {
     "name": "stdout",
     "output_type": "stream",
     "text": [
      "--------------------------------------------------------------------------------------------------\n",
      "try 64 -- Mean Absolute Percentage Error(MAPE)------------------------------------ 16.809112050810732\n"
     ]
    },
    {
     "name": "stderr",
     "output_type": "stream",
     "text": [
      "14:31:06 - cmdstanpy - INFO - Chain [1] done processing\n",
      "14:31:06 - cmdstanpy - INFO - Chain [1] start processing\n"
     ]
    },
    {
     "name": "stdout",
     "output_type": "stream",
     "text": [
      "--------------------------------------------------------------------------------------------------\n",
      "try 65 -- Mean Absolute Percentage Error(MAPE)------------------------------------ 21.54203091089497\n"
     ]
    },
    {
     "name": "stderr",
     "output_type": "stream",
     "text": [
      "14:31:06 - cmdstanpy - INFO - Chain [1] done processing\n",
      "14:31:06 - cmdstanpy - INFO - Chain [1] start processing\n"
     ]
    },
    {
     "name": "stdout",
     "output_type": "stream",
     "text": [
      "--------------------------------------------------------------------------------------------------\n",
      "try 66 -- Mean Absolute Percentage Error(MAPE)------------------------------------ 20.43629483873194\n"
     ]
    },
    {
     "name": "stderr",
     "output_type": "stream",
     "text": [
      "14:31:06 - cmdstanpy - INFO - Chain [1] done processing\n",
      "14:31:07 - cmdstanpy - INFO - Chain [1] start processing\n"
     ]
    },
    {
     "name": "stdout",
     "output_type": "stream",
     "text": [
      "--------------------------------------------------------------------------------------------------\n",
      "try 67 -- Mean Absolute Percentage Error(MAPE)------------------------------------ 19.262629776640846\n"
     ]
    },
    {
     "name": "stderr",
     "output_type": "stream",
     "text": [
      "14:31:07 - cmdstanpy - INFO - Chain [1] done processing\n"
     ]
    },
    {
     "name": "stdout",
     "output_type": "stream",
     "text": [
      "--------------------------------------------------------------------------------------------------\n",
      "try 68 -- Mean Absolute Percentage Error(MAPE)------------------------------------ 18.600885777718997\n"
     ]
    },
    {
     "name": "stderr",
     "output_type": "stream",
     "text": [
      "14:31:07 - cmdstanpy - INFO - Chain [1] start processing\n",
      "14:31:07 - cmdstanpy - INFO - Chain [1] done processing\n",
      "14:31:08 - cmdstanpy - INFO - Chain [1] start processing\n"
     ]
    },
    {
     "name": "stdout",
     "output_type": "stream",
     "text": [
      "--------------------------------------------------------------------------------------------------\n",
      "try 69 -- Mean Absolute Percentage Error(MAPE)------------------------------------ 17.317877473861078\n"
     ]
    },
    {
     "name": "stderr",
     "output_type": "stream",
     "text": [
      "14:31:08 - cmdstanpy - INFO - Chain [1] done processing\n",
      "14:31:08 - cmdstanpy - INFO - Chain [1] start processing\n"
     ]
    },
    {
     "name": "stdout",
     "output_type": "stream",
     "text": [
      "--------------------------------------------------------------------------------------------------\n",
      "try 70 -- Mean Absolute Percentage Error(MAPE)------------------------------------ 12.24656032708345\n"
     ]
    },
    {
     "name": "stderr",
     "output_type": "stream",
     "text": [
      "14:31:09 - cmdstanpy - INFO - Chain [1] done processing\n",
      "14:31:09 - cmdstanpy - INFO - Chain [1] start processing\n"
     ]
    },
    {
     "name": "stdout",
     "output_type": "stream",
     "text": [
      "--------------------------------------------------------------------------------------------------\n",
      "try 71 -- Mean Absolute Percentage Error(MAPE)------------------------------------ 8.727307440009072\n"
     ]
    },
    {
     "name": "stderr",
     "output_type": "stream",
     "text": [
      "14:31:09 - cmdstanpy - INFO - Chain [1] done processing\n"
     ]
    },
    {
     "name": "stdout",
     "output_type": "stream",
     "text": [
      "--------------------------------------------------------------------------------------------------\n",
      "try 72 -- Mean Absolute Percentage Error(MAPE)------------------------------------ 8.74087430507091\n"
     ]
    },
    {
     "name": "stderr",
     "output_type": "stream",
     "text": [
      "14:31:09 - cmdstanpy - INFO - Chain [1] start processing\n",
      "14:31:09 - cmdstanpy - INFO - Chain [1] done processing\n",
      "14:31:10 - cmdstanpy - INFO - Chain [1] start processing\n"
     ]
    },
    {
     "name": "stdout",
     "output_type": "stream",
     "text": [
      "--------------------------------------------------------------------------------------------------\n",
      "try 73 -- Mean Absolute Percentage Error(MAPE)------------------------------------ 8.640282671881428\n"
     ]
    },
    {
     "name": "stderr",
     "output_type": "stream",
     "text": [
      "14:31:10 - cmdstanpy - INFO - Chain [1] done processing\n",
      "14:31:10 - cmdstanpy - INFO - Chain [1] start processing\n"
     ]
    },
    {
     "name": "stdout",
     "output_type": "stream",
     "text": [
      "--------------------------------------------------------------------------------------------------\n",
      "try 74 -- Mean Absolute Percentage Error(MAPE)------------------------------------ 8.674827749385539\n"
     ]
    },
    {
     "name": "stderr",
     "output_type": "stream",
     "text": [
      "14:31:11 - cmdstanpy - INFO - Chain [1] done processing\n",
      "14:31:11 - cmdstanpy - INFO - Chain [1] start processing\n"
     ]
    },
    {
     "name": "stdout",
     "output_type": "stream",
     "text": [
      "--------------------------------------------------------------------------------------------------\n",
      "try 75 -- Mean Absolute Percentage Error(MAPE)------------------------------------ 9.621622762760659\n"
     ]
    },
    {
     "name": "stderr",
     "output_type": "stream",
     "text": [
      "14:31:11 - cmdstanpy - INFO - Chain [1] done processing\n",
      "14:31:11 - cmdstanpy - INFO - Chain [1] start processing\n"
     ]
    },
    {
     "name": "stdout",
     "output_type": "stream",
     "text": [
      "--------------------------------------------------------------------------------------------------\n",
      "try 76 -- Mean Absolute Percentage Error(MAPE)------------------------------------ 10.541454942869816\n"
     ]
    },
    {
     "name": "stderr",
     "output_type": "stream",
     "text": [
      "14:31:11 - cmdstanpy - INFO - Chain [1] done processing\n",
      "14:31:12 - cmdstanpy - INFO - Chain [1] start processing\n"
     ]
    },
    {
     "name": "stdout",
     "output_type": "stream",
     "text": [
      "--------------------------------------------------------------------------------------------------\n",
      "try 77 -- Mean Absolute Percentage Error(MAPE)------------------------------------ 12.469438217220048\n"
     ]
    },
    {
     "name": "stderr",
     "output_type": "stream",
     "text": [
      "14:31:12 - cmdstanpy - INFO - Chain [1] done processing\n",
      "14:31:12 - cmdstanpy - INFO - Chain [1] start processing\n"
     ]
    },
    {
     "name": "stdout",
     "output_type": "stream",
     "text": [
      "--------------------------------------------------------------------------------------------------\n",
      "try 78 -- Mean Absolute Percentage Error(MAPE)------------------------------------ 14.55429739616337\n"
     ]
    },
    {
     "name": "stderr",
     "output_type": "stream",
     "text": [
      "14:31:12 - cmdstanpy - INFO - Chain [1] done processing\n",
      "14:31:12 - cmdstanpy - INFO - Chain [1] start processing\n"
     ]
    },
    {
     "name": "stdout",
     "output_type": "stream",
     "text": [
      "--------------------------------------------------------------------------------------------------\n",
      "try 79 -- Mean Absolute Percentage Error(MAPE)------------------------------------ 16.486080974587907\n"
     ]
    },
    {
     "name": "stderr",
     "output_type": "stream",
     "text": [
      "14:31:12 - cmdstanpy - INFO - Chain [1] done processing\n",
      "14:31:13 - cmdstanpy - INFO - Chain [1] start processing\n"
     ]
    },
    {
     "name": "stdout",
     "output_type": "stream",
     "text": [
      "--------------------------------------------------------------------------------------------------\n",
      "try 80 -- Mean Absolute Percentage Error(MAPE)------------------------------------ 22.876765847319724\n"
     ]
    },
    {
     "name": "stderr",
     "output_type": "stream",
     "text": [
      "14:31:13 - cmdstanpy - INFO - Chain [1] done processing\n",
      "14:31:13 - cmdstanpy - INFO - Chain [1] start processing\n"
     ]
    },
    {
     "name": "stdout",
     "output_type": "stream",
     "text": [
      "--------------------------------------------------------------------------------------------------\n",
      "try 81 -- Mean Absolute Percentage Error(MAPE)------------------------------------ 20.246999239576628\n"
     ]
    },
    {
     "name": "stderr",
     "output_type": "stream",
     "text": [
      "14:31:13 - cmdstanpy - INFO - Chain [1] done processing\n",
      "14:31:13 - cmdstanpy - INFO - Chain [1] start processing\n"
     ]
    },
    {
     "name": "stdout",
     "output_type": "stream",
     "text": [
      "--------------------------------------------------------------------------------------------------\n",
      "try 82 -- Mean Absolute Percentage Error(MAPE)------------------------------------ 18.776355502723383\n"
     ]
    },
    {
     "name": "stderr",
     "output_type": "stream",
     "text": [
      "14:31:14 - cmdstanpy - INFO - Chain [1] done processing\n",
      "14:31:14 - cmdstanpy - INFO - Chain [1] start processing\n"
     ]
    },
    {
     "name": "stdout",
     "output_type": "stream",
     "text": [
      "--------------------------------------------------------------------------------------------------\n",
      "try 83 -- Mean Absolute Percentage Error(MAPE)------------------------------------ 15.971168232385487\n"
     ]
    },
    {
     "name": "stderr",
     "output_type": "stream",
     "text": [
      "14:31:14 - cmdstanpy - INFO - Chain [1] done processing\n",
      "14:31:14 - cmdstanpy - INFO - Chain [1] start processing\n"
     ]
    },
    {
     "name": "stdout",
     "output_type": "stream",
     "text": [
      "--------------------------------------------------------------------------------------------------\n",
      "try 84 -- Mean Absolute Percentage Error(MAPE)------------------------------------ 13.083659364425259\n"
     ]
    },
    {
     "name": "stderr",
     "output_type": "stream",
     "text": [
      "14:31:14 - cmdstanpy - INFO - Chain [1] done processing\n",
      "14:31:15 - cmdstanpy - INFO - Chain [1] start processing\n"
     ]
    },
    {
     "name": "stdout",
     "output_type": "stream",
     "text": [
      "--------------------------------------------------------------------------------------------------\n",
      "try 85 -- Mean Absolute Percentage Error(MAPE)------------------------------------ 11.639037439524794\n"
     ]
    },
    {
     "name": "stderr",
     "output_type": "stream",
     "text": [
      "14:31:15 - cmdstanpy - INFO - Chain [1] done processing\n",
      "14:31:15 - cmdstanpy - INFO - Chain [1] start processing\n"
     ]
    },
    {
     "name": "stdout",
     "output_type": "stream",
     "text": [
      "--------------------------------------------------------------------------------------------------\n",
      "try 86 -- Mean Absolute Percentage Error(MAPE)------------------------------------ 7.897713717512107\n"
     ]
    },
    {
     "name": "stderr",
     "output_type": "stream",
     "text": [
      "14:31:15 - cmdstanpy - INFO - Chain [1] done processing\n",
      "14:31:15 - cmdstanpy - INFO - Chain [1] start processing\n"
     ]
    },
    {
     "name": "stdout",
     "output_type": "stream",
     "text": [
      "--------------------------------------------------------------------------------------------------\n",
      "try 87 -- Mean Absolute Percentage Error(MAPE)------------------------------------ 7.580124644058432\n"
     ]
    },
    {
     "name": "stderr",
     "output_type": "stream",
     "text": [
      "14:31:16 - cmdstanpy - INFO - Chain [1] done processing\n",
      "14:31:16 - cmdstanpy - INFO - Chain [1] start processing\n"
     ]
    },
    {
     "name": "stdout",
     "output_type": "stream",
     "text": [
      "--------------------------------------------------------------------------------------------------\n",
      "try 88 -- Mean Absolute Percentage Error(MAPE)------------------------------------ 7.528473079089379\n"
     ]
    },
    {
     "name": "stderr",
     "output_type": "stream",
     "text": [
      "14:31:16 - cmdstanpy - INFO - Chain [1] done processing\n",
      "14:31:16 - cmdstanpy - INFO - Chain [1] start processing\n"
     ]
    },
    {
     "name": "stdout",
     "output_type": "stream",
     "text": [
      "--------------------------------------------------------------------------------------------------\n",
      "try 89 -- Mean Absolute Percentage Error(MAPE)------------------------------------ 7.624809620251885\n"
     ]
    },
    {
     "name": "stderr",
     "output_type": "stream",
     "text": [
      "14:31:17 - cmdstanpy - INFO - Chain [1] done processing\n",
      "14:31:17 - cmdstanpy - INFO - Chain [1] start processing\n"
     ]
    },
    {
     "name": "stdout",
     "output_type": "stream",
     "text": [
      "--------------------------------------------------------------------------------------------------\n",
      "try 90 -- Mean Absolute Percentage Error(MAPE)------------------------------------ 8.146582123249257\n"
     ]
    },
    {
     "name": "stderr",
     "output_type": "stream",
     "text": [
      "14:31:18 - cmdstanpy - INFO - Chain [1] done processing\n",
      "14:31:19 - cmdstanpy - INFO - Chain [1] start processing\n"
     ]
    },
    {
     "name": "stdout",
     "output_type": "stream",
     "text": [
      "--------------------------------------------------------------------------------------------------\n",
      "try 91 -- Mean Absolute Percentage Error(MAPE)------------------------------------ 10.426757919022293\n"
     ]
    },
    {
     "name": "stderr",
     "output_type": "stream",
     "text": [
      "14:31:19 - cmdstanpy - INFO - Chain [1] done processing\n"
     ]
    },
    {
     "name": "stdout",
     "output_type": "stream",
     "text": [
      "--------------------------------------------------------------------------------------------------\n",
      "try 92 -- Mean Absolute Percentage Error(MAPE)------------------------------------ 14.43124507123581\n"
     ]
    },
    {
     "name": "stderr",
     "output_type": "stream",
     "text": [
      "14:31:19 - cmdstanpy - INFO - Chain [1] start processing\n",
      "14:31:20 - cmdstanpy - INFO - Chain [1] done processing\n"
     ]
    },
    {
     "name": "stdout",
     "output_type": "stream",
     "text": [
      "--------------------------------------------------------------------------------------------------\n",
      "try 93 -- Mean Absolute Percentage Error(MAPE)------------------------------------ 15.585930272473197\n"
     ]
    },
    {
     "name": "stderr",
     "output_type": "stream",
     "text": [
      "14:31:20 - cmdstanpy - INFO - Chain [1] start processing\n",
      "14:31:21 - cmdstanpy - INFO - Chain [1] done processing\n"
     ]
    },
    {
     "name": "stdout",
     "output_type": "stream",
     "text": [
      "--------------------------------------------------------------------------------------------------\n",
      "try 94 -- Mean Absolute Percentage Error(MAPE)------------------------------------ 16.849380257487457\n"
     ]
    },
    {
     "name": "stderr",
     "output_type": "stream",
     "text": [
      "14:31:21 - cmdstanpy - INFO - Chain [1] start processing\n",
      "14:31:21 - cmdstanpy - INFO - Chain [1] done processing\n",
      "14:31:21 - cmdstanpy - INFO - Chain [1] start processing\n"
     ]
    },
    {
     "name": "stdout",
     "output_type": "stream",
     "text": [
      "--------------------------------------------------------------------------------------------------\n",
      "try 95 -- Mean Absolute Percentage Error(MAPE)------------------------------------ 16.683544563582192\n"
     ]
    },
    {
     "name": "stderr",
     "output_type": "stream",
     "text": [
      "14:31:22 - cmdstanpy - INFO - Chain [1] done processing\n",
      "14:31:22 - cmdstanpy - INFO - Chain [1] start processing\n"
     ]
    },
    {
     "name": "stdout",
     "output_type": "stream",
     "text": [
      "--------------------------------------------------------------------------------------------------\n",
      "try 96 -- Mean Absolute Percentage Error(MAPE)------------------------------------ 16.820951371722558\n"
     ]
    },
    {
     "name": "stderr",
     "output_type": "stream",
     "text": [
      "14:31:22 - cmdstanpy - INFO - Chain [1] done processing\n"
     ]
    },
    {
     "name": "stdout",
     "output_type": "stream",
     "text": [
      "--------------------------------------------------------------------------------------------------\n",
      "try 97 -- Mean Absolute Percentage Error(MAPE)------------------------------------ 21.561103185956974\n"
     ]
    },
    {
     "name": "stderr",
     "output_type": "stream",
     "text": [
      "14:31:23 - cmdstanpy - INFO - Chain [1] start processing\n",
      "14:31:23 - cmdstanpy - INFO - Chain [1] done processing\n",
      "14:31:23 - cmdstanpy - INFO - Chain [1] start processing\n"
     ]
    },
    {
     "name": "stdout",
     "output_type": "stream",
     "text": [
      "--------------------------------------------------------------------------------------------------\n",
      "try 98 -- Mean Absolute Percentage Error(MAPE)------------------------------------ 20.136389623921865\n"
     ]
    },
    {
     "name": "stderr",
     "output_type": "stream",
     "text": [
      "14:31:24 - cmdstanpy - INFO - Chain [1] done processing\n"
     ]
    },
    {
     "name": "stdout",
     "output_type": "stream",
     "text": [
      "--------------------------------------------------------------------------------------------------\n",
      "try 99 -- Mean Absolute Percentage Error(MAPE)------------------------------------ 19.33776015246794\n"
     ]
    },
    {
     "name": "stderr",
     "output_type": "stream",
     "text": [
      "14:31:24 - cmdstanpy - INFO - Chain [1] start processing\n",
      "14:31:24 - cmdstanpy - INFO - Chain [1] done processing\n",
      "14:31:24 - cmdstanpy - INFO - Chain [1] start processing\n"
     ]
    },
    {
     "name": "stdout",
     "output_type": "stream",
     "text": [
      "--------------------------------------------------------------------------------------------------\n",
      "try 100 -- Mean Absolute Percentage Error(MAPE)------------------------------------ 18.613599219724026\n"
     ]
    },
    {
     "name": "stderr",
     "output_type": "stream",
     "text": [
      "14:31:25 - cmdstanpy - INFO - Chain [1] done processing\n",
      "14:31:25 - cmdstanpy - INFO - Chain [1] start processing\n"
     ]
    },
    {
     "name": "stdout",
     "output_type": "stream",
     "text": [
      "--------------------------------------------------------------------------------------------------\n",
      "try 101 -- Mean Absolute Percentage Error(MAPE)------------------------------------ 17.299596286581647\n"
     ]
    },
    {
     "name": "stderr",
     "output_type": "stream",
     "text": [
      "14:31:25 - cmdstanpy - INFO - Chain [1] done processing\n",
      "14:31:25 - cmdstanpy - INFO - Chain [1] start processing\n"
     ]
    },
    {
     "name": "stdout",
     "output_type": "stream",
     "text": [
      "--------------------------------------------------------------------------------------------------\n",
      "try 102 -- Mean Absolute Percentage Error(MAPE)------------------------------------ 12.226540393855652\n"
     ]
    },
    {
     "name": "stderr",
     "output_type": "stream",
     "text": [
      "14:31:25 - cmdstanpy - INFO - Chain [1] done processing\n",
      "14:31:26 - cmdstanpy - INFO - Chain [1] start processing\n"
     ]
    },
    {
     "name": "stdout",
     "output_type": "stream",
     "text": [
      "--------------------------------------------------------------------------------------------------\n",
      "try 103 -- Mean Absolute Percentage Error(MAPE)------------------------------------ 8.915708398065316\n"
     ]
    },
    {
     "name": "stderr",
     "output_type": "stream",
     "text": [
      "14:31:26 - cmdstanpy - INFO - Chain [1] done processing\n",
      "14:31:26 - cmdstanpy - INFO - Chain [1] start processing\n"
     ]
    },
    {
     "name": "stdout",
     "output_type": "stream",
     "text": [
      "--------------------------------------------------------------------------------------------------\n",
      "try 104 -- Mean Absolute Percentage Error(MAPE)------------------------------------ 8.646993082391823\n"
     ]
    },
    {
     "name": "stderr",
     "output_type": "stream",
     "text": [
      "14:31:26 - cmdstanpy - INFO - Chain [1] done processing\n",
      "14:31:26 - cmdstanpy - INFO - Chain [1] start processing\n"
     ]
    },
    {
     "name": "stdout",
     "output_type": "stream",
     "text": [
      "--------------------------------------------------------------------------------------------------\n",
      "try 105 -- Mean Absolute Percentage Error(MAPE)------------------------------------ 8.707160546406875\n"
     ]
    },
    {
     "name": "stderr",
     "output_type": "stream",
     "text": [
      "14:31:27 - cmdstanpy - INFO - Chain [1] done processing\n",
      "14:31:27 - cmdstanpy - INFO - Chain [1] start processing\n"
     ]
    },
    {
     "name": "stdout",
     "output_type": "stream",
     "text": [
      "--------------------------------------------------------------------------------------------------\n",
      "try 106 -- Mean Absolute Percentage Error(MAPE)------------------------------------ 8.674371935274433\n"
     ]
    },
    {
     "name": "stderr",
     "output_type": "stream",
     "text": [
      "14:31:27 - cmdstanpy - INFO - Chain [1] done processing\n",
      "14:31:27 - cmdstanpy - INFO - Chain [1] start processing\n"
     ]
    },
    {
     "name": "stdout",
     "output_type": "stream",
     "text": [
      "--------------------------------------------------------------------------------------------------\n",
      "try 107 -- Mean Absolute Percentage Error(MAPE)------------------------------------ 9.079596586956091\n"
     ]
    },
    {
     "name": "stderr",
     "output_type": "stream",
     "text": [
      "14:31:27 - cmdstanpy - INFO - Chain [1] done processing\n",
      "14:31:27 - cmdstanpy - INFO - Chain [1] start processing\n"
     ]
    },
    {
     "name": "stdout",
     "output_type": "stream",
     "text": [
      "--------------------------------------------------------------------------------------------------\n",
      "try 108 -- Mean Absolute Percentage Error(MAPE)------------------------------------ 10.493932778675902\n"
     ]
    },
    {
     "name": "stderr",
     "output_type": "stream",
     "text": [
      "14:31:28 - cmdstanpy - INFO - Chain [1] done processing\n",
      "14:31:28 - cmdstanpy - INFO - Chain [1] start processing\n"
     ]
    },
    {
     "name": "stdout",
     "output_type": "stream",
     "text": [
      "--------------------------------------------------------------------------------------------------\n",
      "try 109 -- Mean Absolute Percentage Error(MAPE)------------------------------------ 12.464415661259789\n"
     ]
    },
    {
     "name": "stderr",
     "output_type": "stream",
     "text": [
      "14:31:28 - cmdstanpy - INFO - Chain [1] done processing\n",
      "14:31:28 - cmdstanpy - INFO - Chain [1] start processing\n"
     ]
    },
    {
     "name": "stdout",
     "output_type": "stream",
     "text": [
      "--------------------------------------------------------------------------------------------------\n",
      "try 110 -- Mean Absolute Percentage Error(MAPE)------------------------------------ 14.552900618073721\n"
     ]
    },
    {
     "name": "stderr",
     "output_type": "stream",
     "text": [
      "14:31:28 - cmdstanpy - INFO - Chain [1] done processing\n",
      "14:31:29 - cmdstanpy - INFO - Chain [1] start processing\n"
     ]
    },
    {
     "name": "stdout",
     "output_type": "stream",
     "text": [
      "--------------------------------------------------------------------------------------------------\n",
      "try 111 -- Mean Absolute Percentage Error(MAPE)------------------------------------ 16.484583876291182\n"
     ]
    },
    {
     "name": "stderr",
     "output_type": "stream",
     "text": [
      "14:31:29 - cmdstanpy - INFO - Chain [1] done processing\n",
      "14:31:29 - cmdstanpy - INFO - Chain [1] start processing\n"
     ]
    },
    {
     "name": "stdout",
     "output_type": "stream",
     "text": [
      "--------------------------------------------------------------------------------------------------\n",
      "try 112 -- Mean Absolute Percentage Error(MAPE)------------------------------------ 22.896810107938805\n"
     ]
    },
    {
     "name": "stderr",
     "output_type": "stream",
     "text": [
      "14:31:29 - cmdstanpy - INFO - Chain [1] done processing\n",
      "14:31:29 - cmdstanpy - INFO - Chain [1] start processing\n"
     ]
    },
    {
     "name": "stdout",
     "output_type": "stream",
     "text": [
      "--------------------------------------------------------------------------------------------------\n",
      "try 113 -- Mean Absolute Percentage Error(MAPE)------------------------------------ 20.27190594354179\n"
     ]
    },
    {
     "name": "stderr",
     "output_type": "stream",
     "text": [
      "14:31:30 - cmdstanpy - INFO - Chain [1] done processing\n",
      "14:31:30 - cmdstanpy - INFO - Chain [1] start processing\n"
     ]
    },
    {
     "name": "stdout",
     "output_type": "stream",
     "text": [
      "--------------------------------------------------------------------------------------------------\n",
      "try 114 -- Mean Absolute Percentage Error(MAPE)------------------------------------ 18.773485537601495\n"
     ]
    },
    {
     "name": "stderr",
     "output_type": "stream",
     "text": [
      "14:31:30 - cmdstanpy - INFO - Chain [1] done processing\n",
      "14:31:30 - cmdstanpy - INFO - Chain [1] start processing\n"
     ]
    },
    {
     "name": "stdout",
     "output_type": "stream",
     "text": [
      "--------------------------------------------------------------------------------------------------\n",
      "try 115 -- Mean Absolute Percentage Error(MAPE)------------------------------------ 15.966040258566197\n"
     ]
    },
    {
     "name": "stderr",
     "output_type": "stream",
     "text": [
      "14:31:30 - cmdstanpy - INFO - Chain [1] done processing\n",
      "14:31:31 - cmdstanpy - INFO - Chain [1] start processing\n"
     ]
    },
    {
     "name": "stdout",
     "output_type": "stream",
     "text": [
      "--------------------------------------------------------------------------------------------------\n",
      "try 116 -- Mean Absolute Percentage Error(MAPE)------------------------------------ 13.087790884025782\n"
     ]
    },
    {
     "name": "stderr",
     "output_type": "stream",
     "text": [
      "14:31:31 - cmdstanpy - INFO - Chain [1] done processing\n",
      "14:31:31 - cmdstanpy - INFO - Chain [1] start processing\n"
     ]
    },
    {
     "name": "stdout",
     "output_type": "stream",
     "text": [
      "--------------------------------------------------------------------------------------------------\n",
      "try 117 -- Mean Absolute Percentage Error(MAPE)------------------------------------ 11.612642888485464\n"
     ]
    },
    {
     "name": "stderr",
     "output_type": "stream",
     "text": [
      "14:31:31 - cmdstanpy - INFO - Chain [1] done processing\n",
      "14:31:32 - cmdstanpy - INFO - Chain [1] start processing\n"
     ]
    },
    {
     "name": "stdout",
     "output_type": "stream",
     "text": [
      "--------------------------------------------------------------------------------------------------\n",
      "try 118 -- Mean Absolute Percentage Error(MAPE)------------------------------------ 7.898495786386888\n"
     ]
    },
    {
     "name": "stderr",
     "output_type": "stream",
     "text": [
      "14:31:32 - cmdstanpy - INFO - Chain [1] done processing\n",
      "14:31:32 - cmdstanpy - INFO - Chain [1] start processing\n"
     ]
    },
    {
     "name": "stdout",
     "output_type": "stream",
     "text": [
      "--------------------------------------------------------------------------------------------------\n",
      "try 119 -- Mean Absolute Percentage Error(MAPE)------------------------------------ 7.582968277520812\n"
     ]
    },
    {
     "name": "stderr",
     "output_type": "stream",
     "text": [
      "14:31:32 - cmdstanpy - INFO - Chain [1] done processing\n",
      "14:31:32 - cmdstanpy - INFO - Chain [1] start processing\n"
     ]
    },
    {
     "name": "stdout",
     "output_type": "stream",
     "text": [
      "--------------------------------------------------------------------------------------------------\n",
      "try 120 -- Mean Absolute Percentage Error(MAPE)------------------------------------ 7.52551861298273\n"
     ]
    },
    {
     "name": "stderr",
     "output_type": "stream",
     "text": [
      "14:31:33 - cmdstanpy - INFO - Chain [1] done processing\n",
      "14:31:33 - cmdstanpy - INFO - Chain [1] start processing\n"
     ]
    },
    {
     "name": "stdout",
     "output_type": "stream",
     "text": [
      "--------------------------------------------------------------------------------------------------\n",
      "try 121 -- Mean Absolute Percentage Error(MAPE)------------------------------------ 7.641074302535202\n"
     ]
    },
    {
     "name": "stderr",
     "output_type": "stream",
     "text": [
      "14:31:33 - cmdstanpy - INFO - Chain [1] done processing\n",
      "14:31:33 - cmdstanpy - INFO - Chain [1] start processing\n"
     ]
    },
    {
     "name": "stdout",
     "output_type": "stream",
     "text": [
      "--------------------------------------------------------------------------------------------------\n",
      "try 122 -- Mean Absolute Percentage Error(MAPE)------------------------------------ 8.166533495453443\n"
     ]
    },
    {
     "name": "stderr",
     "output_type": "stream",
     "text": [
      "14:31:34 - cmdstanpy - INFO - Chain [1] done processing\n",
      "14:31:34 - cmdstanpy - INFO - Chain [1] start processing\n"
     ]
    },
    {
     "name": "stdout",
     "output_type": "stream",
     "text": [
      "--------------------------------------------------------------------------------------------------\n",
      "try 123 -- Mean Absolute Percentage Error(MAPE)------------------------------------ 10.669265746117055\n"
     ]
    },
    {
     "name": "stderr",
     "output_type": "stream",
     "text": [
      "14:31:34 - cmdstanpy - INFO - Chain [1] done processing\n",
      "14:31:34 - cmdstanpy - INFO - Chain [1] start processing\n"
     ]
    },
    {
     "name": "stdout",
     "output_type": "stream",
     "text": [
      "--------------------------------------------------------------------------------------------------\n",
      "try 124 -- Mean Absolute Percentage Error(MAPE)------------------------------------ 14.268087770617521\n"
     ]
    },
    {
     "name": "stderr",
     "output_type": "stream",
     "text": [
      "14:31:34 - cmdstanpy - INFO - Chain [1] done processing\n",
      "14:31:35 - cmdstanpy - INFO - Chain [1] start processing\n"
     ]
    },
    {
     "name": "stdout",
     "output_type": "stream",
     "text": [
      "--------------------------------------------------------------------------------------------------\n",
      "try 125 -- Mean Absolute Percentage Error(MAPE)------------------------------------ 15.591110282123463\n"
     ]
    },
    {
     "name": "stderr",
     "output_type": "stream",
     "text": [
      "14:31:35 - cmdstanpy - INFO - Chain [1] done processing\n",
      "14:31:35 - cmdstanpy - INFO - Chain [1] start processing\n"
     ]
    },
    {
     "name": "stdout",
     "output_type": "stream",
     "text": [
      "--------------------------------------------------------------------------------------------------\n",
      "try 126 -- Mean Absolute Percentage Error(MAPE)------------------------------------ 16.913149768938503\n"
     ]
    },
    {
     "name": "stderr",
     "output_type": "stream",
     "text": [
      "14:31:35 - cmdstanpy - INFO - Chain [1] done processing\n",
      "14:31:36 - cmdstanpy - INFO - Chain [1] start processing\n"
     ]
    },
    {
     "name": "stdout",
     "output_type": "stream",
     "text": [
      "--------------------------------------------------------------------------------------------------\n",
      "try 127 -- Mean Absolute Percentage Error(MAPE)------------------------------------ 16.643957566242918\n"
     ]
    },
    {
     "name": "stderr",
     "output_type": "stream",
     "text": [
      "14:31:36 - cmdstanpy - INFO - Chain [1] done processing\n",
      "14:31:36 - cmdstanpy - INFO - Chain [1] start processing\n"
     ]
    },
    {
     "name": "stdout",
     "output_type": "stream",
     "text": [
      "--------------------------------------------------------------------------------------------------\n",
      "try 128 -- Mean Absolute Percentage Error(MAPE)------------------------------------ 16.818581214894554\n"
     ]
    },
    {
     "name": "stderr",
     "output_type": "stream",
     "text": [
      "14:31:36 - cmdstanpy - INFO - Chain [1] done processing\n"
     ]
    },
    {
     "name": "stdout",
     "output_type": "stream",
     "text": [
      "--------------------------------------------------------------------------------------------------\n",
      "try 129 -- Mean Absolute Percentage Error(MAPE)------------------------------------ 19.551478875113148\n"
     ]
    },
    {
     "name": "stderr",
     "output_type": "stream",
     "text": [
      "14:31:37 - cmdstanpy - INFO - Chain [1] start processing\n",
      "14:31:37 - cmdstanpy - INFO - Chain [1] done processing\n",
      "14:31:37 - cmdstanpy - INFO - Chain [1] start processing\n"
     ]
    },
    {
     "name": "stdout",
     "output_type": "stream",
     "text": [
      "--------------------------------------------------------------------------------------------------\n",
      "try 130 -- Mean Absolute Percentage Error(MAPE)------------------------------------ 18.98901944851995\n"
     ]
    },
    {
     "name": "stderr",
     "output_type": "stream",
     "text": [
      "14:31:38 - cmdstanpy - INFO - Chain [1] done processing\n",
      "14:31:38 - cmdstanpy - INFO - Chain [1] start processing\n"
     ]
    },
    {
     "name": "stdout",
     "output_type": "stream",
     "text": [
      "--------------------------------------------------------------------------------------------------\n",
      "try 131 -- Mean Absolute Percentage Error(MAPE)------------------------------------ 18.425960502827394\n"
     ]
    },
    {
     "name": "stderr",
     "output_type": "stream",
     "text": [
      "14:31:38 - cmdstanpy - INFO - Chain [1] done processing\n",
      "14:31:38 - cmdstanpy - INFO - Chain [1] start processing\n"
     ]
    },
    {
     "name": "stdout",
     "output_type": "stream",
     "text": [
      "--------------------------------------------------------------------------------------------------\n",
      "try 132 -- Mean Absolute Percentage Error(MAPE)------------------------------------ 18.62522258314795\n"
     ]
    },
    {
     "name": "stderr",
     "output_type": "stream",
     "text": [
      "14:31:38 - cmdstanpy - INFO - Chain [1] done processing\n",
      "14:31:39 - cmdstanpy - INFO - Chain [1] start processing\n"
     ]
    },
    {
     "name": "stdout",
     "output_type": "stream",
     "text": [
      "--------------------------------------------------------------------------------------------------\n",
      "try 133 -- Mean Absolute Percentage Error(MAPE)------------------------------------ 17.311774166448508\n"
     ]
    },
    {
     "name": "stderr",
     "output_type": "stream",
     "text": [
      "14:31:39 - cmdstanpy - INFO - Chain [1] done processing\n",
      "14:31:39 - cmdstanpy - INFO - Chain [1] start processing\n"
     ]
    },
    {
     "name": "stdout",
     "output_type": "stream",
     "text": [
      "--------------------------------------------------------------------------------------------------\n",
      "try 134 -- Mean Absolute Percentage Error(MAPE)------------------------------------ 12.23763882740864\n"
     ]
    },
    {
     "name": "stderr",
     "output_type": "stream",
     "text": [
      "14:31:39 - cmdstanpy - INFO - Chain [1] done processing\n",
      "14:31:39 - cmdstanpy - INFO - Chain [1] start processing\n"
     ]
    },
    {
     "name": "stdout",
     "output_type": "stream",
     "text": [
      "--------------------------------------------------------------------------------------------------\n",
      "try 135 -- Mean Absolute Percentage Error(MAPE)------------------------------------ 8.898748069119126\n"
     ]
    },
    {
     "name": "stderr",
     "output_type": "stream",
     "text": [
      "14:31:39 - cmdstanpy - INFO - Chain [1] done processing\n",
      "14:31:40 - cmdstanpy - INFO - Chain [1] start processing\n"
     ]
    },
    {
     "name": "stdout",
     "output_type": "stream",
     "text": [
      "--------------------------------------------------------------------------------------------------\n",
      "try 136 -- Mean Absolute Percentage Error(MAPE)------------------------------------ 8.64708207501377\n"
     ]
    },
    {
     "name": "stderr",
     "output_type": "stream",
     "text": [
      "14:31:40 - cmdstanpy - INFO - Chain [1] done processing\n",
      "14:31:40 - cmdstanpy - INFO - Chain [1] start processing\n"
     ]
    },
    {
     "name": "stdout",
     "output_type": "stream",
     "text": [
      "--------------------------------------------------------------------------------------------------\n",
      "try 137 -- Mean Absolute Percentage Error(MAPE)------------------------------------ 8.701049686200498\n"
     ]
    },
    {
     "name": "stderr",
     "output_type": "stream",
     "text": [
      "14:31:40 - cmdstanpy - INFO - Chain [1] done processing\n",
      "14:31:41 - cmdstanpy - INFO - Chain [1] start processing\n"
     ]
    },
    {
     "name": "stdout",
     "output_type": "stream",
     "text": [
      "--------------------------------------------------------------------------------------------------\n",
      "try 138 -- Mean Absolute Percentage Error(MAPE)------------------------------------ 8.668814744759176\n"
     ]
    },
    {
     "name": "stderr",
     "output_type": "stream",
     "text": [
      "14:31:41 - cmdstanpy - INFO - Chain [1] done processing\n",
      "14:31:41 - cmdstanpy - INFO - Chain [1] start processing\n"
     ]
    },
    {
     "name": "stdout",
     "output_type": "stream",
     "text": [
      "--------------------------------------------------------------------------------------------------\n",
      "try 139 -- Mean Absolute Percentage Error(MAPE)------------------------------------ 9.08031257920062\n"
     ]
    },
    {
     "name": "stderr",
     "output_type": "stream",
     "text": [
      "14:31:41 - cmdstanpy - INFO - Chain [1] done processing\n",
      "14:31:41 - cmdstanpy - INFO - Chain [1] start processing\n"
     ]
    },
    {
     "name": "stdout",
     "output_type": "stream",
     "text": [
      "--------------------------------------------------------------------------------------------------\n",
      "try 140 -- Mean Absolute Percentage Error(MAPE)------------------------------------ 10.494538052966732\n"
     ]
    },
    {
     "name": "stderr",
     "output_type": "stream",
     "text": [
      "14:31:41 - cmdstanpy - INFO - Chain [1] done processing\n",
      "14:31:42 - cmdstanpy - INFO - Chain [1] start processing\n"
     ]
    },
    {
     "name": "stdout",
     "output_type": "stream",
     "text": [
      "--------------------------------------------------------------------------------------------------\n",
      "try 141 -- Mean Absolute Percentage Error(MAPE)------------------------------------ 12.464874292486014\n"
     ]
    },
    {
     "name": "stderr",
     "output_type": "stream",
     "text": [
      "14:31:42 - cmdstanpy - INFO - Chain [1] done processing\n",
      "14:31:42 - cmdstanpy - INFO - Chain [1] start processing\n"
     ]
    },
    {
     "name": "stdout",
     "output_type": "stream",
     "text": [
      "--------------------------------------------------------------------------------------------------\n",
      "try 142 -- Mean Absolute Percentage Error(MAPE)------------------------------------ 14.552018620804835\n"
     ]
    },
    {
     "name": "stderr",
     "output_type": "stream",
     "text": [
      "14:31:42 - cmdstanpy - INFO - Chain [1] done processing\n",
      "14:31:43 - cmdstanpy - INFO - Chain [1] start processing\n"
     ]
    },
    {
     "name": "stdout",
     "output_type": "stream",
     "text": [
      "--------------------------------------------------------------------------------------------------\n",
      "try 143 -- Mean Absolute Percentage Error(MAPE)------------------------------------ 16.48209088096469\n"
     ]
    },
    {
     "name": "stderr",
     "output_type": "stream",
     "text": [
      "14:31:43 - cmdstanpy - INFO - Chain [1] done processing\n",
      "14:31:43 - cmdstanpy - INFO - Chain [1] start processing\n"
     ]
    },
    {
     "name": "stdout",
     "output_type": "stream",
     "text": [
      "--------------------------------------------------------------------------------------------------\n",
      "try 144 -- Mean Absolute Percentage Error(MAPE)------------------------------------ 22.886532735728053\n"
     ]
    },
    {
     "name": "stderr",
     "output_type": "stream",
     "text": [
      "14:31:44 - cmdstanpy - INFO - Chain [1] done processing\n",
      "14:31:44 - cmdstanpy - INFO - Chain [1] start processing\n"
     ]
    },
    {
     "name": "stdout",
     "output_type": "stream",
     "text": [
      "--------------------------------------------------------------------------------------------------\n",
      "try 145 -- Mean Absolute Percentage Error(MAPE)------------------------------------ 18.91707746022188\n"
     ]
    },
    {
     "name": "stderr",
     "output_type": "stream",
     "text": [
      "14:31:44 - cmdstanpy - INFO - Chain [1] done processing\n",
      "14:31:44 - cmdstanpy - INFO - Chain [1] start processing\n"
     ]
    },
    {
     "name": "stdout",
     "output_type": "stream",
     "text": [
      "--------------------------------------------------------------------------------------------------\n",
      "try 146 -- Mean Absolute Percentage Error(MAPE)------------------------------------ 18.735440344224916\n"
     ]
    },
    {
     "name": "stderr",
     "output_type": "stream",
     "text": [
      "14:31:44 - cmdstanpy - INFO - Chain [1] done processing\n"
     ]
    },
    {
     "name": "stdout",
     "output_type": "stream",
     "text": [
      "--------------------------------------------------------------------------------------------------\n",
      "try 147 -- Mean Absolute Percentage Error(MAPE)------------------------------------ 15.945859055545423\n"
     ]
    },
    {
     "name": "stderr",
     "output_type": "stream",
     "text": [
      "14:31:45 - cmdstanpy - INFO - Chain [1] start processing\n",
      "14:31:45 - cmdstanpy - INFO - Chain [1] done processing\n",
      "14:31:45 - cmdstanpy - INFO - Chain [1] start processing\n"
     ]
    },
    {
     "name": "stdout",
     "output_type": "stream",
     "text": [
      "--------------------------------------------------------------------------------------------------\n",
      "try 148 -- Mean Absolute Percentage Error(MAPE)------------------------------------ 13.088295812672929\n"
     ]
    },
    {
     "name": "stderr",
     "output_type": "stream",
     "text": [
      "14:31:45 - cmdstanpy - INFO - Chain [1] done processing\n",
      "14:31:45 - cmdstanpy - INFO - Chain [1] start processing\n"
     ]
    },
    {
     "name": "stdout",
     "output_type": "stream",
     "text": [
      "--------------------------------------------------------------------------------------------------\n",
      "try 149 -- Mean Absolute Percentage Error(MAPE)------------------------------------ 11.653592834938655\n"
     ]
    },
    {
     "name": "stderr",
     "output_type": "stream",
     "text": [
      "14:31:46 - cmdstanpy - INFO - Chain [1] done processing\n",
      "14:31:46 - cmdstanpy - INFO - Chain [1] start processing\n"
     ]
    },
    {
     "name": "stdout",
     "output_type": "stream",
     "text": [
      "--------------------------------------------------------------------------------------------------\n",
      "try 150 -- Mean Absolute Percentage Error(MAPE)------------------------------------ 8.081217390183781\n"
     ]
    },
    {
     "name": "stderr",
     "output_type": "stream",
     "text": [
      "14:31:46 - cmdstanpy - INFO - Chain [1] done processing\n",
      "14:31:46 - cmdstanpy - INFO - Chain [1] start processing\n"
     ]
    },
    {
     "name": "stdout",
     "output_type": "stream",
     "text": [
      "--------------------------------------------------------------------------------------------------\n",
      "try 151 -- Mean Absolute Percentage Error(MAPE)------------------------------------ 7.584500466087074\n"
     ]
    },
    {
     "name": "stderr",
     "output_type": "stream",
     "text": [
      "14:31:46 - cmdstanpy - INFO - Chain [1] done processing\n",
      "14:31:46 - cmdstanpy - INFO - Chain [1] start processing\n"
     ]
    },
    {
     "name": "stdout",
     "output_type": "stream",
     "text": [
      "--------------------------------------------------------------------------------------------------\n",
      "try 152 -- Mean Absolute Percentage Error(MAPE)------------------------------------ 7.652792723465359\n"
     ]
    },
    {
     "name": "stderr",
     "output_type": "stream",
     "text": [
      "14:31:47 - cmdstanpy - INFO - Chain [1] done processing\n",
      "14:31:47 - cmdstanpy - INFO - Chain [1] start processing\n"
     ]
    },
    {
     "name": "stdout",
     "output_type": "stream",
     "text": [
      "--------------------------------------------------------------------------------------------------\n",
      "try 153 -- Mean Absolute Percentage Error(MAPE)------------------------------------ 7.635414805034946\n"
     ]
    },
    {
     "name": "stderr",
     "output_type": "stream",
     "text": [
      "14:31:47 - cmdstanpy - INFO - Chain [1] done processing\n",
      "14:31:47 - cmdstanpy - INFO - Chain [1] start processing\n"
     ]
    },
    {
     "name": "stdout",
     "output_type": "stream",
     "text": [
      "--------------------------------------------------------------------------------------------------\n",
      "try 154 -- Mean Absolute Percentage Error(MAPE)------------------------------------ 8.08733408727447\n"
     ]
    },
    {
     "name": "stderr",
     "output_type": "stream",
     "text": [
      "14:31:47 - cmdstanpy - INFO - Chain [1] done processing\n",
      "14:31:48 - cmdstanpy - INFO - Chain [1] start processing\n"
     ]
    },
    {
     "name": "stdout",
     "output_type": "stream",
     "text": [
      "--------------------------------------------------------------------------------------------------\n",
      "try 155 -- Mean Absolute Percentage Error(MAPE)------------------------------------ 10.665130725047478\n"
     ]
    },
    {
     "name": "stderr",
     "output_type": "stream",
     "text": [
      "14:31:48 - cmdstanpy - INFO - Chain [1] done processing\n",
      "14:31:48 - cmdstanpy - INFO - Chain [1] start processing\n"
     ]
    },
    {
     "name": "stdout",
     "output_type": "stream",
     "text": [
      "--------------------------------------------------------------------------------------------------\n",
      "try 156 -- Mean Absolute Percentage Error(MAPE)------------------------------------ 14.281804702724472\n"
     ]
    },
    {
     "name": "stderr",
     "output_type": "stream",
     "text": [
      "14:31:48 - cmdstanpy - INFO - Chain [1] done processing\n",
      "14:31:48 - cmdstanpy - INFO - Chain [1] start processing\n"
     ]
    },
    {
     "name": "stdout",
     "output_type": "stream",
     "text": [
      "--------------------------------------------------------------------------------------------------\n",
      "try 157 -- Mean Absolute Percentage Error(MAPE)------------------------------------ 15.55230462037725\n"
     ]
    },
    {
     "name": "stderr",
     "output_type": "stream",
     "text": [
      "14:31:49 - cmdstanpy - INFO - Chain [1] done processing\n",
      "14:31:49 - cmdstanpy - INFO - Chain [1] start processing\n"
     ]
    },
    {
     "name": "stdout",
     "output_type": "stream",
     "text": [
      "--------------------------------------------------------------------------------------------------\n",
      "try 158 -- Mean Absolute Percentage Error(MAPE)------------------------------------ 16.384365141134225\n"
     ]
    },
    {
     "name": "stderr",
     "output_type": "stream",
     "text": [
      "14:31:49 - cmdstanpy - INFO - Chain [1] done processing\n",
      "14:31:49 - cmdstanpy - INFO - Chain [1] start processing\n"
     ]
    },
    {
     "name": "stdout",
     "output_type": "stream",
     "text": [
      "--------------------------------------------------------------------------------------------------\n",
      "try 159 -- Mean Absolute Percentage Error(MAPE)------------------------------------ 16.82399258814594\n"
     ]
    },
    {
     "name": "stderr",
     "output_type": "stream",
     "text": [
      "14:31:49 - cmdstanpy - INFO - Chain [1] done processing\n",
      "14:31:49 - cmdstanpy - INFO - Chain [1] start processing\n"
     ]
    },
    {
     "name": "stdout",
     "output_type": "stream",
     "text": [
      "--------------------------------------------------------------------------------------------------\n",
      "try 160 -- Mean Absolute Percentage Error(MAPE)------------------------------------ 16.854817365595302\n"
     ]
    },
    {
     "name": "stderr",
     "output_type": "stream",
     "text": [
      "14:31:50 - cmdstanpy - INFO - Chain [1] done processing\n",
      "14:31:50 - cmdstanpy - INFO - Chain [1] start processing\n"
     ]
    },
    {
     "name": "stdout",
     "output_type": "stream",
     "text": [
      "--------------------------------------------------------------------------------------------------\n",
      "try 161 -- Mean Absolute Percentage Error(MAPE)------------------------------------ 20.17272225961176\n"
     ]
    },
    {
     "name": "stderr",
     "output_type": "stream",
     "text": [
      "14:31:50 - cmdstanpy - INFO - Chain [1] done processing\n",
      "14:31:50 - cmdstanpy - INFO - Chain [1] start processing\n"
     ]
    },
    {
     "name": "stdout",
     "output_type": "stream",
     "text": [
      "--------------------------------------------------------------------------------------------------\n",
      "try 162 -- Mean Absolute Percentage Error(MAPE)------------------------------------ 19.59760022205987\n"
     ]
    },
    {
     "name": "stderr",
     "output_type": "stream",
     "text": [
      "14:31:50 - cmdstanpy - INFO - Chain [1] done processing\n",
      "14:31:51 - cmdstanpy - INFO - Chain [1] start processing\n"
     ]
    },
    {
     "name": "stdout",
     "output_type": "stream",
     "text": [
      "--------------------------------------------------------------------------------------------------\n",
      "try 163 -- Mean Absolute Percentage Error(MAPE)------------------------------------ 18.74858429375631\n"
     ]
    },
    {
     "name": "stderr",
     "output_type": "stream",
     "text": [
      "14:31:51 - cmdstanpy - INFO - Chain [1] done processing\n",
      "14:31:51 - cmdstanpy - INFO - Chain [1] start processing\n"
     ]
    },
    {
     "name": "stdout",
     "output_type": "stream",
     "text": [
      "--------------------------------------------------------------------------------------------------\n",
      "try 164 -- Mean Absolute Percentage Error(MAPE)------------------------------------ 18.144257598306883\n"
     ]
    },
    {
     "name": "stderr",
     "output_type": "stream",
     "text": [
      "14:31:51 - cmdstanpy - INFO - Chain [1] done processing\n",
      "14:31:51 - cmdstanpy - INFO - Chain [1] start processing\n"
     ]
    },
    {
     "name": "stdout",
     "output_type": "stream",
     "text": [
      "--------------------------------------------------------------------------------------------------\n",
      "try 165 -- Mean Absolute Percentage Error(MAPE)------------------------------------ 16.797041362639185\n"
     ]
    },
    {
     "name": "stderr",
     "output_type": "stream",
     "text": [
      "14:31:51 - cmdstanpy - INFO - Chain [1] done processing\n",
      "14:31:52 - cmdstanpy - INFO - Chain [1] start processing\n"
     ]
    },
    {
     "name": "stdout",
     "output_type": "stream",
     "text": [
      "--------------------------------------------------------------------------------------------------\n",
      "try 166 -- Mean Absolute Percentage Error(MAPE)------------------------------------ 12.179706315448945\n"
     ]
    },
    {
     "name": "stderr",
     "output_type": "stream",
     "text": [
      "14:31:52 - cmdstanpy - INFO - Chain [1] done processing\n",
      "14:31:52 - cmdstanpy - INFO - Chain [1] start processing\n"
     ]
    },
    {
     "name": "stdout",
     "output_type": "stream",
     "text": [
      "--------------------------------------------------------------------------------------------------\n",
      "try 167 -- Mean Absolute Percentage Error(MAPE)------------------------------------ 8.864881733231725\n"
     ]
    },
    {
     "name": "stderr",
     "output_type": "stream",
     "text": [
      "14:31:52 - cmdstanpy - INFO - Chain [1] done processing\n",
      "14:31:52 - cmdstanpy - INFO - Chain [1] start processing\n"
     ]
    },
    {
     "name": "stdout",
     "output_type": "stream",
     "text": [
      "--------------------------------------------------------------------------------------------------\n",
      "try 168 -- Mean Absolute Percentage Error(MAPE)------------------------------------ 8.64728604661104\n"
     ]
    },
    {
     "name": "stderr",
     "output_type": "stream",
     "text": [
      "14:31:52 - cmdstanpy - INFO - Chain [1] done processing\n",
      "14:31:53 - cmdstanpy - INFO - Chain [1] start processing\n"
     ]
    },
    {
     "name": "stdout",
     "output_type": "stream",
     "text": [
      "--------------------------------------------------------------------------------------------------\n",
      "try 169 -- Mean Absolute Percentage Error(MAPE)------------------------------------ 8.691061739623612\n"
     ]
    },
    {
     "name": "stderr",
     "output_type": "stream",
     "text": [
      "14:31:53 - cmdstanpy - INFO - Chain [1] done processing\n",
      "14:31:53 - cmdstanpy - INFO - Chain [1] start processing\n"
     ]
    },
    {
     "name": "stdout",
     "output_type": "stream",
     "text": [
      "--------------------------------------------------------------------------------------------------\n",
      "try 170 -- Mean Absolute Percentage Error(MAPE)------------------------------------ 8.66309275432564\n"
     ]
    },
    {
     "name": "stderr",
     "output_type": "stream",
     "text": [
      "14:31:53 - cmdstanpy - INFO - Chain [1] done processing\n",
      "14:31:53 - cmdstanpy - INFO - Chain [1] start processing\n"
     ]
    },
    {
     "name": "stdout",
     "output_type": "stream",
     "text": [
      "--------------------------------------------------------------------------------------------------\n",
      "try 171 -- Mean Absolute Percentage Error(MAPE)------------------------------------ 9.06089974990127\n"
     ]
    },
    {
     "name": "stderr",
     "output_type": "stream",
     "text": [
      "14:31:53 - cmdstanpy - INFO - Chain [1] done processing\n",
      "14:31:54 - cmdstanpy - INFO - Chain [1] start processing\n"
     ]
    },
    {
     "name": "stdout",
     "output_type": "stream",
     "text": [
      "--------------------------------------------------------------------------------------------------\n",
      "try 172 -- Mean Absolute Percentage Error(MAPE)------------------------------------ 10.501724553743937\n"
     ]
    },
    {
     "name": "stderr",
     "output_type": "stream",
     "text": [
      "14:31:54 - cmdstanpy - INFO - Chain [1] done processing\n",
      "14:31:54 - cmdstanpy - INFO - Chain [1] start processing\n"
     ]
    },
    {
     "name": "stdout",
     "output_type": "stream",
     "text": [
      "--------------------------------------------------------------------------------------------------\n",
      "try 173 -- Mean Absolute Percentage Error(MAPE)------------------------------------ 12.432788055132793\n"
     ]
    },
    {
     "name": "stderr",
     "output_type": "stream",
     "text": [
      "14:31:54 - cmdstanpy - INFO - Chain [1] done processing\n",
      "14:31:54 - cmdstanpy - INFO - Chain [1] start processing\n"
     ]
    },
    {
     "name": "stdout",
     "output_type": "stream",
     "text": [
      "--------------------------------------------------------------------------------------------------\n",
      "try 174 -- Mean Absolute Percentage Error(MAPE)------------------------------------ 14.536923288804543\n"
     ]
    },
    {
     "name": "stderr",
     "output_type": "stream",
     "text": [
      "14:31:54 - cmdstanpy - INFO - Chain [1] done processing\n",
      "14:31:55 - cmdstanpy - INFO - Chain [1] start processing\n"
     ]
    },
    {
     "name": "stdout",
     "output_type": "stream",
     "text": [
      "--------------------------------------------------------------------------------------------------\n",
      "try 175 -- Mean Absolute Percentage Error(MAPE)------------------------------------ 16.46826862873885\n"
     ]
    },
    {
     "name": "stderr",
     "output_type": "stream",
     "text": [
      "14:31:55 - cmdstanpy - INFO - Chain [1] done processing\n",
      "14:31:55 - cmdstanpy - INFO - Chain [1] start processing\n"
     ]
    },
    {
     "name": "stdout",
     "output_type": "stream",
     "text": [
      "--------------------------------------------------------------------------------------------------\n",
      "try 176 -- Mean Absolute Percentage Error(MAPE)------------------------------------ 22.982562100498377\n"
     ]
    },
    {
     "name": "stderr",
     "output_type": "stream",
     "text": [
      "14:31:55 - cmdstanpy - INFO - Chain [1] done processing\n",
      "14:31:55 - cmdstanpy - INFO - Chain [1] start processing\n"
     ]
    },
    {
     "name": "stdout",
     "output_type": "stream",
     "text": [
      "--------------------------------------------------------------------------------------------------\n",
      "try 177 -- Mean Absolute Percentage Error(MAPE)------------------------------------ 19.859943920956898\n"
     ]
    },
    {
     "name": "stderr",
     "output_type": "stream",
     "text": [
      "14:31:56 - cmdstanpy - INFO - Chain [1] done processing\n",
      "14:31:56 - cmdstanpy - INFO - Chain [1] start processing\n"
     ]
    },
    {
     "name": "stdout",
     "output_type": "stream",
     "text": [
      "--------------------------------------------------------------------------------------------------\n",
      "try 178 -- Mean Absolute Percentage Error(MAPE)------------------------------------ 18.513224237282394\n"
     ]
    },
    {
     "name": "stderr",
     "output_type": "stream",
     "text": [
      "14:31:56 - cmdstanpy - INFO - Chain [1] done processing\n",
      "14:31:56 - cmdstanpy - INFO - Chain [1] start processing\n"
     ]
    },
    {
     "name": "stdout",
     "output_type": "stream",
     "text": [
      "--------------------------------------------------------------------------------------------------\n",
      "try 179 -- Mean Absolute Percentage Error(MAPE)------------------------------------ 15.71719583474637\n"
     ]
    },
    {
     "name": "stderr",
     "output_type": "stream",
     "text": [
      "14:31:56 - cmdstanpy - INFO - Chain [1] done processing\n",
      "14:31:56 - cmdstanpy - INFO - Chain [1] start processing\n"
     ]
    },
    {
     "name": "stdout",
     "output_type": "stream",
     "text": [
      "--------------------------------------------------------------------------------------------------\n",
      "try 180 -- Mean Absolute Percentage Error(MAPE)------------------------------------ 13.05854492672555\n"
     ]
    },
    {
     "name": "stderr",
     "output_type": "stream",
     "text": [
      "14:31:57 - cmdstanpy - INFO - Chain [1] done processing\n",
      "14:31:57 - cmdstanpy - INFO - Chain [1] start processing\n"
     ]
    },
    {
     "name": "stdout",
     "output_type": "stream",
     "text": [
      "--------------------------------------------------------------------------------------------------\n",
      "try 181 -- Mean Absolute Percentage Error(MAPE)------------------------------------ 11.107678846429664\n"
     ]
    },
    {
     "name": "stderr",
     "output_type": "stream",
     "text": [
      "14:31:57 - cmdstanpy - INFO - Chain [1] done processing\n",
      "14:31:57 - cmdstanpy - INFO - Chain [1] start processing\n"
     ]
    },
    {
     "name": "stdout",
     "output_type": "stream",
     "text": [
      "--------------------------------------------------------------------------------------------------\n",
      "try 182 -- Mean Absolute Percentage Error(MAPE)------------------------------------ 8.329263574124484\n"
     ]
    },
    {
     "name": "stderr",
     "output_type": "stream",
     "text": [
      "14:31:57 - cmdstanpy - INFO - Chain [1] done processing\n",
      "14:31:58 - cmdstanpy - INFO - Chain [1] start processing\n"
     ]
    },
    {
     "name": "stdout",
     "output_type": "stream",
     "text": [
      "--------------------------------------------------------------------------------------------------\n",
      "try 183 -- Mean Absolute Percentage Error(MAPE)------------------------------------ 7.616343160794534\n"
     ]
    },
    {
     "name": "stderr",
     "output_type": "stream",
     "text": [
      "14:31:58 - cmdstanpy - INFO - Chain [1] done processing\n"
     ]
    },
    {
     "name": "stdout",
     "output_type": "stream",
     "text": [
      "--------------------------------------------------------------------------------------------------\n",
      "try 184 -- Mean Absolute Percentage Error(MAPE)------------------------------------ 7.6621767395256155\n"
     ]
    },
    {
     "name": "stderr",
     "output_type": "stream",
     "text": [
      "14:31:58 - cmdstanpy - INFO - Chain [1] start processing\n",
      "14:31:59 - cmdstanpy - INFO - Chain [1] done processing\n",
      "14:31:59 - cmdstanpy - INFO - Chain [1] start processing\n"
     ]
    },
    {
     "name": "stdout",
     "output_type": "stream",
     "text": [
      "--------------------------------------------------------------------------------------------------\n",
      "try 185 -- Mean Absolute Percentage Error(MAPE)------------------------------------ 7.7175675193229685\n"
     ]
    },
    {
     "name": "stderr",
     "output_type": "stream",
     "text": [
      "14:31:59 - cmdstanpy - INFO - Chain [1] done processing\n",
      "14:31:59 - cmdstanpy - INFO - Chain [1] start processing\n"
     ]
    },
    {
     "name": "stdout",
     "output_type": "stream",
     "text": [
      "--------------------------------------------------------------------------------------------------\n",
      "try 186 -- Mean Absolute Percentage Error(MAPE)------------------------------------ 7.977195726431676\n"
     ]
    },
    {
     "name": "stderr",
     "output_type": "stream",
     "text": [
      "14:32:00 - cmdstanpy - INFO - Chain [1] done processing\n",
      "14:32:00 - cmdstanpy - INFO - Chain [1] start processing\n"
     ]
    },
    {
     "name": "stdout",
     "output_type": "stream",
     "text": [
      "--------------------------------------------------------------------------------------------------\n",
      "try 187 -- Mean Absolute Percentage Error(MAPE)------------------------------------ 10.767366822848317\n"
     ]
    },
    {
     "name": "stderr",
     "output_type": "stream",
     "text": [
      "14:32:00 - cmdstanpy - INFO - Chain [1] done processing\n",
      "14:32:00 - cmdstanpy - INFO - Chain [1] start processing\n"
     ]
    },
    {
     "name": "stdout",
     "output_type": "stream",
     "text": [
      "--------------------------------------------------------------------------------------------------\n",
      "try 188 -- Mean Absolute Percentage Error(MAPE)------------------------------------ 14.262540593814432\n"
     ]
    },
    {
     "name": "stderr",
     "output_type": "stream",
     "text": [
      "14:32:00 - cmdstanpy - INFO - Chain [1] done processing\n",
      "14:32:01 - cmdstanpy - INFO - Chain [1] start processing\n"
     ]
    },
    {
     "name": "stdout",
     "output_type": "stream",
     "text": [
      "--------------------------------------------------------------------------------------------------\n",
      "try 189 -- Mean Absolute Percentage Error(MAPE)------------------------------------ 15.556458064370371\n"
     ]
    },
    {
     "name": "stderr",
     "output_type": "stream",
     "text": [
      "14:32:01 - cmdstanpy - INFO - Chain [1] done processing\n",
      "14:32:01 - cmdstanpy - INFO - Chain [1] start processing\n"
     ]
    },
    {
     "name": "stdout",
     "output_type": "stream",
     "text": [
      "--------------------------------------------------------------------------------------------------\n",
      "try 190 -- Mean Absolute Percentage Error(MAPE)------------------------------------ 16.512853676270428\n"
     ]
    },
    {
     "name": "stderr",
     "output_type": "stream",
     "text": [
      "14:32:01 - cmdstanpy - INFO - Chain [1] done processing\n"
     ]
    },
    {
     "name": "stdout",
     "output_type": "stream",
     "text": [
      "--------------------------------------------------------------------------------------------------\n",
      "try 191 -- Mean Absolute Percentage Error(MAPE)------------------------------------ 16.428175856566913\n"
     ]
    },
    {
     "name": "stderr",
     "output_type": "stream",
     "text": [
      "14:32:02 - cmdstanpy - INFO - Chain [1] start processing\n",
      "14:32:02 - cmdstanpy - INFO - Chain [1] done processing\n",
      "14:32:02 - cmdstanpy - INFO - Chain [1] start processing\n"
     ]
    },
    {
     "name": "stdout",
     "output_type": "stream",
     "text": [
      "--------------------------------------------------------------------------------------------------\n",
      "try 192 -- Mean Absolute Percentage Error(MAPE)------------------------------------ 16.8399857405944\n"
     ]
    },
    {
     "name": "stderr",
     "output_type": "stream",
     "text": [
      "14:32:03 - cmdstanpy - INFO - Chain [1] done processing\n",
      "14:32:03 - cmdstanpy - INFO - Chain [1] start processing\n"
     ]
    },
    {
     "name": "stdout",
     "output_type": "stream",
     "text": [
      "--------------------------------------------------------------------------------------------------\n",
      "try 193 -- Mean Absolute Percentage Error(MAPE)------------------------------------ 20.38808038032044\n"
     ]
    },
    {
     "name": "stderr",
     "output_type": "stream",
     "text": [
      "14:32:03 - cmdstanpy - INFO - Chain [1] done processing\n",
      "14:32:03 - cmdstanpy - INFO - Chain [1] start processing\n"
     ]
    },
    {
     "name": "stdout",
     "output_type": "stream",
     "text": [
      "--------------------------------------------------------------------------------------------------\n",
      "try 194 -- Mean Absolute Percentage Error(MAPE)------------------------------------ 19.846092537613497\n"
     ]
    },
    {
     "name": "stderr",
     "output_type": "stream",
     "text": [
      "14:32:03 - cmdstanpy - INFO - Chain [1] done processing\n",
      "14:32:04 - cmdstanpy - INFO - Chain [1] start processing\n"
     ]
    },
    {
     "name": "stdout",
     "output_type": "stream",
     "text": [
      "--------------------------------------------------------------------------------------------------\n",
      "try 195 -- Mean Absolute Percentage Error(MAPE)------------------------------------ 18.895444945236918\n"
     ]
    },
    {
     "name": "stderr",
     "output_type": "stream",
     "text": [
      "14:32:04 - cmdstanpy - INFO - Chain [1] done processing\n",
      "14:32:04 - cmdstanpy - INFO - Chain [1] start processing\n"
     ]
    },
    {
     "name": "stdout",
     "output_type": "stream",
     "text": [
      "--------------------------------------------------------------------------------------------------\n",
      "try 196 -- Mean Absolute Percentage Error(MAPE)------------------------------------ 18.182423235154015\n"
     ]
    },
    {
     "name": "stderr",
     "output_type": "stream",
     "text": [
      "14:32:04 - cmdstanpy - INFO - Chain [1] done processing\n",
      "14:32:04 - cmdstanpy - INFO - Chain [1] start processing\n"
     ]
    },
    {
     "name": "stdout",
     "output_type": "stream",
     "text": [
      "--------------------------------------------------------------------------------------------------\n",
      "try 197 -- Mean Absolute Percentage Error(MAPE)------------------------------------ 16.790966449912062\n"
     ]
    },
    {
     "name": "stderr",
     "output_type": "stream",
     "text": [
      "14:32:05 - cmdstanpy - INFO - Chain [1] done processing\n",
      "14:32:05 - cmdstanpy - INFO - Chain [1] start processing\n"
     ]
    },
    {
     "name": "stdout",
     "output_type": "stream",
     "text": [
      "--------------------------------------------------------------------------------------------------\n",
      "try 198 -- Mean Absolute Percentage Error(MAPE)------------------------------------ 12.066946057309844\n"
     ]
    },
    {
     "name": "stderr",
     "output_type": "stream",
     "text": [
      "14:32:05 - cmdstanpy - INFO - Chain [1] done processing\n",
      "14:32:05 - cmdstanpy - INFO - Chain [1] start processing\n"
     ]
    },
    {
     "name": "stdout",
     "output_type": "stream",
     "text": [
      "--------------------------------------------------------------------------------------------------\n",
      "try 199 -- Mean Absolute Percentage Error(MAPE)------------------------------------ 8.723284456758124\n"
     ]
    },
    {
     "name": "stderr",
     "output_type": "stream",
     "text": [
      "14:32:05 - cmdstanpy - INFO - Chain [1] done processing\n",
      "14:32:06 - cmdstanpy - INFO - Chain [1] start processing\n"
     ]
    },
    {
     "name": "stdout",
     "output_type": "stream",
     "text": [
      "--------------------------------------------------------------------------------------------------\n",
      "try 200 -- Mean Absolute Percentage Error(MAPE)------------------------------------ 8.647246261862552\n"
     ]
    },
    {
     "name": "stderr",
     "output_type": "stream",
     "text": [
      "14:32:06 - cmdstanpy - INFO - Chain [1] done processing\n",
      "14:32:06 - cmdstanpy - INFO - Chain [1] start processing\n"
     ]
    },
    {
     "name": "stdout",
     "output_type": "stream",
     "text": [
      "--------------------------------------------------------------------------------------------------\n",
      "try 201 -- Mean Absolute Percentage Error(MAPE)------------------------------------ 8.643956331419975\n"
     ]
    },
    {
     "name": "stderr",
     "output_type": "stream",
     "text": [
      "14:32:06 - cmdstanpy - INFO - Chain [1] done processing\n",
      "14:32:07 - cmdstanpy - INFO - Chain [1] start processing\n"
     ]
    },
    {
     "name": "stdout",
     "output_type": "stream",
     "text": [
      "--------------------------------------------------------------------------------------------------\n",
      "try 202 -- Mean Absolute Percentage Error(MAPE)------------------------------------ 8.666499254681263\n"
     ]
    },
    {
     "name": "stderr",
     "output_type": "stream",
     "text": [
      "14:32:07 - cmdstanpy - INFO - Chain [1] done processing\n",
      "14:32:07 - cmdstanpy - INFO - Chain [1] start processing\n"
     ]
    },
    {
     "name": "stdout",
     "output_type": "stream",
     "text": [
      "--------------------------------------------------------------------------------------------------\n",
      "try 203 -- Mean Absolute Percentage Error(MAPE)------------------------------------ 9.066076291819348\n"
     ]
    },
    {
     "name": "stderr",
     "output_type": "stream",
     "text": [
      "14:32:07 - cmdstanpy - INFO - Chain [1] done processing\n",
      "14:32:07 - cmdstanpy - INFO - Chain [1] start processing\n"
     ]
    },
    {
     "name": "stdout",
     "output_type": "stream",
     "text": [
      "--------------------------------------------------------------------------------------------------\n",
      "try 204 -- Mean Absolute Percentage Error(MAPE)------------------------------------ 10.524480047626264\n"
     ]
    },
    {
     "name": "stderr",
     "output_type": "stream",
     "text": [
      "14:32:08 - cmdstanpy - INFO - Chain [1] done processing\n",
      "14:32:08 - cmdstanpy - INFO - Chain [1] start processing\n"
     ]
    },
    {
     "name": "stdout",
     "output_type": "stream",
     "text": [
      "--------------------------------------------------------------------------------------------------\n",
      "try 205 -- Mean Absolute Percentage Error(MAPE)------------------------------------ 12.47483082960008\n"
     ]
    },
    {
     "name": "stderr",
     "output_type": "stream",
     "text": [
      "14:32:08 - cmdstanpy - INFO - Chain [1] done processing\n",
      "14:32:08 - cmdstanpy - INFO - Chain [1] start processing\n"
     ]
    },
    {
     "name": "stdout",
     "output_type": "stream",
     "text": [
      "--------------------------------------------------------------------------------------------------\n",
      "try 206 -- Mean Absolute Percentage Error(MAPE)------------------------------------ 14.536784027188055\n"
     ]
    },
    {
     "name": "stderr",
     "output_type": "stream",
     "text": [
      "14:32:08 - cmdstanpy - INFO - Chain [1] done processing\n",
      "14:32:09 - cmdstanpy - INFO - Chain [1] start processing\n"
     ]
    },
    {
     "name": "stdout",
     "output_type": "stream",
     "text": [
      "--------------------------------------------------------------------------------------------------\n",
      "try 207 -- Mean Absolute Percentage Error(MAPE)------------------------------------ 16.408336981627862\n"
     ]
    },
    {
     "name": "stderr",
     "output_type": "stream",
     "text": [
      "14:32:09 - cmdstanpy - INFO - Chain [1] done processing\n",
      "14:32:09 - cmdstanpy - INFO - Chain [1] start processing\n"
     ]
    },
    {
     "name": "stdout",
     "output_type": "stream",
     "text": [
      "--------------------------------------------------------------------------------------------------\n",
      "try 208 -- Mean Absolute Percentage Error(MAPE)------------------------------------ 22.905636202227747\n"
     ]
    },
    {
     "name": "stderr",
     "output_type": "stream",
     "text": [
      "14:32:09 - cmdstanpy - INFO - Chain [1] done processing\n",
      "14:32:09 - cmdstanpy - INFO - Chain [1] start processing\n"
     ]
    },
    {
     "name": "stdout",
     "output_type": "stream",
     "text": [
      "--------------------------------------------------------------------------------------------------\n",
      "try 209 -- Mean Absolute Percentage Error(MAPE)------------------------------------ 19.852735741247336\n"
     ]
    },
    {
     "name": "stderr",
     "output_type": "stream",
     "text": [
      "14:32:10 - cmdstanpy - INFO - Chain [1] done processing\n",
      "14:32:10 - cmdstanpy - INFO - Chain [1] start processing\n"
     ]
    },
    {
     "name": "stdout",
     "output_type": "stream",
     "text": [
      "--------------------------------------------------------------------------------------------------\n",
      "try 210 -- Mean Absolute Percentage Error(MAPE)------------------------------------ 18.458749072698076\n"
     ]
    },
    {
     "name": "stderr",
     "output_type": "stream",
     "text": [
      "14:32:10 - cmdstanpy - INFO - Chain [1] done processing\n",
      "14:32:10 - cmdstanpy - INFO - Chain [1] start processing\n"
     ]
    },
    {
     "name": "stdout",
     "output_type": "stream",
     "text": [
      "--------------------------------------------------------------------------------------------------\n",
      "try 211 -- Mean Absolute Percentage Error(MAPE)------------------------------------ 15.685846443231515\n"
     ]
    },
    {
     "name": "stderr",
     "output_type": "stream",
     "text": [
      "14:32:10 - cmdstanpy - INFO - Chain [1] done processing\n",
      "14:32:11 - cmdstanpy - INFO - Chain [1] start processing\n"
     ]
    },
    {
     "name": "stdout",
     "output_type": "stream",
     "text": [
      "--------------------------------------------------------------------------------------------------\n",
      "try 212 -- Mean Absolute Percentage Error(MAPE)------------------------------------ 13.181219991859768\n"
     ]
    },
    {
     "name": "stderr",
     "output_type": "stream",
     "text": [
      "14:32:11 - cmdstanpy - INFO - Chain [1] done processing\n",
      "14:32:11 - cmdstanpy - INFO - Chain [1] start processing\n"
     ]
    },
    {
     "name": "stdout",
     "output_type": "stream",
     "text": [
      "--------------------------------------------------------------------------------------------------\n",
      "try 213 -- Mean Absolute Percentage Error(MAPE)------------------------------------ 11.120698774652652\n"
     ]
    },
    {
     "name": "stderr",
     "output_type": "stream",
     "text": [
      "14:32:11 - cmdstanpy - INFO - Chain [1] done processing\n"
     ]
    },
    {
     "name": "stdout",
     "output_type": "stream",
     "text": [
      "--------------------------------------------------------------------------------------------------\n",
      "try 214 -- Mean Absolute Percentage Error(MAPE)------------------------------------ 8.33642032761068\n"
     ]
    },
    {
     "name": "stderr",
     "output_type": "stream",
     "text": [
      "14:32:12 - cmdstanpy - INFO - Chain [1] start processing\n",
      "14:32:12 - cmdstanpy - INFO - Chain [1] done processing\n",
      "14:32:12 - cmdstanpy - INFO - Chain [1] start processing\n"
     ]
    },
    {
     "name": "stdout",
     "output_type": "stream",
     "text": [
      "--------------------------------------------------------------------------------------------------\n",
      "try 215 -- Mean Absolute Percentage Error(MAPE)------------------------------------ 7.609382362436285\n"
     ]
    },
    {
     "name": "stderr",
     "output_type": "stream",
     "text": [
      "14:32:12 - cmdstanpy - INFO - Chain [1] done processing\n",
      "14:32:12 - cmdstanpy - INFO - Chain [1] start processing\n"
     ]
    },
    {
     "name": "stdout",
     "output_type": "stream",
     "text": [
      "--------------------------------------------------------------------------------------------------\n",
      "try 216 -- Mean Absolute Percentage Error(MAPE)------------------------------------ 7.588606062646846\n"
     ]
    },
    {
     "name": "stderr",
     "output_type": "stream",
     "text": [
      "14:32:13 - cmdstanpy - INFO - Chain [1] done processing\n",
      "14:32:13 - cmdstanpy - INFO - Chain [1] start processing\n"
     ]
    },
    {
     "name": "stdout",
     "output_type": "stream",
     "text": [
      "--------------------------------------------------------------------------------------------------\n",
      "try 217 -- Mean Absolute Percentage Error(MAPE)------------------------------------ 7.721167763272876\n"
     ]
    },
    {
     "name": "stderr",
     "output_type": "stream",
     "text": [
      "14:32:13 - cmdstanpy - INFO - Chain [1] done processing\n",
      "14:32:13 - cmdstanpy - INFO - Chain [1] start processing\n"
     ]
    },
    {
     "name": "stdout",
     "output_type": "stream",
     "text": [
      "--------------------------------------------------------------------------------------------------\n",
      "try 218 -- Mean Absolute Percentage Error(MAPE)------------------------------------ 8.000216925456415\n"
     ]
    },
    {
     "name": "stderr",
     "output_type": "stream",
     "text": [
      "14:32:13 - cmdstanpy - INFO - Chain [1] done processing\n",
      "14:32:14 - cmdstanpy - INFO - Chain [1] start processing\n"
     ]
    },
    {
     "name": "stdout",
     "output_type": "stream",
     "text": [
      "--------------------------------------------------------------------------------------------------\n",
      "try 219 -- Mean Absolute Percentage Error(MAPE)------------------------------------ 10.83088464314198\n"
     ]
    },
    {
     "name": "stderr",
     "output_type": "stream",
     "text": [
      "14:32:14 - cmdstanpy - INFO - Chain [1] done processing\n",
      "14:32:14 - cmdstanpy - INFO - Chain [1] start processing\n"
     ]
    },
    {
     "name": "stdout",
     "output_type": "stream",
     "text": [
      "--------------------------------------------------------------------------------------------------\n",
      "try 220 -- Mean Absolute Percentage Error(MAPE)------------------------------------ 14.227616929407056\n"
     ]
    },
    {
     "name": "stderr",
     "output_type": "stream",
     "text": [
      "14:32:14 - cmdstanpy - INFO - Chain [1] done processing\n",
      "14:32:15 - cmdstanpy - INFO - Chain [1] start processing\n"
     ]
    },
    {
     "name": "stdout",
     "output_type": "stream",
     "text": [
      "--------------------------------------------------------------------------------------------------\n",
      "try 221 -- Mean Absolute Percentage Error(MAPE)------------------------------------ 15.541026455966255\n"
     ]
    },
    {
     "name": "stderr",
     "output_type": "stream",
     "text": [
      "14:32:15 - cmdstanpy - INFO - Chain [1] done processing\n",
      "14:32:15 - cmdstanpy - INFO - Chain [1] start processing\n"
     ]
    },
    {
     "name": "stdout",
     "output_type": "stream",
     "text": [
      "--------------------------------------------------------------------------------------------------\n",
      "try 222 -- Mean Absolute Percentage Error(MAPE)------------------------------------ 16.245416278880647\n"
     ]
    },
    {
     "name": "stderr",
     "output_type": "stream",
     "text": [
      "14:32:16 - cmdstanpy - INFO - Chain [1] done processing\n",
      "14:32:16 - cmdstanpy - INFO - Chain [1] start processing\n"
     ]
    },
    {
     "name": "stdout",
     "output_type": "stream",
     "text": [
      "--------------------------------------------------------------------------------------------------\n",
      "try 223 -- Mean Absolute Percentage Error(MAPE)------------------------------------ 16.51464131082976\n"
     ]
    },
    {
     "name": "stderr",
     "output_type": "stream",
     "text": [
      "14:32:16 - cmdstanpy - INFO - Chain [1] done processing\n"
     ]
    },
    {
     "name": "stdout",
     "output_type": "stream",
     "text": [
      "--------------------------------------------------------------------------------------------------\n",
      "try 224 -- Mean Absolute Percentage Error(MAPE)------------------------------------ 16.85880869065437\n"
     ]
    },
    {
     "name": "stderr",
     "output_type": "stream",
     "text": [
      "14:32:16 - cmdstanpy - INFO - Chain [1] start processing\n",
      "14:32:16 - cmdstanpy - INFO - Chain [1] done processing\n",
      "14:32:17 - cmdstanpy - INFO - Chain [1] start processing\n"
     ]
    },
    {
     "name": "stdout",
     "output_type": "stream",
     "text": [
      "--------------------------------------------------------------------------------------------------\n",
      "try 225 -- Mean Absolute Percentage Error(MAPE)------------------------------------ 20.5877463796896\n"
     ]
    },
    {
     "name": "stderr",
     "output_type": "stream",
     "text": [
      "14:32:17 - cmdstanpy - INFO - Chain [1] done processing\n",
      "14:32:17 - cmdstanpy - INFO - Chain [1] start processing\n"
     ]
    },
    {
     "name": "stdout",
     "output_type": "stream",
     "text": [
      "--------------------------------------------------------------------------------------------------\n",
      "try 226 -- Mean Absolute Percentage Error(MAPE)------------------------------------ 20.176231451622247\n"
     ]
    },
    {
     "name": "stderr",
     "output_type": "stream",
     "text": [
      "14:32:17 - cmdstanpy - INFO - Chain [1] done processing\n",
      "14:32:17 - cmdstanpy - INFO - Chain [1] start processing\n"
     ]
    },
    {
     "name": "stdout",
     "output_type": "stream",
     "text": [
      "--------------------------------------------------------------------------------------------------\n",
      "try 227 -- Mean Absolute Percentage Error(MAPE)------------------------------------ 19.370201246949865\n"
     ]
    },
    {
     "name": "stderr",
     "output_type": "stream",
     "text": [
      "14:32:18 - cmdstanpy - INFO - Chain [1] done processing\n",
      "14:32:18 - cmdstanpy - INFO - Chain [1] start processing\n"
     ]
    },
    {
     "name": "stdout",
     "output_type": "stream",
     "text": [
      "--------------------------------------------------------------------------------------------------\n",
      "try 228 -- Mean Absolute Percentage Error(MAPE)------------------------------------ 18.18687544967975\n"
     ]
    },
    {
     "name": "stderr",
     "output_type": "stream",
     "text": [
      "14:32:18 - cmdstanpy - INFO - Chain [1] done processing\n"
     ]
    },
    {
     "name": "stdout",
     "output_type": "stream",
     "text": [
      "--------------------------------------------------------------------------------------------------\n",
      "try 229 -- Mean Absolute Percentage Error(MAPE)------------------------------------ 16.77350338921439\n"
     ]
    },
    {
     "name": "stderr",
     "output_type": "stream",
     "text": [
      "14:32:18 - cmdstanpy - INFO - Chain [1] start processing\n",
      "14:32:18 - cmdstanpy - INFO - Chain [1] done processing\n",
      "14:32:19 - cmdstanpy - INFO - Chain [1] start processing\n"
     ]
    },
    {
     "name": "stdout",
     "output_type": "stream",
     "text": [
      "--------------------------------------------------------------------------------------------------\n",
      "try 230 -- Mean Absolute Percentage Error(MAPE)------------------------------------ 12.032368861245212\n"
     ]
    },
    {
     "name": "stderr",
     "output_type": "stream",
     "text": [
      "14:32:19 - cmdstanpy - INFO - Chain [1] done processing\n",
      "14:32:19 - cmdstanpy - INFO - Chain [1] start processing\n"
     ]
    },
    {
     "name": "stdout",
     "output_type": "stream",
     "text": [
      "--------------------------------------------------------------------------------------------------\n",
      "try 231 -- Mean Absolute Percentage Error(MAPE)------------------------------------ 8.697900908089437\n"
     ]
    },
    {
     "name": "stderr",
     "output_type": "stream",
     "text": [
      "14:32:19 - cmdstanpy - INFO - Chain [1] done processing\n",
      "14:32:19 - cmdstanpy - INFO - Chain [1] start processing\n"
     ]
    },
    {
     "name": "stdout",
     "output_type": "stream",
     "text": [
      "--------------------------------------------------------------------------------------------------\n",
      "try 232 -- Mean Absolute Percentage Error(MAPE)------------------------------------ 8.647667672619978\n"
     ]
    },
    {
     "name": "stderr",
     "output_type": "stream",
     "text": [
      "14:32:20 - cmdstanpy - INFO - Chain [1] done processing\n",
      "14:32:20 - cmdstanpy - INFO - Chain [1] start processing\n"
     ]
    },
    {
     "name": "stdout",
     "output_type": "stream",
     "text": [
      "--------------------------------------------------------------------------------------------------\n",
      "try 233 -- Mean Absolute Percentage Error(MAPE)------------------------------------ 8.658296625268155\n"
     ]
    },
    {
     "name": "stderr",
     "output_type": "stream",
     "text": [
      "14:32:20 - cmdstanpy - INFO - Chain [1] done processing\n",
      "14:32:20 - cmdstanpy - INFO - Chain [1] start processing\n"
     ]
    },
    {
     "name": "stdout",
     "output_type": "stream",
     "text": [
      "--------------------------------------------------------------------------------------------------\n",
      "try 234 -- Mean Absolute Percentage Error(MAPE)------------------------------------ 8.670028450640324\n"
     ]
    },
    {
     "name": "stderr",
     "output_type": "stream",
     "text": [
      "14:32:20 - cmdstanpy - INFO - Chain [1] done processing\n",
      "14:32:21 - cmdstanpy - INFO - Chain [1] start processing\n"
     ]
    },
    {
     "name": "stdout",
     "output_type": "stream",
     "text": [
      "--------------------------------------------------------------------------------------------------\n",
      "try 235 -- Mean Absolute Percentage Error(MAPE)------------------------------------ 9.038186508484772\n"
     ]
    },
    {
     "name": "stderr",
     "output_type": "stream",
     "text": [
      "14:32:21 - cmdstanpy - INFO - Chain [1] done processing\n",
      "14:32:21 - cmdstanpy - INFO - Chain [1] start processing\n"
     ]
    },
    {
     "name": "stdout",
     "output_type": "stream",
     "text": [
      "--------------------------------------------------------------------------------------------------\n",
      "try 236 -- Mean Absolute Percentage Error(MAPE)------------------------------------ 10.568844641730221\n"
     ]
    },
    {
     "name": "stderr",
     "output_type": "stream",
     "text": [
      "14:32:21 - cmdstanpy - INFO - Chain [1] done processing\n",
      "14:32:21 - cmdstanpy - INFO - Chain [1] start processing\n"
     ]
    },
    {
     "name": "stdout",
     "output_type": "stream",
     "text": [
      "--------------------------------------------------------------------------------------------------\n",
      "try 237 -- Mean Absolute Percentage Error(MAPE)------------------------------------ 12.477164862920697\n"
     ]
    },
    {
     "name": "stderr",
     "output_type": "stream",
     "text": [
      "14:32:22 - cmdstanpy - INFO - Chain [1] done processing\n",
      "14:32:22 - cmdstanpy - INFO - Chain [1] start processing\n"
     ]
    },
    {
     "name": "stdout",
     "output_type": "stream",
     "text": [
      "--------------------------------------------------------------------------------------------------\n",
      "try 238 -- Mean Absolute Percentage Error(MAPE)------------------------------------ 14.536922671136022\n"
     ]
    },
    {
     "name": "stderr",
     "output_type": "stream",
     "text": [
      "14:32:22 - cmdstanpy - INFO - Chain [1] done processing\n",
      "14:32:22 - cmdstanpy - INFO - Chain [1] start processing\n"
     ]
    },
    {
     "name": "stdout",
     "output_type": "stream",
     "text": [
      "--------------------------------------------------------------------------------------------------\n",
      "try 239 -- Mean Absolute Percentage Error(MAPE)------------------------------------ 16.479838969701554\n"
     ]
    },
    {
     "name": "stderr",
     "output_type": "stream",
     "text": [
      "14:32:23 - cmdstanpy - INFO - Chain [1] done processing\n",
      "14:32:23 - cmdstanpy - INFO - Chain [1] start processing\n"
     ]
    },
    {
     "name": "stdout",
     "output_type": "stream",
     "text": [
      "--------------------------------------------------------------------------------------------------\n",
      "try 240 -- Mean Absolute Percentage Error(MAPE)------------------------------------ 22.90936679499732\n"
     ]
    },
    {
     "name": "stderr",
     "output_type": "stream",
     "text": [
      "14:32:23 - cmdstanpy - INFO - Chain [1] done processing\n",
      "14:32:23 - cmdstanpy - INFO - Chain [1] start processing\n"
     ]
    },
    {
     "name": "stdout",
     "output_type": "stream",
     "text": [
      "--------------------------------------------------------------------------------------------------\n",
      "try 241 -- Mean Absolute Percentage Error(MAPE)------------------------------------ 20.399443226466044\n"
     ]
    },
    {
     "name": "stderr",
     "output_type": "stream",
     "text": [
      "14:32:23 - cmdstanpy - INFO - Chain [1] done processing\n",
      "14:32:23 - cmdstanpy - INFO - Chain [1] start processing\n"
     ]
    },
    {
     "name": "stdout",
     "output_type": "stream",
     "text": [
      "--------------------------------------------------------------------------------------------------\n",
      "try 242 -- Mean Absolute Percentage Error(MAPE)------------------------------------ 18.454641939724482\n"
     ]
    },
    {
     "name": "stderr",
     "output_type": "stream",
     "text": [
      "14:32:23 - cmdstanpy - INFO - Chain [1] done processing\n",
      "14:32:24 - cmdstanpy - INFO - Chain [1] start processing\n"
     ]
    },
    {
     "name": "stdout",
     "output_type": "stream",
     "text": [
      "--------------------------------------------------------------------------------------------------\n",
      "try 243 -- Mean Absolute Percentage Error(MAPE)------------------------------------ 15.598256931315646\n"
     ]
    },
    {
     "name": "stderr",
     "output_type": "stream",
     "text": [
      "14:32:24 - cmdstanpy - INFO - Chain [1] done processing\n",
      "14:32:24 - cmdstanpy - INFO - Chain [1] start processing\n"
     ]
    },
    {
     "name": "stdout",
     "output_type": "stream",
     "text": [
      "--------------------------------------------------------------------------------------------------\n",
      "try 244 -- Mean Absolute Percentage Error(MAPE)------------------------------------ 12.983928163330614\n"
     ]
    },
    {
     "name": "stderr",
     "output_type": "stream",
     "text": [
      "14:32:24 - cmdstanpy - INFO - Chain [1] done processing\n",
      "14:32:24 - cmdstanpy - INFO - Chain [1] start processing\n"
     ]
    },
    {
     "name": "stdout",
     "output_type": "stream",
     "text": [
      "--------------------------------------------------------------------------------------------------\n",
      "try 245 -- Mean Absolute Percentage Error(MAPE)------------------------------------ 11.13115723617078\n"
     ]
    },
    {
     "name": "stderr",
     "output_type": "stream",
     "text": [
      "14:32:25 - cmdstanpy - INFO - Chain [1] done processing\n",
      "14:32:25 - cmdstanpy - INFO - Chain [1] start processing\n"
     ]
    },
    {
     "name": "stdout",
     "output_type": "stream",
     "text": [
      "--------------------------------------------------------------------------------------------------\n",
      "try 246 -- Mean Absolute Percentage Error(MAPE)------------------------------------ 8.343762807627918\n"
     ]
    },
    {
     "name": "stderr",
     "output_type": "stream",
     "text": [
      "14:32:25 - cmdstanpy - INFO - Chain [1] done processing\n",
      "14:32:25 - cmdstanpy - INFO - Chain [1] start processing\n"
     ]
    },
    {
     "name": "stdout",
     "output_type": "stream",
     "text": [
      "--------------------------------------------------------------------------------------------------\n",
      "try 247 -- Mean Absolute Percentage Error(MAPE)------------------------------------ 7.654528054507612\n"
     ]
    },
    {
     "name": "stderr",
     "output_type": "stream",
     "text": [
      "14:32:25 - cmdstanpy - INFO - Chain [1] done processing\n",
      "14:32:26 - cmdstanpy - INFO - Chain [1] start processing\n"
     ]
    },
    {
     "name": "stdout",
     "output_type": "stream",
     "text": [
      "--------------------------------------------------------------------------------------------------\n",
      "try 248 -- Mean Absolute Percentage Error(MAPE)------------------------------------ 7.638964952182689\n"
     ]
    },
    {
     "name": "stderr",
     "output_type": "stream",
     "text": [
      "14:32:26 - cmdstanpy - INFO - Chain [1] done processing\n",
      "14:32:26 - cmdstanpy - INFO - Chain [1] start processing\n"
     ]
    },
    {
     "name": "stdout",
     "output_type": "stream",
     "text": [
      "--------------------------------------------------------------------------------------------------\n",
      "try 249 -- Mean Absolute Percentage Error(MAPE)------------------------------------ 7.681969414622057\n"
     ]
    },
    {
     "name": "stderr",
     "output_type": "stream",
     "text": [
      "14:32:26 - cmdstanpy - INFO - Chain [1] done processing\n",
      "14:32:26 - cmdstanpy - INFO - Chain [1] start processing\n"
     ]
    },
    {
     "name": "stdout",
     "output_type": "stream",
     "text": [
      "--------------------------------------------------------------------------------------------------\n",
      "try 250 -- Mean Absolute Percentage Error(MAPE)------------------------------------ 7.98953938512258\n"
     ]
    },
    {
     "name": "stderr",
     "output_type": "stream",
     "text": [
      "14:32:27 - cmdstanpy - INFO - Chain [1] done processing\n",
      "14:32:27 - cmdstanpy - INFO - Chain [1] start processing\n"
     ]
    },
    {
     "name": "stdout",
     "output_type": "stream",
     "text": [
      "--------------------------------------------------------------------------------------------------\n",
      "try 251 -- Mean Absolute Percentage Error(MAPE)------------------------------------ 10.841397585013796\n"
     ]
    },
    {
     "name": "stderr",
     "output_type": "stream",
     "text": [
      "14:32:27 - cmdstanpy - INFO - Chain [1] done processing\n",
      "14:32:27 - cmdstanpy - INFO - Chain [1] start processing\n"
     ]
    },
    {
     "name": "stdout",
     "output_type": "stream",
     "text": [
      "--------------------------------------------------------------------------------------------------\n",
      "try 252 -- Mean Absolute Percentage Error(MAPE)------------------------------------ 14.24735256983376\n"
     ]
    },
    {
     "name": "stderr",
     "output_type": "stream",
     "text": [
      "14:32:27 - cmdstanpy - INFO - Chain [1] done processing\n",
      "14:32:28 - cmdstanpy - INFO - Chain [1] start processing\n"
     ]
    },
    {
     "name": "stdout",
     "output_type": "stream",
     "text": [
      "--------------------------------------------------------------------------------------------------\n",
      "try 253 -- Mean Absolute Percentage Error(MAPE)------------------------------------ 15.542629321348375\n"
     ]
    },
    {
     "name": "stderr",
     "output_type": "stream",
     "text": [
      "14:32:28 - cmdstanpy - INFO - Chain [1] done processing\n",
      "14:32:28 - cmdstanpy - INFO - Chain [1] start processing\n"
     ]
    },
    {
     "name": "stdout",
     "output_type": "stream",
     "text": [
      "--------------------------------------------------------------------------------------------------\n",
      "try 254 -- Mean Absolute Percentage Error(MAPE)------------------------------------ 16.135835346783477\n"
     ]
    },
    {
     "name": "stderr",
     "output_type": "stream",
     "text": [
      "14:32:28 - cmdstanpy - INFO - Chain [1] done processing\n",
      "14:32:29 - cmdstanpy - INFO - Chain [1] start processing\n"
     ]
    },
    {
     "name": "stdout",
     "output_type": "stream",
     "text": [
      "--------------------------------------------------------------------------------------------------\n",
      "try 255 -- Mean Absolute Percentage Error(MAPE)------------------------------------ 16.448650606535168\n"
     ]
    },
    {
     "name": "stderr",
     "output_type": "stream",
     "text": [
      "14:32:29 - cmdstanpy - INFO - Chain [1] done processing\n",
      "14:32:29 - cmdstanpy - INFO - Chain [1] start processing\n"
     ]
    },
    {
     "name": "stdout",
     "output_type": "stream",
     "text": [
      "--------------------------------------------------------------------------------------------------\n",
      "try 256 -- Mean Absolute Percentage Error(MAPE)------------------------------------ 16.85867200192511\n"
     ]
    },
    {
     "name": "stderr",
     "output_type": "stream",
     "text": [
      "14:32:29 - cmdstanpy - INFO - Chain [1] done processing\n",
      "14:32:29 - cmdstanpy - INFO - Chain [1] start processing\n"
     ]
    },
    {
     "name": "stdout",
     "output_type": "stream",
     "text": [
      "--------------------------------------------------------------------------------------------------\n",
      "try 257 -- Mean Absolute Percentage Error(MAPE)------------------------------------ 20.813409301266113\n"
     ]
    },
    {
     "name": "stderr",
     "output_type": "stream",
     "text": [
      "14:32:29 - cmdstanpy - INFO - Chain [1] done processing\n",
      "14:32:30 - cmdstanpy - INFO - Chain [1] start processing\n"
     ]
    },
    {
     "name": "stdout",
     "output_type": "stream",
     "text": [
      "--------------------------------------------------------------------------------------------------\n",
      "try 258 -- Mean Absolute Percentage Error(MAPE)------------------------------------ 20.30755733572813\n"
     ]
    },
    {
     "name": "stderr",
     "output_type": "stream",
     "text": [
      "14:32:30 - cmdstanpy - INFO - Chain [1] done processing\n",
      "14:32:30 - cmdstanpy - INFO - Chain [1] start processing\n"
     ]
    },
    {
     "name": "stdout",
     "output_type": "stream",
     "text": [
      "--------------------------------------------------------------------------------------------------\n",
      "try 259 -- Mean Absolute Percentage Error(MAPE)------------------------------------ 19.404643127050164\n"
     ]
    },
    {
     "name": "stderr",
     "output_type": "stream",
     "text": [
      "14:32:30 - cmdstanpy - INFO - Chain [1] done processing\n",
      "14:32:30 - cmdstanpy - INFO - Chain [1] start processing\n"
     ]
    },
    {
     "name": "stdout",
     "output_type": "stream",
     "text": [
      "--------------------------------------------------------------------------------------------------\n",
      "try 260 -- Mean Absolute Percentage Error(MAPE)------------------------------------ 18.358220076498316\n"
     ]
    },
    {
     "name": "stderr",
     "output_type": "stream",
     "text": [
      "14:32:30 - cmdstanpy - INFO - Chain [1] done processing\n",
      "14:32:31 - cmdstanpy - INFO - Chain [1] start processing\n"
     ]
    },
    {
     "name": "stdout",
     "output_type": "stream",
     "text": [
      "--------------------------------------------------------------------------------------------------\n",
      "try 261 -- Mean Absolute Percentage Error(MAPE)------------------------------------ 17.021017105256732\n"
     ]
    },
    {
     "name": "stderr",
     "output_type": "stream",
     "text": [
      "14:32:31 - cmdstanpy - INFO - Chain [1] done processing\n",
      "14:32:31 - cmdstanpy - INFO - Chain [1] start processing\n"
     ]
    },
    {
     "name": "stdout",
     "output_type": "stream",
     "text": [
      "--------------------------------------------------------------------------------------------------\n",
      "try 262 -- Mean Absolute Percentage Error(MAPE)------------------------------------ 12.044073906953798\n"
     ]
    },
    {
     "name": "stderr",
     "output_type": "stream",
     "text": [
      "14:32:31 - cmdstanpy - INFO - Chain [1] done processing\n",
      "14:32:31 - cmdstanpy - INFO - Chain [1] start processing\n"
     ]
    },
    {
     "name": "stdout",
     "output_type": "stream",
     "text": [
      "--------------------------------------------------------------------------------------------------\n",
      "try 263 -- Mean Absolute Percentage Error(MAPE)------------------------------------ 8.731398226661785\n"
     ]
    },
    {
     "name": "stderr",
     "output_type": "stream",
     "text": [
      "14:32:31 - cmdstanpy - INFO - Chain [1] done processing\n",
      "14:32:32 - cmdstanpy - INFO - Chain [1] start processing\n"
     ]
    },
    {
     "name": "stdout",
     "output_type": "stream",
     "text": [
      "--------------------------------------------------------------------------------------------------\n",
      "try 264 -- Mean Absolute Percentage Error(MAPE)------------------------------------ 8.657897840061018\n"
     ]
    },
    {
     "name": "stderr",
     "output_type": "stream",
     "text": [
      "14:32:32 - cmdstanpy - INFO - Chain [1] done processing\n",
      "14:32:32 - cmdstanpy - INFO - Chain [1] start processing\n"
     ]
    },
    {
     "name": "stdout",
     "output_type": "stream",
     "text": [
      "--------------------------------------------------------------------------------------------------\n",
      "try 265 -- Mean Absolute Percentage Error(MAPE)------------------------------------ 8.650266198689968\n"
     ]
    },
    {
     "name": "stderr",
     "output_type": "stream",
     "text": [
      "14:32:32 - cmdstanpy - INFO - Chain [1] done processing\n",
      "14:32:32 - cmdstanpy - INFO - Chain [1] start processing\n"
     ]
    },
    {
     "name": "stdout",
     "output_type": "stream",
     "text": [
      "--------------------------------------------------------------------------------------------------\n",
      "try 266 -- Mean Absolute Percentage Error(MAPE)------------------------------------ 8.657537261437785\n"
     ]
    },
    {
     "name": "stderr",
     "output_type": "stream",
     "text": [
      "14:32:33 - cmdstanpy - INFO - Chain [1] done processing\n",
      "14:32:33 - cmdstanpy - INFO - Chain [1] start processing\n"
     ]
    },
    {
     "name": "stdout",
     "output_type": "stream",
     "text": [
      "--------------------------------------------------------------------------------------------------\n",
      "try 267 -- Mean Absolute Percentage Error(MAPE)------------------------------------ 9.060580421656683\n"
     ]
    },
    {
     "name": "stderr",
     "output_type": "stream",
     "text": [
      "14:32:33 - cmdstanpy - INFO - Chain [1] done processing\n",
      "14:32:33 - cmdstanpy - INFO - Chain [1] start processing\n"
     ]
    },
    {
     "name": "stdout",
     "output_type": "stream",
     "text": [
      "--------------------------------------------------------------------------------------------------\n",
      "try 268 -- Mean Absolute Percentage Error(MAPE)------------------------------------ 10.546334097103898\n"
     ]
    },
    {
     "name": "stderr",
     "output_type": "stream",
     "text": [
      "14:32:33 - cmdstanpy - INFO - Chain [1] done processing\n",
      "14:32:34 - cmdstanpy - INFO - Chain [1] start processing\n"
     ]
    },
    {
     "name": "stdout",
     "output_type": "stream",
     "text": [
      "--------------------------------------------------------------------------------------------------\n",
      "try 269 -- Mean Absolute Percentage Error(MAPE)------------------------------------ 12.473848894305828\n"
     ]
    },
    {
     "name": "stderr",
     "output_type": "stream",
     "text": [
      "14:32:34 - cmdstanpy - INFO - Chain [1] done processing\n",
      "14:32:34 - cmdstanpy - INFO - Chain [1] start processing\n"
     ]
    },
    {
     "name": "stdout",
     "output_type": "stream",
     "text": [
      "--------------------------------------------------------------------------------------------------\n",
      "try 270 -- Mean Absolute Percentage Error(MAPE)------------------------------------ 14.538834057174416\n"
     ]
    },
    {
     "name": "stderr",
     "output_type": "stream",
     "text": [
      "14:32:34 - cmdstanpy - INFO - Chain [1] done processing\n",
      "14:32:35 - cmdstanpy - INFO - Chain [1] start processing\n"
     ]
    },
    {
     "name": "stdout",
     "output_type": "stream",
     "text": [
      "--------------------------------------------------------------------------------------------------\n",
      "try 271 -- Mean Absolute Percentage Error(MAPE)------------------------------------ 16.50223425393373\n"
     ]
    },
    {
     "name": "stderr",
     "output_type": "stream",
     "text": [
      "14:32:35 - cmdstanpy - INFO - Chain [1] done processing\n",
      "14:32:35 - cmdstanpy - INFO - Chain [1] start processing\n"
     ]
    },
    {
     "name": "stdout",
     "output_type": "stream",
     "text": [
      "--------------------------------------------------------------------------------------------------\n",
      "try 272 -- Mean Absolute Percentage Error(MAPE)------------------------------------ 22.897897217855487\n"
     ]
    },
    {
     "name": "stderr",
     "output_type": "stream",
     "text": [
      "14:32:35 - cmdstanpy - INFO - Chain [1] done processing\n",
      "14:32:36 - cmdstanpy - INFO - Chain [1] start processing\n"
     ]
    },
    {
     "name": "stdout",
     "output_type": "stream",
     "text": [
      "--------------------------------------------------------------------------------------------------\n",
      "try 273 -- Mean Absolute Percentage Error(MAPE)------------------------------------ 20.435003039139847\n"
     ]
    },
    {
     "name": "stderr",
     "output_type": "stream",
     "text": [
      "14:32:36 - cmdstanpy - INFO - Chain [1] done processing\n",
      "14:32:36 - cmdstanpy - INFO - Chain [1] start processing\n"
     ]
    },
    {
     "name": "stdout",
     "output_type": "stream",
     "text": [
      "--------------------------------------------------------------------------------------------------\n",
      "try 274 -- Mean Absolute Percentage Error(MAPE)------------------------------------ 18.50849072432357\n"
     ]
    },
    {
     "name": "stderr",
     "output_type": "stream",
     "text": [
      "14:32:36 - cmdstanpy - INFO - Chain [1] done processing\n",
      "14:32:36 - cmdstanpy - INFO - Chain [1] start processing\n"
     ]
    },
    {
     "name": "stdout",
     "output_type": "stream",
     "text": [
      "--------------------------------------------------------------------------------------------------\n",
      "try 275 -- Mean Absolute Percentage Error(MAPE)------------------------------------ 15.670348901559409\n"
     ]
    },
    {
     "name": "stderr",
     "output_type": "stream",
     "text": [
      "14:32:37 - cmdstanpy - INFO - Chain [1] done processing\n",
      "14:32:37 - cmdstanpy - INFO - Chain [1] start processing\n"
     ]
    },
    {
     "name": "stdout",
     "output_type": "stream",
     "text": [
      "--------------------------------------------------------------------------------------------------\n",
      "try 276 -- Mean Absolute Percentage Error(MAPE)------------------------------------ 13.065869508211561\n"
     ]
    },
    {
     "name": "stderr",
     "output_type": "stream",
     "text": [
      "14:32:37 - cmdstanpy - INFO - Chain [1] done processing\n",
      "14:32:37 - cmdstanpy - INFO - Chain [1] start processing\n"
     ]
    },
    {
     "name": "stdout",
     "output_type": "stream",
     "text": [
      "--------------------------------------------------------------------------------------------------\n",
      "try 277 -- Mean Absolute Percentage Error(MAPE)------------------------------------ 11.123355229240094\n"
     ]
    },
    {
     "name": "stderr",
     "output_type": "stream",
     "text": [
      "14:32:37 - cmdstanpy - INFO - Chain [1] done processing\n",
      "14:32:38 - cmdstanpy - INFO - Chain [1] start processing\n"
     ]
    },
    {
     "name": "stdout",
     "output_type": "stream",
     "text": [
      "--------------------------------------------------------------------------------------------------\n",
      "try 278 -- Mean Absolute Percentage Error(MAPE)------------------------------------ 8.36028684626999\n"
     ]
    },
    {
     "name": "stderr",
     "output_type": "stream",
     "text": [
      "14:32:38 - cmdstanpy - INFO - Chain [1] done processing\n",
      "14:32:38 - cmdstanpy - INFO - Chain [1] start processing\n"
     ]
    },
    {
     "name": "stdout",
     "output_type": "stream",
     "text": [
      "--------------------------------------------------------------------------------------------------\n",
      "try 279 -- Mean Absolute Percentage Error(MAPE)------------------------------------ 7.616789091421403\n"
     ]
    },
    {
     "name": "stderr",
     "output_type": "stream",
     "text": [
      "14:32:38 - cmdstanpy - INFO - Chain [1] done processing\n",
      "14:32:38 - cmdstanpy - INFO - Chain [1] start processing\n"
     ]
    },
    {
     "name": "stdout",
     "output_type": "stream",
     "text": [
      "--------------------------------------------------------------------------------------------------\n",
      "try 280 -- Mean Absolute Percentage Error(MAPE)------------------------------------ 7.6026165489295305\n"
     ]
    },
    {
     "name": "stderr",
     "output_type": "stream",
     "text": [
      "14:32:39 - cmdstanpy - INFO - Chain [1] done processing\n",
      "14:32:39 - cmdstanpy - INFO - Chain [1] start processing\n"
     ]
    },
    {
     "name": "stdout",
     "output_type": "stream",
     "text": [
      "--------------------------------------------------------------------------------------------------\n",
      "try 281 -- Mean Absolute Percentage Error(MAPE)------------------------------------ 7.729883619111387\n"
     ]
    },
    {
     "name": "stderr",
     "output_type": "stream",
     "text": [
      "14:32:39 - cmdstanpy - INFO - Chain [1] done processing\n",
      "14:32:39 - cmdstanpy - INFO - Chain [1] start processing\n"
     ]
    },
    {
     "name": "stdout",
     "output_type": "stream",
     "text": [
      "--------------------------------------------------------------------------------------------------\n",
      "try 282 -- Mean Absolute Percentage Error(MAPE)------------------------------------ 7.967272910583858\n"
     ]
    },
    {
     "name": "stderr",
     "output_type": "stream",
     "text": [
      "14:32:39 - cmdstanpy - INFO - Chain [1] done processing\n",
      "14:32:40 - cmdstanpy - INFO - Chain [1] start processing\n"
     ]
    },
    {
     "name": "stdout",
     "output_type": "stream",
     "text": [
      "--------------------------------------------------------------------------------------------------\n",
      "try 283 -- Mean Absolute Percentage Error(MAPE)------------------------------------ 10.840094977549983\n"
     ]
    },
    {
     "name": "stderr",
     "output_type": "stream",
     "text": [
      "14:32:40 - cmdstanpy - INFO - Chain [1] done processing\n",
      "14:32:40 - cmdstanpy - INFO - Chain [1] start processing\n"
     ]
    },
    {
     "name": "stdout",
     "output_type": "stream",
     "text": [
      "--------------------------------------------------------------------------------------------------\n",
      "try 284 -- Mean Absolute Percentage Error(MAPE)------------------------------------ 14.245119888915397\n"
     ]
    },
    {
     "name": "stderr",
     "output_type": "stream",
     "text": [
      "14:32:40 - cmdstanpy - INFO - Chain [1] done processing\n",
      "14:32:40 - cmdstanpy - INFO - Chain [1] start processing\n"
     ]
    },
    {
     "name": "stdout",
     "output_type": "stream",
     "text": [
      "--------------------------------------------------------------------------------------------------\n",
      "try 285 -- Mean Absolute Percentage Error(MAPE)------------------------------------ 15.557245240836409\n"
     ]
    },
    {
     "name": "stderr",
     "output_type": "stream",
     "text": [
      "14:32:41 - cmdstanpy - INFO - Chain [1] done processing\n",
      "14:32:41 - cmdstanpy - INFO - Chain [1] start processing\n"
     ]
    },
    {
     "name": "stdout",
     "output_type": "stream",
     "text": [
      "--------------------------------------------------------------------------------------------------\n",
      "try 286 -- Mean Absolute Percentage Error(MAPE)------------------------------------ 16.141639543374005\n"
     ]
    },
    {
     "name": "stderr",
     "output_type": "stream",
     "text": [
      "14:32:41 - cmdstanpy - INFO - Chain [1] done processing\n",
      "14:32:41 - cmdstanpy - INFO - Chain [1] start processing\n"
     ]
    },
    {
     "name": "stdout",
     "output_type": "stream",
     "text": [
      "--------------------------------------------------------------------------------------------------\n",
      "try 287 -- Mean Absolute Percentage Error(MAPE)------------------------------------ 16.431427630949752\n"
     ]
    },
    {
     "name": "stderr",
     "output_type": "stream",
     "text": [
      "14:32:42 - cmdstanpy - INFO - Chain [1] done processing\n",
      "14:32:42 - cmdstanpy - INFO - Chain [1] start processing\n"
     ]
    },
    {
     "name": "stdout",
     "output_type": "stream",
     "text": [
      "--------------------------------------------------------------------------------------------------\n",
      "try 288 -- Mean Absolute Percentage Error(MAPE)------------------------------------ 16.859998730733196\n"
     ]
    },
    {
     "name": "stderr",
     "output_type": "stream",
     "text": [
      "14:32:42 - cmdstanpy - INFO - Chain [1] done processing\n",
      "14:32:42 - cmdstanpy - INFO - Chain [1] start processing\n"
     ]
    },
    {
     "name": "stdout",
     "output_type": "stream",
     "text": [
      "--------------------------------------------------------------------------------------------------\n",
      "try 289 -- Mean Absolute Percentage Error(MAPE)------------------------------------ 20.7168233575286\n"
     ]
    },
    {
     "name": "stderr",
     "output_type": "stream",
     "text": [
      "14:32:43 - cmdstanpy - INFO - Chain [1] done processing\n",
      "14:32:43 - cmdstanpy - INFO - Chain [1] start processing\n"
     ]
    },
    {
     "name": "stdout",
     "output_type": "stream",
     "text": [
      "--------------------------------------------------------------------------------------------------\n",
      "try 290 -- Mean Absolute Percentage Error(MAPE)------------------------------------ 20.29789985180342\n"
     ]
    },
    {
     "name": "stderr",
     "output_type": "stream",
     "text": [
      "14:32:43 - cmdstanpy - INFO - Chain [1] done processing\n",
      "14:32:43 - cmdstanpy - INFO - Chain [1] start processing\n"
     ]
    },
    {
     "name": "stdout",
     "output_type": "stream",
     "text": [
      "--------------------------------------------------------------------------------------------------\n",
      "try 291 -- Mean Absolute Percentage Error(MAPE)------------------------------------ 19.3790889990467\n"
     ]
    },
    {
     "name": "stderr",
     "output_type": "stream",
     "text": [
      "14:32:43 - cmdstanpy - INFO - Chain [1] done processing\n",
      "14:32:44 - cmdstanpy - INFO - Chain [1] start processing\n"
     ]
    },
    {
     "name": "stdout",
     "output_type": "stream",
     "text": [
      "--------------------------------------------------------------------------------------------------\n",
      "try 292 -- Mean Absolute Percentage Error(MAPE)------------------------------------ 18.14157600430358\n"
     ]
    },
    {
     "name": "stderr",
     "output_type": "stream",
     "text": [
      "14:32:44 - cmdstanpy - INFO - Chain [1] done processing\n",
      "14:32:44 - cmdstanpy - INFO - Chain [1] start processing\n"
     ]
    },
    {
     "name": "stdout",
     "output_type": "stream",
     "text": [
      "--------------------------------------------------------------------------------------------------\n",
      "try 293 -- Mean Absolute Percentage Error(MAPE)------------------------------------ 16.7816538259816\n"
     ]
    },
    {
     "name": "stderr",
     "output_type": "stream",
     "text": [
      "14:32:44 - cmdstanpy - INFO - Chain [1] done processing\n",
      "14:32:44 - cmdstanpy - INFO - Chain [1] start processing\n"
     ]
    },
    {
     "name": "stdout",
     "output_type": "stream",
     "text": [
      "--------------------------------------------------------------------------------------------------\n",
      "try 294 -- Mean Absolute Percentage Error(MAPE)------------------------------------ 12.035062722159177\n"
     ]
    },
    {
     "name": "stderr",
     "output_type": "stream",
     "text": [
      "14:32:45 - cmdstanpy - INFO - Chain [1] done processing\n"
     ]
    },
    {
     "name": "stdout",
     "output_type": "stream",
     "text": [
      "--------------------------------------------------------------------------------------------------\n",
      "try 295 -- Mean Absolute Percentage Error(MAPE)------------------------------------ 8.71312207939114\n"
     ]
    },
    {
     "name": "stderr",
     "output_type": "stream",
     "text": [
      "14:32:45 - cmdstanpy - INFO - Chain [1] start processing\n",
      "14:32:45 - cmdstanpy - INFO - Chain [1] done processing\n",
      "14:32:45 - cmdstanpy - INFO - Chain [1] start processing\n"
     ]
    },
    {
     "name": "stdout",
     "output_type": "stream",
     "text": [
      "--------------------------------------------------------------------------------------------------\n",
      "try 296 -- Mean Absolute Percentage Error(MAPE)------------------------------------ 8.673531655405556\n"
     ]
    },
    {
     "name": "stderr",
     "output_type": "stream",
     "text": [
      "14:32:46 - cmdstanpy - INFO - Chain [1] done processing\n",
      "14:32:46 - cmdstanpy - INFO - Chain [1] start processing\n"
     ]
    },
    {
     "name": "stdout",
     "output_type": "stream",
     "text": [
      "--------------------------------------------------------------------------------------------------\n",
      "try 297 -- Mean Absolute Percentage Error(MAPE)------------------------------------ 8.641184258691691\n"
     ]
    },
    {
     "name": "stderr",
     "output_type": "stream",
     "text": [
      "14:32:46 - cmdstanpy - INFO - Chain [1] done processing\n",
      "14:32:46 - cmdstanpy - INFO - Chain [1] start processing\n"
     ]
    },
    {
     "name": "stdout",
     "output_type": "stream",
     "text": [
      "--------------------------------------------------------------------------------------------------\n",
      "try 298 -- Mean Absolute Percentage Error(MAPE)------------------------------------ 8.667301225817988\n"
     ]
    },
    {
     "name": "stderr",
     "output_type": "stream",
     "text": [
      "14:32:46 - cmdstanpy - INFO - Chain [1] done processing\n",
      "14:32:47 - cmdstanpy - INFO - Chain [1] start processing\n"
     ]
    },
    {
     "name": "stdout",
     "output_type": "stream",
     "text": [
      "--------------------------------------------------------------------------------------------------\n",
      "try 299 -- Mean Absolute Percentage Error(MAPE)------------------------------------ 9.052474420969086\n"
     ]
    },
    {
     "name": "stderr",
     "output_type": "stream",
     "text": [
      "14:32:47 - cmdstanpy - INFO - Chain [1] done processing\n",
      "14:32:47 - cmdstanpy - INFO - Chain [1] start processing\n"
     ]
    },
    {
     "name": "stdout",
     "output_type": "stream",
     "text": [
      "--------------------------------------------------------------------------------------------------\n",
      "try 300 -- Mean Absolute Percentage Error(MAPE)------------------------------------ 10.537516300551593\n"
     ]
    },
    {
     "name": "stderr",
     "output_type": "stream",
     "text": [
      "14:32:47 - cmdstanpy - INFO - Chain [1] done processing\n",
      "14:32:47 - cmdstanpy - INFO - Chain [1] start processing\n"
     ]
    },
    {
     "name": "stdout",
     "output_type": "stream",
     "text": [
      "--------------------------------------------------------------------------------------------------\n",
      "try 301 -- Mean Absolute Percentage Error(MAPE)------------------------------------ 12.469158871841662\n"
     ]
    },
    {
     "name": "stderr",
     "output_type": "stream",
     "text": [
      "14:32:48 - cmdstanpy - INFO - Chain [1] done processing\n",
      "14:32:48 - cmdstanpy - INFO - Chain [1] start processing\n"
     ]
    },
    {
     "name": "stdout",
     "output_type": "stream",
     "text": [
      "--------------------------------------------------------------------------------------------------\n",
      "try 302 -- Mean Absolute Percentage Error(MAPE)------------------------------------ 14.537844173519666\n"
     ]
    },
    {
     "name": "stderr",
     "output_type": "stream",
     "text": [
      "14:32:48 - cmdstanpy - INFO - Chain [1] done processing\n",
      "14:32:48 - cmdstanpy - INFO - Chain [1] start processing\n"
     ]
    },
    {
     "name": "stdout",
     "output_type": "stream",
     "text": [
      "--------------------------------------------------------------------------------------------------\n",
      "try 303 -- Mean Absolute Percentage Error(MAPE)------------------------------------ 16.49234033409145\n"
     ]
    },
    {
     "name": "stderr",
     "output_type": "stream",
     "text": [
      "14:32:48 - cmdstanpy - INFO - Chain [1] done processing\n",
      "14:32:49 - cmdstanpy - INFO - Chain [1] start processing\n"
     ]
    },
    {
     "name": "stdout",
     "output_type": "stream",
     "text": [
      "--------------------------------------------------------------------------------------------------\n",
      "try 304 -- Mean Absolute Percentage Error(MAPE)------------------------------------ 22.89911440432023\n"
     ]
    },
    {
     "name": "stderr",
     "output_type": "stream",
     "text": [
      "14:32:49 - cmdstanpy - INFO - Chain [1] done processing\n",
      "14:32:49 - cmdstanpy - INFO - Chain [1] start processing\n"
     ]
    },
    {
     "name": "stdout",
     "output_type": "stream",
     "text": [
      "--------------------------------------------------------------------------------------------------\n",
      "try 305 -- Mean Absolute Percentage Error(MAPE)------------------------------------ 20.406500290735135\n"
     ]
    },
    {
     "name": "stderr",
     "output_type": "stream",
     "text": [
      "14:32:49 - cmdstanpy - INFO - Chain [1] done processing\n",
      "14:32:49 - cmdstanpy - INFO - Chain [1] start processing\n"
     ]
    },
    {
     "name": "stdout",
     "output_type": "stream",
     "text": [
      "--------------------------------------------------------------------------------------------------\n",
      "try 306 -- Mean Absolute Percentage Error(MAPE)------------------------------------ 18.46103157933236\n"
     ]
    },
    {
     "name": "stderr",
     "output_type": "stream",
     "text": [
      "14:32:49 - cmdstanpy - INFO - Chain [1] done processing\n",
      "14:32:50 - cmdstanpy - INFO - Chain [1] start processing\n"
     ]
    },
    {
     "name": "stdout",
     "output_type": "stream",
     "text": [
      "--------------------------------------------------------------------------------------------------\n",
      "try 307 -- Mean Absolute Percentage Error(MAPE)------------------------------------ 15.658969990461474\n"
     ]
    },
    {
     "name": "stderr",
     "output_type": "stream",
     "text": [
      "14:32:50 - cmdstanpy - INFO - Chain [1] done processing\n",
      "14:32:50 - cmdstanpy - INFO - Chain [1] start processing\n"
     ]
    },
    {
     "name": "stdout",
     "output_type": "stream",
     "text": [
      "--------------------------------------------------------------------------------------------------\n",
      "try 308 -- Mean Absolute Percentage Error(MAPE)------------------------------------ 12.976262642396035\n"
     ]
    },
    {
     "name": "stderr",
     "output_type": "stream",
     "text": [
      "14:32:50 - cmdstanpy - INFO - Chain [1] done processing\n",
      "14:32:50 - cmdstanpy - INFO - Chain [1] start processing\n"
     ]
    },
    {
     "name": "stdout",
     "output_type": "stream",
     "text": [
      "--------------------------------------------------------------------------------------------------\n",
      "try 309 -- Mean Absolute Percentage Error(MAPE)------------------------------------ 11.109966479714155\n"
     ]
    },
    {
     "name": "stderr",
     "output_type": "stream",
     "text": [
      "14:32:51 - cmdstanpy - INFO - Chain [1] done processing\n",
      "14:32:51 - cmdstanpy - INFO - Chain [1] start processing\n"
     ]
    },
    {
     "name": "stdout",
     "output_type": "stream",
     "text": [
      "--------------------------------------------------------------------------------------------------\n",
      "try 310 -- Mean Absolute Percentage Error(MAPE)------------------------------------ 8.3462099140728\n"
     ]
    },
    {
     "name": "stderr",
     "output_type": "stream",
     "text": [
      "14:32:51 - cmdstanpy - INFO - Chain [1] done processing\n",
      "14:32:51 - cmdstanpy - INFO - Chain [1] start processing\n"
     ]
    },
    {
     "name": "stdout",
     "output_type": "stream",
     "text": [
      "--------------------------------------------------------------------------------------------------\n",
      "try 311 -- Mean Absolute Percentage Error(MAPE)------------------------------------ 7.56125116407403\n"
     ]
    },
    {
     "name": "stderr",
     "output_type": "stream",
     "text": [
      "14:32:52 - cmdstanpy - INFO - Chain [1] done processing\n",
      "14:32:52 - cmdstanpy - INFO - Chain [1] start processing\n"
     ]
    },
    {
     "name": "stdout",
     "output_type": "stream",
     "text": [
      "--------------------------------------------------------------------------------------------------\n",
      "try 312 -- Mean Absolute Percentage Error(MAPE)------------------------------------ 7.59432295678778\n"
     ]
    },
    {
     "name": "stderr",
     "output_type": "stream",
     "text": [
      "14:32:52 - cmdstanpy - INFO - Chain [1] done processing\n",
      "14:32:52 - cmdstanpy - INFO - Chain [1] start processing\n"
     ]
    },
    {
     "name": "stdout",
     "output_type": "stream",
     "text": [
      "--------------------------------------------------------------------------------------------------\n",
      "try 313 -- Mean Absolute Percentage Error(MAPE)------------------------------------ 7.70789108759519\n"
     ]
    },
    {
     "name": "stderr",
     "output_type": "stream",
     "text": [
      "14:32:52 - cmdstanpy - INFO - Chain [1] done processing\n",
      "14:32:53 - cmdstanpy - INFO - Chain [1] start processing\n"
     ]
    },
    {
     "name": "stdout",
     "output_type": "stream",
     "text": [
      "--------------------------------------------------------------------------------------------------\n",
      "try 314 -- Mean Absolute Percentage Error(MAPE)------------------------------------ 7.9795437615398\n"
     ]
    },
    {
     "name": "stderr",
     "output_type": "stream",
     "text": [
      "14:32:53 - cmdstanpy - INFO - Chain [1] done processing\n",
      "14:32:53 - cmdstanpy - INFO - Chain [1] start processing\n"
     ]
    },
    {
     "name": "stdout",
     "output_type": "stream",
     "text": [
      "--------------------------------------------------------------------------------------------------\n",
      "try 315 -- Mean Absolute Percentage Error(MAPE)------------------------------------ 10.83852436340196\n"
     ]
    },
    {
     "name": "stderr",
     "output_type": "stream",
     "text": [
      "14:32:54 - cmdstanpy - INFO - Chain [1] done processing\n",
      "14:32:54 - cmdstanpy - INFO - Chain [1] start processing\n"
     ]
    },
    {
     "name": "stdout",
     "output_type": "stream",
     "text": [
      "--------------------------------------------------------------------------------------------------\n",
      "try 316 -- Mean Absolute Percentage Error(MAPE)------------------------------------ 14.27213521824886\n"
     ]
    },
    {
     "name": "stderr",
     "output_type": "stream",
     "text": [
      "14:32:54 - cmdstanpy - INFO - Chain [1] done processing\n",
      "14:32:54 - cmdstanpy - INFO - Chain [1] start processing\n"
     ]
    },
    {
     "name": "stdout",
     "output_type": "stream",
     "text": [
      "--------------------------------------------------------------------------------------------------\n",
      "try 317 -- Mean Absolute Percentage Error(MAPE)------------------------------------ 15.55752353686159\n"
     ]
    },
    {
     "name": "stderr",
     "output_type": "stream",
     "text": [
      "14:32:55 - cmdstanpy - INFO - Chain [1] done processing\n",
      "14:32:55 - cmdstanpy - INFO - Chain [1] start processing\n"
     ]
    },
    {
     "name": "stdout",
     "output_type": "stream",
     "text": [
      "--------------------------------------------------------------------------------------------------\n",
      "try 318 -- Mean Absolute Percentage Error(MAPE)------------------------------------ 16.13071976584111\n"
     ]
    },
    {
     "name": "stderr",
     "output_type": "stream",
     "text": [
      "14:32:55 - cmdstanpy - INFO - Chain [1] done processing\n",
      "14:32:55 - cmdstanpy - INFO - Chain [1] start processing\n"
     ]
    },
    {
     "name": "stdout",
     "output_type": "stream",
     "text": [
      "--------------------------------------------------------------------------------------------------\n",
      "try 319 -- Mean Absolute Percentage Error(MAPE)------------------------------------ 16.430417993105234\n"
     ]
    },
    {
     "name": "stderr",
     "output_type": "stream",
     "text": [
      "14:32:56 - cmdstanpy - INFO - Chain [1] done processing\n",
      "14:32:56 - cmdstanpy - INFO - Chain [1] start processing\n"
     ]
    },
    {
     "name": "stdout",
     "output_type": "stream",
     "text": [
      "--------------------------------------------------------------------------------------------------\n",
      "try 320 -- Mean Absolute Percentage Error(MAPE)------------------------------------ 16.865741038847865\n"
     ]
    },
    {
     "name": "stderr",
     "output_type": "stream",
     "text": [
      "14:32:56 - cmdstanpy - INFO - Chain [1] done processing\n",
      "14:32:56 - cmdstanpy - INFO - Chain [1] start processing\n"
     ]
    },
    {
     "name": "stdout",
     "output_type": "stream",
     "text": [
      "--------------------------------------------------------------------------------------------------\n",
      "try 321 -- Mean Absolute Percentage Error(MAPE)------------------------------------ 20.817711508969793\n"
     ]
    },
    {
     "name": "stderr",
     "output_type": "stream",
     "text": [
      "14:32:56 - cmdstanpy - INFO - Chain [1] done processing\n",
      "14:32:56 - cmdstanpy - INFO - Chain [1] start processing\n"
     ]
    },
    {
     "name": "stdout",
     "output_type": "stream",
     "text": [
      "--------------------------------------------------------------------------------------------------\n",
      "try 322 -- Mean Absolute Percentage Error(MAPE)------------------------------------ 20.292618443406596\n"
     ]
    },
    {
     "name": "stderr",
     "output_type": "stream",
     "text": [
      "14:32:57 - cmdstanpy - INFO - Chain [1] done processing\n",
      "14:32:57 - cmdstanpy - INFO - Chain [1] start processing\n"
     ]
    },
    {
     "name": "stdout",
     "output_type": "stream",
     "text": [
      "--------------------------------------------------------------------------------------------------\n",
      "try 323 -- Mean Absolute Percentage Error(MAPE)------------------------------------ 19.377410940426522\n"
     ]
    },
    {
     "name": "stderr",
     "output_type": "stream",
     "text": [
      "14:32:57 - cmdstanpy - INFO - Chain [1] done processing\n",
      "14:32:57 - cmdstanpy - INFO - Chain [1] start processing\n"
     ]
    },
    {
     "name": "stdout",
     "output_type": "stream",
     "text": [
      "--------------------------------------------------------------------------------------------------\n",
      "try 324 -- Mean Absolute Percentage Error(MAPE)------------------------------------ 18.221327530675687\n"
     ]
    },
    {
     "name": "stderr",
     "output_type": "stream",
     "text": [
      "14:32:57 - cmdstanpy - INFO - Chain [1] done processing\n",
      "14:32:58 - cmdstanpy - INFO - Chain [1] start processing\n"
     ]
    },
    {
     "name": "stdout",
     "output_type": "stream",
     "text": [
      "--------------------------------------------------------------------------------------------------\n",
      "try 325 -- Mean Absolute Percentage Error(MAPE)------------------------------------ 16.80512581180661\n"
     ]
    },
    {
     "name": "stderr",
     "output_type": "stream",
     "text": [
      "14:32:58 - cmdstanpy - INFO - Chain [1] done processing\n",
      "14:32:58 - cmdstanpy - INFO - Chain [1] start processing\n"
     ]
    },
    {
     "name": "stdout",
     "output_type": "stream",
     "text": [
      "--------------------------------------------------------------------------------------------------\n",
      "try 326 -- Mean Absolute Percentage Error(MAPE)------------------------------------ 12.027437143665706\n"
     ]
    },
    {
     "name": "stderr",
     "output_type": "stream",
     "text": [
      "14:32:58 - cmdstanpy - INFO - Chain [1] done processing\n",
      "14:32:58 - cmdstanpy - INFO - Chain [1] start processing\n"
     ]
    },
    {
     "name": "stdout",
     "output_type": "stream",
     "text": [
      "--------------------------------------------------------------------------------------------------\n",
      "try 327 -- Mean Absolute Percentage Error(MAPE)------------------------------------ 8.715155549319459\n"
     ]
    },
    {
     "name": "stderr",
     "output_type": "stream",
     "text": [
      "14:32:59 - cmdstanpy - INFO - Chain [1] done processing\n",
      "14:32:59 - cmdstanpy - INFO - Chain [1] start processing\n"
     ]
    },
    {
     "name": "stdout",
     "output_type": "stream",
     "text": [
      "--------------------------------------------------------------------------------------------------\n",
      "try 328 -- Mean Absolute Percentage Error(MAPE)------------------------------------ 8.661210824101328\n"
     ]
    },
    {
     "name": "stderr",
     "output_type": "stream",
     "text": [
      "14:32:59 - cmdstanpy - INFO - Chain [1] done processing\n",
      "14:32:59 - cmdstanpy - INFO - Chain [1] start processing\n"
     ]
    },
    {
     "name": "stdout",
     "output_type": "stream",
     "text": [
      "--------------------------------------------------------------------------------------------------\n",
      "try 329 -- Mean Absolute Percentage Error(MAPE)------------------------------------ 8.653789383191937\n"
     ]
    },
    {
     "name": "stderr",
     "output_type": "stream",
     "text": [
      "14:32:59 - cmdstanpy - INFO - Chain [1] done processing\n",
      "14:32:59 - cmdstanpy - INFO - Chain [1] start processing\n"
     ]
    },
    {
     "name": "stdout",
     "output_type": "stream",
     "text": [
      "--------------------------------------------------------------------------------------------------\n",
      "try 330 -- Mean Absolute Percentage Error(MAPE)------------------------------------ 8.671915360135111\n"
     ]
    },
    {
     "name": "stderr",
     "output_type": "stream",
     "text": [
      "14:33:00 - cmdstanpy - INFO - Chain [1] done processing\n",
      "14:33:00 - cmdstanpy - INFO - Chain [1] start processing\n"
     ]
    },
    {
     "name": "stdout",
     "output_type": "stream",
     "text": [
      "--------------------------------------------------------------------------------------------------\n",
      "try 331 -- Mean Absolute Percentage Error(MAPE)------------------------------------ 9.06669009292923\n"
     ]
    },
    {
     "name": "stderr",
     "output_type": "stream",
     "text": [
      "14:33:00 - cmdstanpy - INFO - Chain [1] done processing\n",
      "14:33:00 - cmdstanpy - INFO - Chain [1] start processing\n"
     ]
    },
    {
     "name": "stdout",
     "output_type": "stream",
     "text": [
      "--------------------------------------------------------------------------------------------------\n",
      "try 332 -- Mean Absolute Percentage Error(MAPE)------------------------------------ 10.554997722499262\n"
     ]
    },
    {
     "name": "stderr",
     "output_type": "stream",
     "text": [
      "14:33:00 - cmdstanpy - INFO - Chain [1] done processing\n",
      "14:33:01 - cmdstanpy - INFO - Chain [1] start processing\n"
     ]
    },
    {
     "name": "stdout",
     "output_type": "stream",
     "text": [
      "--------------------------------------------------------------------------------------------------\n",
      "try 333 -- Mean Absolute Percentage Error(MAPE)------------------------------------ 12.489917575875811\n"
     ]
    },
    {
     "name": "stderr",
     "output_type": "stream",
     "text": [
      "14:33:01 - cmdstanpy - INFO - Chain [1] done processing\n",
      "14:33:01 - cmdstanpy - INFO - Chain [1] start processing\n"
     ]
    },
    {
     "name": "stdout",
     "output_type": "stream",
     "text": [
      "--------------------------------------------------------------------------------------------------\n",
      "try 334 -- Mean Absolute Percentage Error(MAPE)------------------------------------ 14.573486496153349\n"
     ]
    },
    {
     "name": "stderr",
     "output_type": "stream",
     "text": [
      "14:33:01 - cmdstanpy - INFO - Chain [1] done processing\n",
      "14:33:01 - cmdstanpy - INFO - Chain [1] start processing\n"
     ]
    },
    {
     "name": "stdout",
     "output_type": "stream",
     "text": [
      "--------------------------------------------------------------------------------------------------\n",
      "try 335 -- Mean Absolute Percentage Error(MAPE)------------------------------------ 16.52695273519552\n"
     ]
    },
    {
     "name": "stderr",
     "output_type": "stream",
     "text": [
      "14:33:01 - cmdstanpy - INFO - Chain [1] done processing\n",
      "14:33:02 - cmdstanpy - INFO - Chain [1] start processing\n"
     ]
    },
    {
     "name": "stdout",
     "output_type": "stream",
     "text": [
      "--------------------------------------------------------------------------------------------------\n",
      "try 336 -- Mean Absolute Percentage Error(MAPE)------------------------------------ 23.061587652087947\n"
     ]
    },
    {
     "name": "stderr",
     "output_type": "stream",
     "text": [
      "14:33:02 - cmdstanpy - INFO - Chain [1] done processing\n",
      "14:33:02 - cmdstanpy - INFO - Chain [1] start processing\n"
     ]
    },
    {
     "name": "stdout",
     "output_type": "stream",
     "text": [
      "--------------------------------------------------------------------------------------------------\n",
      "try 337 -- Mean Absolute Percentage Error(MAPE)------------------------------------ 20.39304423255988\n"
     ]
    },
    {
     "name": "stderr",
     "output_type": "stream",
     "text": [
      "14:33:02 - cmdstanpy - INFO - Chain [1] done processing\n",
      "14:33:02 - cmdstanpy - INFO - Chain [1] start processing\n"
     ]
    },
    {
     "name": "stdout",
     "output_type": "stream",
     "text": [
      "--------------------------------------------------------------------------------------------------\n",
      "try 338 -- Mean Absolute Percentage Error(MAPE)------------------------------------ 18.45452652422411\n"
     ]
    },
    {
     "name": "stderr",
     "output_type": "stream",
     "text": [
      "14:33:03 - cmdstanpy - INFO - Chain [1] done processing\n",
      "14:33:03 - cmdstanpy - INFO - Chain [1] start processing\n"
     ]
    },
    {
     "name": "stdout",
     "output_type": "stream",
     "text": [
      "--------------------------------------------------------------------------------------------------\n",
      "try 339 -- Mean Absolute Percentage Error(MAPE)------------------------------------ 15.565022311898552\n"
     ]
    },
    {
     "name": "stderr",
     "output_type": "stream",
     "text": [
      "14:33:03 - cmdstanpy - INFO - Chain [1] done processing\n",
      "14:33:03 - cmdstanpy - INFO - Chain [1] start processing\n"
     ]
    },
    {
     "name": "stdout",
     "output_type": "stream",
     "text": [
      "--------------------------------------------------------------------------------------------------\n",
      "try 340 -- Mean Absolute Percentage Error(MAPE)------------------------------------ 12.994595938219645\n"
     ]
    },
    {
     "name": "stderr",
     "output_type": "stream",
     "text": [
      "14:33:03 - cmdstanpy - INFO - Chain [1] done processing\n",
      "14:33:04 - cmdstanpy - INFO - Chain [1] start processing\n"
     ]
    },
    {
     "name": "stdout",
     "output_type": "stream",
     "text": [
      "--------------------------------------------------------------------------------------------------\n",
      "try 341 -- Mean Absolute Percentage Error(MAPE)------------------------------------ 11.007857267891557\n"
     ]
    },
    {
     "name": "stderr",
     "output_type": "stream",
     "text": [
      "14:33:04 - cmdstanpy - INFO - Chain [1] done processing\n"
     ]
    },
    {
     "name": "stdout",
     "output_type": "stream",
     "text": [
      "--------------------------------------------------------------------------------------------------\n",
      "try 342 -- Mean Absolute Percentage Error(MAPE)------------------------------------ 7.850885815655772\n"
     ]
    },
    {
     "name": "stderr",
     "output_type": "stream",
     "text": [
      "14:33:04 - cmdstanpy - INFO - Chain [1] start processing\n",
      "14:33:04 - cmdstanpy - INFO - Chain [1] done processing\n",
      "14:33:05 - cmdstanpy - INFO - Chain [1] start processing\n"
     ]
    },
    {
     "name": "stdout",
     "output_type": "stream",
     "text": [
      "--------------------------------------------------------------------------------------------------\n",
      "try 343 -- Mean Absolute Percentage Error(MAPE)------------------------------------ 8.922285221085563\n"
     ]
    },
    {
     "name": "stderr",
     "output_type": "stream",
     "text": [
      "14:33:05 - cmdstanpy - INFO - Chain [1] done processing\n",
      "14:33:05 - cmdstanpy - INFO - Chain [1] start processing\n"
     ]
    },
    {
     "name": "stdout",
     "output_type": "stream",
     "text": [
      "--------------------------------------------------------------------------------------------------\n",
      "try 344 -- Mean Absolute Percentage Error(MAPE)------------------------------------ 10.554588596023068\n"
     ]
    },
    {
     "name": "stderr",
     "output_type": "stream",
     "text": [
      "14:33:05 - cmdstanpy - INFO - Chain [1] done processing\n",
      "14:33:05 - cmdstanpy - INFO - Chain [1] start processing\n"
     ]
    },
    {
     "name": "stdout",
     "output_type": "stream",
     "text": [
      "--------------------------------------------------------------------------------------------------\n",
      "try 345 -- Mean Absolute Percentage Error(MAPE)------------------------------------ 12.2260918481786\n"
     ]
    },
    {
     "name": "stderr",
     "output_type": "stream",
     "text": [
      "14:33:06 - cmdstanpy - INFO - Chain [1] done processing\n",
      "14:33:06 - cmdstanpy - INFO - Chain [1] start processing\n"
     ]
    },
    {
     "name": "stdout",
     "output_type": "stream",
     "text": [
      "--------------------------------------------------------------------------------------------------\n",
      "try 346 -- Mean Absolute Percentage Error(MAPE)------------------------------------ 12.671549082350339\n"
     ]
    },
    {
     "name": "stderr",
     "output_type": "stream",
     "text": [
      "14:33:06 - cmdstanpy - INFO - Chain [1] done processing\n",
      "14:33:06 - cmdstanpy - INFO - Chain [1] start processing\n"
     ]
    },
    {
     "name": "stdout",
     "output_type": "stream",
     "text": [
      "--------------------------------------------------------------------------------------------------\n",
      "try 347 -- Mean Absolute Percentage Error(MAPE)------------------------------------ 33.05410529079006\n"
     ]
    },
    {
     "name": "stderr",
     "output_type": "stream",
     "text": [
      "14:33:07 - cmdstanpy - INFO - Chain [1] done processing\n",
      "14:33:07 - cmdstanpy - INFO - Chain [1] start processing\n"
     ]
    },
    {
     "name": "stdout",
     "output_type": "stream",
     "text": [
      "--------------------------------------------------------------------------------------------------\n",
      "try 348 -- Mean Absolute Percentage Error(MAPE)------------------------------------ 34.63096182605765\n"
     ]
    },
    {
     "name": "stderr",
     "output_type": "stream",
     "text": [
      "14:33:07 - cmdstanpy - INFO - Chain [1] done processing\n",
      "14:33:07 - cmdstanpy - INFO - Chain [1] start processing\n"
     ]
    },
    {
     "name": "stdout",
     "output_type": "stream",
     "text": [
      "--------------------------------------------------------------------------------------------------\n",
      "try 349 -- Mean Absolute Percentage Error(MAPE)------------------------------------ 35.06921932294069\n"
     ]
    },
    {
     "name": "stderr",
     "output_type": "stream",
     "text": [
      "14:33:08 - cmdstanpy - INFO - Chain [1] done processing\n",
      "14:33:08 - cmdstanpy - INFO - Chain [1] start processing\n"
     ]
    },
    {
     "name": "stdout",
     "output_type": "stream",
     "text": [
      "--------------------------------------------------------------------------------------------------\n",
      "try 350 -- Mean Absolute Percentage Error(MAPE)------------------------------------ 36.541290333221724\n"
     ]
    },
    {
     "name": "stderr",
     "output_type": "stream",
     "text": [
      "14:33:08 - cmdstanpy - INFO - Chain [1] done processing\n",
      "14:33:08 - cmdstanpy - INFO - Chain [1] start processing\n"
     ]
    },
    {
     "name": "stdout",
     "output_type": "stream",
     "text": [
      "--------------------------------------------------------------------------------------------------\n",
      "try 351 -- Mean Absolute Percentage Error(MAPE)------------------------------------ 35.2111117166039\n"
     ]
    },
    {
     "name": "stderr",
     "output_type": "stream",
     "text": [
      "14:33:08 - cmdstanpy - INFO - Chain [1] done processing\n",
      "14:33:09 - cmdstanpy - INFO - Chain [1] start processing\n"
     ]
    },
    {
     "name": "stdout",
     "output_type": "stream",
     "text": [
      "--------------------------------------------------------------------------------------------------\n",
      "try 352 -- Mean Absolute Percentage Error(MAPE)------------------------------------ 38.361438121882195\n"
     ]
    },
    {
     "name": "stderr",
     "output_type": "stream",
     "text": [
      "14:33:09 - cmdstanpy - INFO - Chain [1] done processing\n",
      "14:33:09 - cmdstanpy - INFO - Chain [1] start processing\n"
     ]
    },
    {
     "name": "stdout",
     "output_type": "stream",
     "text": [
      "--------------------------------------------------------------------------------------------------\n",
      "try 353 -- Mean Absolute Percentage Error(MAPE)------------------------------------ 13.878841783820095\n"
     ]
    },
    {
     "name": "stderr",
     "output_type": "stream",
     "text": [
      "14:33:09 - cmdstanpy - INFO - Chain [1] done processing\n",
      "14:33:09 - cmdstanpy - INFO - Chain [1] start processing\n"
     ]
    },
    {
     "name": "stdout",
     "output_type": "stream",
     "text": [
      "--------------------------------------------------------------------------------------------------\n",
      "try 354 -- Mean Absolute Percentage Error(MAPE)------------------------------------ 13.463357570868572\n"
     ]
    },
    {
     "name": "stderr",
     "output_type": "stream",
     "text": [
      "14:33:10 - cmdstanpy - INFO - Chain [1] done processing\n",
      "14:33:10 - cmdstanpy - INFO - Chain [1] start processing\n"
     ]
    },
    {
     "name": "stdout",
     "output_type": "stream",
     "text": [
      "--------------------------------------------------------------------------------------------------\n",
      "try 355 -- Mean Absolute Percentage Error(MAPE)------------------------------------ 12.632144898291953\n"
     ]
    },
    {
     "name": "stderr",
     "output_type": "stream",
     "text": [
      "14:33:10 - cmdstanpy - INFO - Chain [1] done processing\n",
      "14:33:10 - cmdstanpy - INFO - Chain [1] start processing\n"
     ]
    },
    {
     "name": "stdout",
     "output_type": "stream",
     "text": [
      "--------------------------------------------------------------------------------------------------\n",
      "try 356 -- Mean Absolute Percentage Error(MAPE)------------------------------------ 11.653777924087288\n"
     ]
    },
    {
     "name": "stderr",
     "output_type": "stream",
     "text": [
      "14:33:10 - cmdstanpy - INFO - Chain [1] done processing\n",
      "14:33:11 - cmdstanpy - INFO - Chain [1] start processing\n"
     ]
    },
    {
     "name": "stdout",
     "output_type": "stream",
     "text": [
      "--------------------------------------------------------------------------------------------------\n",
      "try 357 -- Mean Absolute Percentage Error(MAPE)------------------------------------ 10.35049561754508\n"
     ]
    },
    {
     "name": "stderr",
     "output_type": "stream",
     "text": [
      "14:33:11 - cmdstanpy - INFO - Chain [1] done processing\n",
      "14:33:11 - cmdstanpy - INFO - Chain [1] start processing\n"
     ]
    },
    {
     "name": "stdout",
     "output_type": "stream",
     "text": [
      "--------------------------------------------------------------------------------------------------\n",
      "try 358 -- Mean Absolute Percentage Error(MAPE)------------------------------------ 12.933466253482678\n"
     ]
    },
    {
     "name": "stderr",
     "output_type": "stream",
     "text": [
      "14:33:11 - cmdstanpy - INFO - Chain [1] done processing\n",
      "14:33:11 - cmdstanpy - INFO - Chain [1] start processing\n"
     ]
    },
    {
     "name": "stdout",
     "output_type": "stream",
     "text": [
      "--------------------------------------------------------------------------------------------------\n",
      "try 359 -- Mean Absolute Percentage Error(MAPE)------------------------------------ 23.176804864737473\n"
     ]
    },
    {
     "name": "stderr",
     "output_type": "stream",
     "text": [
      "14:33:12 - cmdstanpy - INFO - Chain [1] done processing\n",
      "14:33:12 - cmdstanpy - INFO - Chain [1] start processing\n"
     ]
    },
    {
     "name": "stdout",
     "output_type": "stream",
     "text": [
      "--------------------------------------------------------------------------------------------------\n",
      "try 360 -- Mean Absolute Percentage Error(MAPE)------------------------------------ 25.745802611595913\n"
     ]
    },
    {
     "name": "stderr",
     "output_type": "stream",
     "text": [
      "14:33:12 - cmdstanpy - INFO - Chain [1] done processing\n",
      "14:33:12 - cmdstanpy - INFO - Chain [1] start processing\n"
     ]
    },
    {
     "name": "stdout",
     "output_type": "stream",
     "text": [
      "--------------------------------------------------------------------------------------------------\n",
      "try 361 -- Mean Absolute Percentage Error(MAPE)------------------------------------ 26.910546579617474\n"
     ]
    },
    {
     "name": "stderr",
     "output_type": "stream",
     "text": [
      "14:33:13 - cmdstanpy - INFO - Chain [1] done processing\n",
      "14:33:13 - cmdstanpy - INFO - Chain [1] start processing\n"
     ]
    },
    {
     "name": "stdout",
     "output_type": "stream",
     "text": [
      "--------------------------------------------------------------------------------------------------\n",
      "try 362 -- Mean Absolute Percentage Error(MAPE)------------------------------------ 27.642963591839337\n"
     ]
    },
    {
     "name": "stderr",
     "output_type": "stream",
     "text": [
      "14:33:13 - cmdstanpy - INFO - Chain [1] done processing\n",
      "14:33:13 - cmdstanpy - INFO - Chain [1] start processing\n"
     ]
    },
    {
     "name": "stdout",
     "output_type": "stream",
     "text": [
      "--------------------------------------------------------------------------------------------------\n",
      "try 363 -- Mean Absolute Percentage Error(MAPE)------------------------------------ 33.79826545237103\n"
     ]
    },
    {
     "name": "stderr",
     "output_type": "stream",
     "text": [
      "14:33:13 - cmdstanpy - INFO - Chain [1] done processing\n",
      "14:33:13 - cmdstanpy - INFO - Chain [1] start processing\n"
     ]
    },
    {
     "name": "stdout",
     "output_type": "stream",
     "text": [
      "--------------------------------------------------------------------------------------------------\n",
      "try 364 -- Mean Absolute Percentage Error(MAPE)------------------------------------ 52.66053620678751\n"
     ]
    },
    {
     "name": "stderr",
     "output_type": "stream",
     "text": [
      "14:33:14 - cmdstanpy - INFO - Chain [1] done processing\n",
      "14:33:14 - cmdstanpy - INFO - Chain [1] start processing\n"
     ]
    },
    {
     "name": "stdout",
     "output_type": "stream",
     "text": [
      "--------------------------------------------------------------------------------------------------\n",
      "try 365 -- Mean Absolute Percentage Error(MAPE)------------------------------------ 98.73180686084082\n"
     ]
    },
    {
     "name": "stderr",
     "output_type": "stream",
     "text": [
      "14:33:14 - cmdstanpy - INFO - Chain [1] done processing\n",
      "14:33:14 - cmdstanpy - INFO - Chain [1] start processing\n"
     ]
    },
    {
     "name": "stdout",
     "output_type": "stream",
     "text": [
      "--------------------------------------------------------------------------------------------------\n",
      "try 366 -- Mean Absolute Percentage Error(MAPE)------------------------------------ 175.88734851131574\n"
     ]
    },
    {
     "name": "stderr",
     "output_type": "stream",
     "text": [
      "14:33:15 - cmdstanpy - INFO - Chain [1] done processing\n",
      "14:33:15 - cmdstanpy - INFO - Chain [1] start processing\n"
     ]
    },
    {
     "name": "stdout",
     "output_type": "stream",
     "text": [
      "--------------------------------------------------------------------------------------------------\n",
      "try 367 -- Mean Absolute Percentage Error(MAPE)------------------------------------ 110.85043254841986\n"
     ]
    },
    {
     "name": "stderr",
     "output_type": "stream",
     "text": [
      "14:33:16 - cmdstanpy - INFO - Chain [1] done processing\n",
      "14:33:16 - cmdstanpy - INFO - Chain [1] start processing\n"
     ]
    },
    {
     "name": "stdout",
     "output_type": "stream",
     "text": [
      "--------------------------------------------------------------------------------------------------\n",
      "try 368 -- Mean Absolute Percentage Error(MAPE)------------------------------------ 229.4398631720942\n"
     ]
    },
    {
     "name": "stderr",
     "output_type": "stream",
     "text": [
      "14:33:16 - cmdstanpy - INFO - Chain [1] done processing\n",
      "14:33:16 - cmdstanpy - INFO - Chain [1] start processing\n"
     ]
    },
    {
     "name": "stdout",
     "output_type": "stream",
     "text": [
      "--------------------------------------------------------------------------------------------------\n",
      "try 369 -- Mean Absolute Percentage Error(MAPE)------------------------------------ 13.140181110161416\n"
     ]
    },
    {
     "name": "stderr",
     "output_type": "stream",
     "text": [
      "14:33:16 - cmdstanpy - INFO - Chain [1] done processing\n",
      "14:33:17 - cmdstanpy - INFO - Chain [1] start processing\n"
     ]
    },
    {
     "name": "stdout",
     "output_type": "stream",
     "text": [
      "--------------------------------------------------------------------------------------------------\n",
      "try 370 -- Mean Absolute Percentage Error(MAPE)------------------------------------ 10.226275548414138\n"
     ]
    },
    {
     "name": "stderr",
     "output_type": "stream",
     "text": [
      "14:33:17 - cmdstanpy - INFO - Chain [1] done processing\n",
      "14:33:17 - cmdstanpy - INFO - Chain [1] start processing\n"
     ]
    },
    {
     "name": "stdout",
     "output_type": "stream",
     "text": [
      "--------------------------------------------------------------------------------------------------\n",
      "try 371 -- Mean Absolute Percentage Error(MAPE)------------------------------------ 8.709777012924782\n"
     ]
    },
    {
     "name": "stderr",
     "output_type": "stream",
     "text": [
      "14:33:17 - cmdstanpy - INFO - Chain [1] done processing\n",
      "14:33:17 - cmdstanpy - INFO - Chain [1] start processing\n"
     ]
    },
    {
     "name": "stdout",
     "output_type": "stream",
     "text": [
      "--------------------------------------------------------------------------------------------------\n",
      "try 372 -- Mean Absolute Percentage Error(MAPE)------------------------------------ 9.689662935671377\n"
     ]
    },
    {
     "name": "stderr",
     "output_type": "stream",
     "text": [
      "14:33:18 - cmdstanpy - INFO - Chain [1] done processing\n",
      "14:33:18 - cmdstanpy - INFO - Chain [1] start processing\n"
     ]
    },
    {
     "name": "stdout",
     "output_type": "stream",
     "text": [
      "--------------------------------------------------------------------------------------------------\n",
      "try 373 -- Mean Absolute Percentage Error(MAPE)------------------------------------ 10.90124280221095\n"
     ]
    },
    {
     "name": "stderr",
     "output_type": "stream",
     "text": [
      "14:33:18 - cmdstanpy - INFO - Chain [1] done processing\n",
      "14:33:18 - cmdstanpy - INFO - Chain [1] start processing\n"
     ]
    },
    {
     "name": "stdout",
     "output_type": "stream",
     "text": [
      "--------------------------------------------------------------------------------------------------\n",
      "try 374 -- Mean Absolute Percentage Error(MAPE)------------------------------------ 14.481295099280336\n"
     ]
    },
    {
     "name": "stderr",
     "output_type": "stream",
     "text": [
      "14:33:19 - cmdstanpy - INFO - Chain [1] done processing\n",
      "14:33:19 - cmdstanpy - INFO - Chain [1] start processing\n"
     ]
    },
    {
     "name": "stdout",
     "output_type": "stream",
     "text": [
      "--------------------------------------------------------------------------------------------------\n",
      "try 375 -- Mean Absolute Percentage Error(MAPE)------------------------------------ 14.813416274333113\n"
     ]
    },
    {
     "name": "stderr",
     "output_type": "stream",
     "text": [
      "14:33:19 - cmdstanpy - INFO - Chain [1] done processing\n",
      "14:33:19 - cmdstanpy - INFO - Chain [1] start processing\n"
     ]
    },
    {
     "name": "stdout",
     "output_type": "stream",
     "text": [
      "--------------------------------------------------------------------------------------------------\n",
      "try 376 -- Mean Absolute Percentage Error(MAPE)------------------------------------ 16.85877516204069\n"
     ]
    },
    {
     "name": "stderr",
     "output_type": "stream",
     "text": [
      "14:33:20 - cmdstanpy - INFO - Chain [1] done processing\n",
      "14:33:20 - cmdstanpy - INFO - Chain [1] start processing\n"
     ]
    },
    {
     "name": "stdout",
     "output_type": "stream",
     "text": [
      "--------------------------------------------------------------------------------------------------\n",
      "try 377 -- Mean Absolute Percentage Error(MAPE)------------------------------------ 16.68889625775242\n"
     ]
    },
    {
     "name": "stderr",
     "output_type": "stream",
     "text": [
      "14:33:20 - cmdstanpy - INFO - Chain [1] done processing\n",
      "14:33:20 - cmdstanpy - INFO - Chain [1] start processing\n"
     ]
    },
    {
     "name": "stdout",
     "output_type": "stream",
     "text": [
      "--------------------------------------------------------------------------------------------------\n",
      "try 378 -- Mean Absolute Percentage Error(MAPE)------------------------------------ 24.833526257695326\n"
     ]
    },
    {
     "name": "stderr",
     "output_type": "stream",
     "text": [
      "14:33:21 - cmdstanpy - INFO - Chain [1] done processing\n",
      "14:33:21 - cmdstanpy - INFO - Chain [1] start processing\n"
     ]
    },
    {
     "name": "stdout",
     "output_type": "stream",
     "text": [
      "--------------------------------------------------------------------------------------------------\n",
      "try 379 -- Mean Absolute Percentage Error(MAPE)------------------------------------ 35.71957556821786\n"
     ]
    },
    {
     "name": "stderr",
     "output_type": "stream",
     "text": [
      "14:33:21 - cmdstanpy - INFO - Chain [1] done processing\n",
      "14:33:21 - cmdstanpy - INFO - Chain [1] start processing\n"
     ]
    },
    {
     "name": "stdout",
     "output_type": "stream",
     "text": [
      "--------------------------------------------------------------------------------------------------\n",
      "try 380 -- Mean Absolute Percentage Error(MAPE)------------------------------------ 38.25969273295105\n"
     ]
    },
    {
     "name": "stderr",
     "output_type": "stream",
     "text": [
      "14:33:23 - cmdstanpy - INFO - Chain [1] done processing\n",
      "14:33:23 - cmdstanpy - INFO - Chain [1] start processing\n"
     ]
    },
    {
     "name": "stdout",
     "output_type": "stream",
     "text": [
      "--------------------------------------------------------------------------------------------------\n",
      "try 381 -- Mean Absolute Percentage Error(MAPE)------------------------------------ 38.93304802090582\n"
     ]
    },
    {
     "name": "stderr",
     "output_type": "stream",
     "text": [
      "14:33:23 - cmdstanpy - INFO - Chain [1] done processing\n",
      "14:33:23 - cmdstanpy - INFO - Chain [1] start processing\n"
     ]
    },
    {
     "name": "stdout",
     "output_type": "stream",
     "text": [
      "--------------------------------------------------------------------------------------------------\n",
      "try 382 -- Mean Absolute Percentage Error(MAPE)------------------------------------ 36.980850031078525\n"
     ]
    },
    {
     "name": "stderr",
     "output_type": "stream",
     "text": [
      "14:33:24 - cmdstanpy - INFO - Chain [1] done processing\n",
      "14:33:24 - cmdstanpy - INFO - Chain [1] start processing\n"
     ]
    },
    {
     "name": "stdout",
     "output_type": "stream",
     "text": [
      "--------------------------------------------------------------------------------------------------\n",
      "try 383 -- Mean Absolute Percentage Error(MAPE)------------------------------------ 37.70198850322475\n"
     ]
    },
    {
     "name": "stderr",
     "output_type": "stream",
     "text": [
      "14:33:24 - cmdstanpy - INFO - Chain [1] done processing\n",
      "14:33:24 - cmdstanpy - INFO - Chain [1] start processing\n"
     ]
    },
    {
     "name": "stdout",
     "output_type": "stream",
     "text": [
      "--------------------------------------------------------------------------------------------------\n",
      "try 384 -- Mean Absolute Percentage Error(MAPE)------------------------------------ 37.3935112921093\n"
     ]
    },
    {
     "name": "stderr",
     "output_type": "stream",
     "text": [
      "14:33:25 - cmdstanpy - INFO - Chain [1] done processing\n",
      "14:33:25 - cmdstanpy - INFO - Chain [1] start processing\n"
     ]
    },
    {
     "name": "stdout",
     "output_type": "stream",
     "text": [
      "--------------------------------------------------------------------------------------------------\n",
      "try 385 -- Mean Absolute Percentage Error(MAPE)------------------------------------ 11.542706751877075\n"
     ]
    },
    {
     "name": "stderr",
     "output_type": "stream",
     "text": [
      "14:33:25 - cmdstanpy - INFO - Chain [1] done processing\n",
      "14:33:26 - cmdstanpy - INFO - Chain [1] start processing\n"
     ]
    },
    {
     "name": "stdout",
     "output_type": "stream",
     "text": [
      "--------------------------------------------------------------------------------------------------\n",
      "try 386 -- Mean Absolute Percentage Error(MAPE)------------------------------------ 11.152490140469814\n"
     ]
    },
    {
     "name": "stderr",
     "output_type": "stream",
     "text": [
      "14:33:26 - cmdstanpy - INFO - Chain [1] done processing\n",
      "14:33:26 - cmdstanpy - INFO - Chain [1] start processing\n"
     ]
    },
    {
     "name": "stdout",
     "output_type": "stream",
     "text": [
      "--------------------------------------------------------------------------------------------------\n",
      "try 387 -- Mean Absolute Percentage Error(MAPE)------------------------------------ 10.44471154974882\n"
     ]
    },
    {
     "name": "stderr",
     "output_type": "stream",
     "text": [
      "14:33:26 - cmdstanpy - INFO - Chain [1] done processing\n",
      "14:33:26 - cmdstanpy - INFO - Chain [1] start processing\n"
     ]
    },
    {
     "name": "stdout",
     "output_type": "stream",
     "text": [
      "--------------------------------------------------------------------------------------------------\n",
      "try 388 -- Mean Absolute Percentage Error(MAPE)------------------------------------ 10.281903952400546\n"
     ]
    },
    {
     "name": "stderr",
     "output_type": "stream",
     "text": [
      "14:33:27 - cmdstanpy - INFO - Chain [1] done processing\n",
      "14:33:27 - cmdstanpy - INFO - Chain [1] start processing\n"
     ]
    },
    {
     "name": "stdout",
     "output_type": "stream",
     "text": [
      "--------------------------------------------------------------------------------------------------\n",
      "try 389 -- Mean Absolute Percentage Error(MAPE)------------------------------------ 10.564706078748967\n"
     ]
    },
    {
     "name": "stderr",
     "output_type": "stream",
     "text": [
      "14:33:27 - cmdstanpy - INFO - Chain [1] done processing\n",
      "14:33:27 - cmdstanpy - INFO - Chain [1] start processing\n"
     ]
    },
    {
     "name": "stdout",
     "output_type": "stream",
     "text": [
      "--------------------------------------------------------------------------------------------------\n",
      "try 390 -- Mean Absolute Percentage Error(MAPE)------------------------------------ 19.278322622880683\n"
     ]
    },
    {
     "name": "stderr",
     "output_type": "stream",
     "text": [
      "14:33:28 - cmdstanpy - INFO - Chain [1] done processing\n",
      "14:33:28 - cmdstanpy - INFO - Chain [1] start processing\n"
     ]
    },
    {
     "name": "stdout",
     "output_type": "stream",
     "text": [
      "--------------------------------------------------------------------------------------------------\n",
      "try 391 -- Mean Absolute Percentage Error(MAPE)------------------------------------ 29.863385313998318\n"
     ]
    },
    {
     "name": "stderr",
     "output_type": "stream",
     "text": [
      "14:33:28 - cmdstanpy - INFO - Chain [1] done processing\n",
      "14:33:28 - cmdstanpy - INFO - Chain [1] start processing\n"
     ]
    },
    {
     "name": "stdout",
     "output_type": "stream",
     "text": [
      "--------------------------------------------------------------------------------------------------\n",
      "try 392 -- Mean Absolute Percentage Error(MAPE)------------------------------------ 41.70422346035753\n"
     ]
    },
    {
     "name": "stderr",
     "output_type": "stream",
     "text": [
      "14:33:28 - cmdstanpy - INFO - Chain [1] done processing\n",
      "14:33:29 - cmdstanpy - INFO - Chain [1] start processing\n"
     ]
    },
    {
     "name": "stdout",
     "output_type": "stream",
     "text": [
      "--------------------------------------------------------------------------------------------------\n",
      "try 393 -- Mean Absolute Percentage Error(MAPE)------------------------------------ 43.62393844143214\n"
     ]
    },
    {
     "name": "stderr",
     "output_type": "stream",
     "text": [
      "14:33:29 - cmdstanpy - INFO - Chain [1] done processing\n",
      "14:33:29 - cmdstanpy - INFO - Chain [1] start processing\n"
     ]
    },
    {
     "name": "stdout",
     "output_type": "stream",
     "text": [
      "--------------------------------------------------------------------------------------------------\n",
      "try 394 -- Mean Absolute Percentage Error(MAPE)------------------------------------ 40.008241899926986\n"
     ]
    },
    {
     "name": "stderr",
     "output_type": "stream",
     "text": [
      "14:33:29 - cmdstanpy - INFO - Chain [1] done processing\n",
      "14:33:30 - cmdstanpy - INFO - Chain [1] start processing\n"
     ]
    },
    {
     "name": "stdout",
     "output_type": "stream",
     "text": [
      "--------------------------------------------------------------------------------------------------\n",
      "try 395 -- Mean Absolute Percentage Error(MAPE)------------------------------------ 49.24480403739823\n"
     ]
    },
    {
     "name": "stderr",
     "output_type": "stream",
     "text": [
      "14:33:30 - cmdstanpy - INFO - Chain [1] done processing\n",
      "14:33:30 - cmdstanpy - INFO - Chain [1] start processing\n"
     ]
    },
    {
     "name": "stdout",
     "output_type": "stream",
     "text": [
      "--------------------------------------------------------------------------------------------------\n",
      "try 396 -- Mean Absolute Percentage Error(MAPE)------------------------------------ 85.26438205233684\n"
     ]
    },
    {
     "name": "stderr",
     "output_type": "stream",
     "text": [
      "14:33:30 - cmdstanpy - INFO - Chain [1] done processing\n",
      "14:33:31 - cmdstanpy - INFO - Chain [1] start processing\n"
     ]
    },
    {
     "name": "stdout",
     "output_type": "stream",
     "text": [
      "--------------------------------------------------------------------------------------------------\n",
      "try 397 -- Mean Absolute Percentage Error(MAPE)------------------------------------ 136.61992478276397\n"
     ]
    },
    {
     "name": "stderr",
     "output_type": "stream",
     "text": [
      "14:33:31 - cmdstanpy - INFO - Chain [1] done processing\n",
      "14:33:31 - cmdstanpy - INFO - Chain [1] start processing\n"
     ]
    },
    {
     "name": "stdout",
     "output_type": "stream",
     "text": [
      "--------------------------------------------------------------------------------------------------\n",
      "try 398 -- Mean Absolute Percentage Error(MAPE)------------------------------------ 154.9826689650766\n"
     ]
    },
    {
     "name": "stderr",
     "output_type": "stream",
     "text": [
      "14:33:32 - cmdstanpy - INFO - Chain [1] done processing\n",
      "14:33:32 - cmdstanpy - INFO - Chain [1] start processing\n"
     ]
    },
    {
     "name": "stdout",
     "output_type": "stream",
     "text": [
      "--------------------------------------------------------------------------------------------------\n",
      "try 399 -- Mean Absolute Percentage Error(MAPE)------------------------------------ 159.783168987867\n"
     ]
    },
    {
     "name": "stderr",
     "output_type": "stream",
     "text": [
      "14:33:33 - cmdstanpy - INFO - Chain [1] done processing\n",
      "14:33:33 - cmdstanpy - INFO - Chain [1] start processing\n"
     ]
    },
    {
     "name": "stdout",
     "output_type": "stream",
     "text": [
      "--------------------------------------------------------------------------------------------------\n",
      "try 400 -- Mean Absolute Percentage Error(MAPE)------------------------------------ 159.96799414987214\n"
     ]
    },
    {
     "name": "stderr",
     "output_type": "stream",
     "text": [
      "14:33:33 - cmdstanpy - INFO - Chain [1] done processing\n",
      "14:33:34 - cmdstanpy - INFO - Chain [1] start processing\n"
     ]
    },
    {
     "name": "stdout",
     "output_type": "stream",
     "text": [
      "--------------------------------------------------------------------------------------------------\n",
      "try 401 -- Mean Absolute Percentage Error(MAPE)------------------------------------ 10.921940666919836\n"
     ]
    },
    {
     "name": "stderr",
     "output_type": "stream",
     "text": [
      "14:33:34 - cmdstanpy - INFO - Chain [1] done processing\n",
      "14:33:34 - cmdstanpy - INFO - Chain [1] start processing\n"
     ]
    },
    {
     "name": "stdout",
     "output_type": "stream",
     "text": [
      "--------------------------------------------------------------------------------------------------\n",
      "try 402 -- Mean Absolute Percentage Error(MAPE)------------------------------------ 9.304735093514116\n"
     ]
    },
    {
     "name": "stderr",
     "output_type": "stream",
     "text": [
      "14:33:34 - cmdstanpy - INFO - Chain [1] done processing\n",
      "14:33:34 - cmdstanpy - INFO - Chain [1] start processing\n"
     ]
    },
    {
     "name": "stdout",
     "output_type": "stream",
     "text": [
      "--------------------------------------------------------------------------------------------------\n",
      "try 403 -- Mean Absolute Percentage Error(MAPE)------------------------------------ 9.222829432806423\n"
     ]
    },
    {
     "name": "stderr",
     "output_type": "stream",
     "text": [
      "14:33:35 - cmdstanpy - INFO - Chain [1] done processing\n",
      "14:33:35 - cmdstanpy - INFO - Chain [1] start processing\n"
     ]
    },
    {
     "name": "stdout",
     "output_type": "stream",
     "text": [
      "--------------------------------------------------------------------------------------------------\n",
      "try 404 -- Mean Absolute Percentage Error(MAPE)------------------------------------ 11.426996068731968\n"
     ]
    },
    {
     "name": "stderr",
     "output_type": "stream",
     "text": [
      "14:33:36 - cmdstanpy - INFO - Chain [1] done processing\n",
      "14:33:36 - cmdstanpy - INFO - Chain [1] start processing\n"
     ]
    },
    {
     "name": "stdout",
     "output_type": "stream",
     "text": [
      "--------------------------------------------------------------------------------------------------\n",
      "try 405 -- Mean Absolute Percentage Error(MAPE)------------------------------------ 13.135505235444214\n"
     ]
    },
    {
     "name": "stderr",
     "output_type": "stream",
     "text": [
      "14:33:36 - cmdstanpy - INFO - Chain [1] done processing\n"
     ]
    },
    {
     "name": "stdout",
     "output_type": "stream",
     "text": [
      "--------------------------------------------------------------------------------------------------\n",
      "try 406 -- Mean Absolute Percentage Error(MAPE)------------------------------------ 14.988321465009308\n"
     ]
    },
    {
     "name": "stderr",
     "output_type": "stream",
     "text": [
      "14:33:37 - cmdstanpy - INFO - Chain [1] start processing\n",
      "14:33:37 - cmdstanpy - INFO - Chain [1] done processing\n",
      "14:33:38 - cmdstanpy - INFO - Chain [1] start processing\n"
     ]
    },
    {
     "name": "stdout",
     "output_type": "stream",
     "text": [
      "--------------------------------------------------------------------------------------------------\n",
      "try 407 -- Mean Absolute Percentage Error(MAPE)------------------------------------ 17.61466377405195\n"
     ]
    },
    {
     "name": "stderr",
     "output_type": "stream",
     "text": [
      "14:33:38 - cmdstanpy - INFO - Chain [1] done processing\n",
      "14:33:38 - cmdstanpy - INFO - Chain [1] start processing\n"
     ]
    },
    {
     "name": "stdout",
     "output_type": "stream",
     "text": [
      "--------------------------------------------------------------------------------------------------\n",
      "try 408 -- Mean Absolute Percentage Error(MAPE)------------------------------------ 20.74895268357504\n"
     ]
    },
    {
     "name": "stderr",
     "output_type": "stream",
     "text": [
      "14:33:39 - cmdstanpy - INFO - Chain [1] done processing\n",
      "14:33:39 - cmdstanpy - INFO - Chain [1] start processing\n"
     ]
    },
    {
     "name": "stdout",
     "output_type": "stream",
     "text": [
      "--------------------------------------------------------------------------------------------------\n",
      "try 409 -- Mean Absolute Percentage Error(MAPE)------------------------------------ 24.970656835054623\n"
     ]
    },
    {
     "name": "stderr",
     "output_type": "stream",
     "text": [
      "14:33:39 - cmdstanpy - INFO - Chain [1] done processing\n",
      "14:33:39 - cmdstanpy - INFO - Chain [1] start processing\n"
     ]
    },
    {
     "name": "stdout",
     "output_type": "stream",
     "text": [
      "--------------------------------------------------------------------------------------------------\n",
      "try 410 -- Mean Absolute Percentage Error(MAPE)------------------------------------ 30.47352107516157\n"
     ]
    },
    {
     "name": "stderr",
     "output_type": "stream",
     "text": [
      "14:33:40 - cmdstanpy - INFO - Chain [1] done processing\n",
      "14:33:40 - cmdstanpy - INFO - Chain [1] start processing\n"
     ]
    },
    {
     "name": "stdout",
     "output_type": "stream",
     "text": [
      "--------------------------------------------------------------------------------------------------\n",
      "try 411 -- Mean Absolute Percentage Error(MAPE)------------------------------------ 36.275721564657914\n"
     ]
    },
    {
     "name": "stderr",
     "output_type": "stream",
     "text": [
      "14:33:41 - cmdstanpy - INFO - Chain [1] done processing\n",
      "14:33:41 - cmdstanpy - INFO - Chain [1] start processing\n"
     ]
    },
    {
     "name": "stdout",
     "output_type": "stream",
     "text": [
      "--------------------------------------------------------------------------------------------------\n",
      "try 412 -- Mean Absolute Percentage Error(MAPE)------------------------------------ 39.1171138723042\n"
     ]
    },
    {
     "name": "stderr",
     "output_type": "stream",
     "text": [
      "14:33:41 - cmdstanpy - INFO - Chain [1] done processing\n",
      "14:33:41 - cmdstanpy - INFO - Chain [1] start processing\n"
     ]
    },
    {
     "name": "stdout",
     "output_type": "stream",
     "text": [
      "--------------------------------------------------------------------------------------------------\n",
      "try 413 -- Mean Absolute Percentage Error(MAPE)------------------------------------ 39.75241074125937\n"
     ]
    },
    {
     "name": "stderr",
     "output_type": "stream",
     "text": [
      "14:33:42 - cmdstanpy - INFO - Chain [1] done processing\n",
      "14:33:42 - cmdstanpy - INFO - Chain [1] start processing\n"
     ]
    },
    {
     "name": "stdout",
     "output_type": "stream",
     "text": [
      "--------------------------------------------------------------------------------------------------\n",
      "try 414 -- Mean Absolute Percentage Error(MAPE)------------------------------------ 38.074590712712165\n"
     ]
    },
    {
     "name": "stderr",
     "output_type": "stream",
     "text": [
      "14:33:43 - cmdstanpy - INFO - Chain [1] done processing\n",
      "14:33:43 - cmdstanpy - INFO - Chain [1] start processing\n"
     ]
    },
    {
     "name": "stdout",
     "output_type": "stream",
     "text": [
      "--------------------------------------------------------------------------------------------------\n",
      "try 415 -- Mean Absolute Percentage Error(MAPE)------------------------------------ 37.689380435013156\n"
     ]
    },
    {
     "name": "stderr",
     "output_type": "stream",
     "text": [
      "14:33:43 - cmdstanpy - INFO - Chain [1] done processing\n",
      "14:33:43 - cmdstanpy - INFO - Chain [1] start processing\n"
     ]
    },
    {
     "name": "stdout",
     "output_type": "stream",
     "text": [
      "--------------------------------------------------------------------------------------------------\n",
      "try 416 -- Mean Absolute Percentage Error(MAPE)------------------------------------ 39.52579799690126\n"
     ]
    },
    {
     "name": "stderr",
     "output_type": "stream",
     "text": [
      "14:33:44 - cmdstanpy - INFO - Chain [1] done processing\n",
      "14:33:44 - cmdstanpy - INFO - Chain [1] start processing\n"
     ]
    },
    {
     "name": "stdout",
     "output_type": "stream",
     "text": [
      "--------------------------------------------------------------------------------------------------\n",
      "try 417 -- Mean Absolute Percentage Error(MAPE)------------------------------------ 10.647762599538696\n"
     ]
    },
    {
     "name": "stderr",
     "output_type": "stream",
     "text": [
      "14:33:44 - cmdstanpy - INFO - Chain [1] done processing\n",
      "14:33:44 - cmdstanpy - INFO - Chain [1] start processing\n"
     ]
    },
    {
     "name": "stdout",
     "output_type": "stream",
     "text": [
      "--------------------------------------------------------------------------------------------------\n",
      "try 418 -- Mean Absolute Percentage Error(MAPE)------------------------------------ 10.23072353907645\n"
     ]
    },
    {
     "name": "stderr",
     "output_type": "stream",
     "text": [
      "14:33:45 - cmdstanpy - INFO - Chain [1] done processing\n",
      "14:33:45 - cmdstanpy - INFO - Chain [1] start processing\n"
     ]
    },
    {
     "name": "stdout",
     "output_type": "stream",
     "text": [
      "--------------------------------------------------------------------------------------------------\n",
      "try 419 -- Mean Absolute Percentage Error(MAPE)------------------------------------ 10.267860503924211\n"
     ]
    },
    {
     "name": "stderr",
     "output_type": "stream",
     "text": [
      "14:33:45 - cmdstanpy - INFO - Chain [1] done processing\n",
      "14:33:45 - cmdstanpy - INFO - Chain [1] start processing\n"
     ]
    },
    {
     "name": "stdout",
     "output_type": "stream",
     "text": [
      "--------------------------------------------------------------------------------------------------\n",
      "try 420 -- Mean Absolute Percentage Error(MAPE)------------------------------------ 10.561637826190218\n"
     ]
    },
    {
     "name": "stderr",
     "output_type": "stream",
     "text": [
      "14:33:46 - cmdstanpy - INFO - Chain [1] done processing\n",
      "14:33:46 - cmdstanpy - INFO - Chain [1] start processing\n"
     ]
    },
    {
     "name": "stdout",
     "output_type": "stream",
     "text": [
      "--------------------------------------------------------------------------------------------------\n",
      "try 421 -- Mean Absolute Percentage Error(MAPE)------------------------------------ 10.796977709173715\n"
     ]
    },
    {
     "name": "stderr",
     "output_type": "stream",
     "text": [
      "14:33:46 - cmdstanpy - INFO - Chain [1] done processing\n",
      "14:33:46 - cmdstanpy - INFO - Chain [1] start processing\n"
     ]
    },
    {
     "name": "stdout",
     "output_type": "stream",
     "text": [
      "--------------------------------------------------------------------------------------------------\n",
      "try 422 -- Mean Absolute Percentage Error(MAPE)------------------------------------ 27.598873542265945\n"
     ]
    },
    {
     "name": "stderr",
     "output_type": "stream",
     "text": [
      "14:33:47 - cmdstanpy - INFO - Chain [1] done processing\n",
      "14:33:47 - cmdstanpy - INFO - Chain [1] start processing\n"
     ]
    },
    {
     "name": "stdout",
     "output_type": "stream",
     "text": [
      "--------------------------------------------------------------------------------------------------\n",
      "try 423 -- Mean Absolute Percentage Error(MAPE)------------------------------------ 42.98485233635076\n"
     ]
    },
    {
     "name": "stderr",
     "output_type": "stream",
     "text": [
      "14:33:47 - cmdstanpy - INFO - Chain [1] done processing\n",
      "14:33:47 - cmdstanpy - INFO - Chain [1] start processing\n"
     ]
    },
    {
     "name": "stdout",
     "output_type": "stream",
     "text": [
      "--------------------------------------------------------------------------------------------------\n",
      "try 424 -- Mean Absolute Percentage Error(MAPE)------------------------------------ 45.36686872365168\n"
     ]
    },
    {
     "name": "stderr",
     "output_type": "stream",
     "text": [
      "14:33:48 - cmdstanpy - INFO - Chain [1] done processing\n",
      "14:33:48 - cmdstanpy - INFO - Chain [1] start processing\n"
     ]
    },
    {
     "name": "stdout",
     "output_type": "stream",
     "text": [
      "--------------------------------------------------------------------------------------------------\n",
      "try 425 -- Mean Absolute Percentage Error(MAPE)------------------------------------ 46.86820252790269\n"
     ]
    },
    {
     "name": "stderr",
     "output_type": "stream",
     "text": [
      "14:33:48 - cmdstanpy - INFO - Chain [1] done processing\n",
      "14:33:48 - cmdstanpy - INFO - Chain [1] start processing\n"
     ]
    },
    {
     "name": "stdout",
     "output_type": "stream",
     "text": [
      "--------------------------------------------------------------------------------------------------\n",
      "try 426 -- Mean Absolute Percentage Error(MAPE)------------------------------------ 48.57586599441588\n"
     ]
    },
    {
     "name": "stderr",
     "output_type": "stream",
     "text": [
      "14:33:49 - cmdstanpy - INFO - Chain [1] done processing\n",
      "14:33:49 - cmdstanpy - INFO - Chain [1] start processing\n"
     ]
    },
    {
     "name": "stdout",
     "output_type": "stream",
     "text": [
      "--------------------------------------------------------------------------------------------------\n",
      "try 427 -- Mean Absolute Percentage Error(MAPE)------------------------------------ 60.82426895731887\n"
     ]
    },
    {
     "name": "stderr",
     "output_type": "stream",
     "text": [
      "14:34:14 - cmdstanpy - INFO - Chain [1] done processing\n",
      "14:34:14 - cmdstanpy - INFO - Chain [1] start processing\n"
     ]
    },
    {
     "name": "stdout",
     "output_type": "stream",
     "text": [
      "--------------------------------------------------------------------------------------------------\n",
      "try 428 -- Mean Absolute Percentage Error(MAPE)------------------------------------ 72.93682442954234\n"
     ]
    },
    {
     "name": "stderr",
     "output_type": "stream",
     "text": [
      "14:34:37 - cmdstanpy - INFO - Chain [1] done processing\n",
      "14:34:37 - cmdstanpy - INFO - Chain [1] start processing\n"
     ]
    },
    {
     "name": "stdout",
     "output_type": "stream",
     "text": [
      "--------------------------------------------------------------------------------------------------\n",
      "try 429 -- Mean Absolute Percentage Error(MAPE)------------------------------------ 106.1369497577481\n"
     ]
    },
    {
     "name": "stderr",
     "output_type": "stream",
     "text": [
      "14:34:58 - cmdstanpy - INFO - Chain [1] done processing\n",
      "14:34:58 - cmdstanpy - INFO - Chain [1] start processing\n"
     ]
    },
    {
     "name": "stdout",
     "output_type": "stream",
     "text": [
      "--------------------------------------------------------------------------------------------------\n",
      "try 430 -- Mean Absolute Percentage Error(MAPE)------------------------------------ 89.66470418084904\n"
     ]
    },
    {
     "name": "stderr",
     "output_type": "stream",
     "text": [
      "14:35:20 - cmdstanpy - INFO - Chain [1] done processing\n",
      "14:35:20 - cmdstanpy - INFO - Chain [1] start processing\n"
     ]
    },
    {
     "name": "stdout",
     "output_type": "stream",
     "text": [
      "--------------------------------------------------------------------------------------------------\n",
      "try 431 -- Mean Absolute Percentage Error(MAPE)------------------------------------ 100.89316978634338\n"
     ]
    },
    {
     "name": "stderr",
     "output_type": "stream",
     "text": [
      "14:35:44 - cmdstanpy - INFO - Chain [1] done processing\n",
      "14:35:44 - cmdstanpy - INFO - Chain [1] start processing\n"
     ]
    },
    {
     "name": "stdout",
     "output_type": "stream",
     "text": [
      "--------------------------------------------------------------------------------------------------\n",
      "try 432 -- Mean Absolute Percentage Error(MAPE)------------------------------------ 116.86741926416599\n"
     ]
    },
    {
     "name": "stderr",
     "output_type": "stream",
     "text": [
      "14:35:44 - cmdstanpy - INFO - Chain [1] done processing\n",
      "14:35:44 - cmdstanpy - INFO - Chain [1] start processing\n"
     ]
    },
    {
     "name": "stdout",
     "output_type": "stream",
     "text": [
      "--------------------------------------------------------------------------------------------------\n",
      "try 433 -- Mean Absolute Percentage Error(MAPE)------------------------------------ 10.465731550382634\n"
     ]
    },
    {
     "name": "stderr",
     "output_type": "stream",
     "text": [
      "14:35:45 - cmdstanpy - INFO - Chain [1] done processing\n",
      "14:35:45 - cmdstanpy - INFO - Chain [1] start processing\n"
     ]
    },
    {
     "name": "stdout",
     "output_type": "stream",
     "text": [
      "--------------------------------------------------------------------------------------------------\n",
      "try 434 -- Mean Absolute Percentage Error(MAPE)------------------------------------ 9.496194698762277\n"
     ]
    },
    {
     "name": "stderr",
     "output_type": "stream",
     "text": [
      "14:35:45 - cmdstanpy - INFO - Chain [1] done processing\n",
      "14:35:46 - cmdstanpy - INFO - Chain [1] start processing\n"
     ]
    },
    {
     "name": "stdout",
     "output_type": "stream",
     "text": [
      "--------------------------------------------------------------------------------------------------\n",
      "try 435 -- Mean Absolute Percentage Error(MAPE)------------------------------------ 11.48244606964849\n"
     ]
    },
    {
     "name": "stderr",
     "output_type": "stream",
     "text": [
      "14:35:46 - cmdstanpy - INFO - Chain [1] done processing\n",
      "14:35:46 - cmdstanpy - INFO - Chain [1] start processing\n"
     ]
    },
    {
     "name": "stdout",
     "output_type": "stream",
     "text": [
      "--------------------------------------------------------------------------------------------------\n",
      "try 436 -- Mean Absolute Percentage Error(MAPE)------------------------------------ 13.919666381456313\n"
     ]
    },
    {
     "name": "stderr",
     "output_type": "stream",
     "text": [
      "14:35:46 - cmdstanpy - INFO - Chain [1] done processing\n",
      "14:35:47 - cmdstanpy - INFO - Chain [1] start processing\n"
     ]
    },
    {
     "name": "stdout",
     "output_type": "stream",
     "text": [
      "--------------------------------------------------------------------------------------------------\n",
      "try 437 -- Mean Absolute Percentage Error(MAPE)------------------------------------ 14.60698754015723\n"
     ]
    },
    {
     "name": "stderr",
     "output_type": "stream",
     "text": [
      "14:35:47 - cmdstanpy - INFO - Chain [1] done processing\n",
      "14:35:47 - cmdstanpy - INFO - Chain [1] start processing\n"
     ]
    },
    {
     "name": "stdout",
     "output_type": "stream",
     "text": [
      "--------------------------------------------------------------------------------------------------\n",
      "try 438 -- Mean Absolute Percentage Error(MAPE)------------------------------------ 17.2171734320738\n"
     ]
    },
    {
     "name": "stderr",
     "output_type": "stream",
     "text": [
      "14:35:48 - cmdstanpy - INFO - Chain [1] done processing\n",
      "14:35:48 - cmdstanpy - INFO - Chain [1] start processing\n"
     ]
    },
    {
     "name": "stdout",
     "output_type": "stream",
     "text": [
      "--------------------------------------------------------------------------------------------------\n",
      "try 439 -- Mean Absolute Percentage Error(MAPE)------------------------------------ 20.031916105794974\n"
     ]
    },
    {
     "name": "stderr",
     "output_type": "stream",
     "text": [
      "14:35:48 - cmdstanpy - INFO - Chain [1] done processing\n",
      "14:35:48 - cmdstanpy - INFO - Chain [1] start processing\n"
     ]
    },
    {
     "name": "stdout",
     "output_type": "stream",
     "text": [
      "--------------------------------------------------------------------------------------------------\n",
      "try 440 -- Mean Absolute Percentage Error(MAPE)------------------------------------ 22.43090153500053\n"
     ]
    },
    {
     "name": "stderr",
     "output_type": "stream",
     "text": [
      "14:35:49 - cmdstanpy - INFO - Chain [1] done processing\n",
      "14:35:49 - cmdstanpy - INFO - Chain [1] start processing\n"
     ]
    },
    {
     "name": "stdout",
     "output_type": "stream",
     "text": [
      "--------------------------------------------------------------------------------------------------\n",
      "try 441 -- Mean Absolute Percentage Error(MAPE)------------------------------------ 26.271499302766195\n"
     ]
    },
    {
     "name": "stderr",
     "output_type": "stream",
     "text": [
      "14:35:50 - cmdstanpy - INFO - Chain [1] done processing\n",
      "14:35:50 - cmdstanpy - INFO - Chain [1] start processing\n"
     ]
    },
    {
     "name": "stdout",
     "output_type": "stream",
     "text": [
      "--------------------------------------------------------------------------------------------------\n",
      "try 442 -- Mean Absolute Percentage Error(MAPE)------------------------------------ 30.25104711220215\n"
     ]
    },
    {
     "name": "stderr",
     "output_type": "stream",
     "text": [
      "14:35:50 - cmdstanpy - INFO - Chain [1] done processing\n",
      "14:35:50 - cmdstanpy - INFO - Chain [1] start processing\n"
     ]
    },
    {
     "name": "stdout",
     "output_type": "stream",
     "text": [
      "--------------------------------------------------------------------------------------------------\n",
      "try 443 -- Mean Absolute Percentage Error(MAPE)------------------------------------ 38.96162691196636\n"
     ]
    },
    {
     "name": "stderr",
     "output_type": "stream",
     "text": [
      "14:35:51 - cmdstanpy - INFO - Chain [1] done processing\n",
      "14:35:52 - cmdstanpy - INFO - Chain [1] start processing\n"
     ]
    },
    {
     "name": "stdout",
     "output_type": "stream",
     "text": [
      "--------------------------------------------------------------------------------------------------\n",
      "try 444 -- Mean Absolute Percentage Error(MAPE)------------------------------------ 41.399459291821515\n"
     ]
    },
    {
     "name": "stderr",
     "output_type": "stream",
     "text": [
      "14:35:53 - cmdstanpy - INFO - Chain [1] done processing\n",
      "14:35:53 - cmdstanpy - INFO - Chain [1] start processing\n"
     ]
    },
    {
     "name": "stdout",
     "output_type": "stream",
     "text": [
      "--------------------------------------------------------------------------------------------------\n",
      "try 445 -- Mean Absolute Percentage Error(MAPE)------------------------------------ 41.62700725346606\n"
     ]
    },
    {
     "name": "stderr",
     "output_type": "stream",
     "text": [
      "14:35:54 - cmdstanpy - INFO - Chain [1] done processing\n",
      "14:35:54 - cmdstanpy - INFO - Chain [1] start processing\n"
     ]
    },
    {
     "name": "stdout",
     "output_type": "stream",
     "text": [
      "--------------------------------------------------------------------------------------------------\n",
      "try 446 -- Mean Absolute Percentage Error(MAPE)------------------------------------ 41.70471792830791\n"
     ]
    },
    {
     "name": "stderr",
     "output_type": "stream",
     "text": [
      "14:35:54 - cmdstanpy - INFO - Chain [1] done processing\n",
      "14:35:54 - cmdstanpy - INFO - Chain [1] start processing\n"
     ]
    },
    {
     "name": "stdout",
     "output_type": "stream",
     "text": [
      "--------------------------------------------------------------------------------------------------\n",
      "try 447 -- Mean Absolute Percentage Error(MAPE)------------------------------------ 40.54913786390921\n"
     ]
    },
    {
     "name": "stderr",
     "output_type": "stream",
     "text": [
      "14:35:55 - cmdstanpy - INFO - Chain [1] done processing\n",
      "14:35:55 - cmdstanpy - INFO - Chain [1] start processing\n"
     ]
    },
    {
     "name": "stdout",
     "output_type": "stream",
     "text": [
      "--------------------------------------------------------------------------------------------------\n",
      "try 448 -- Mean Absolute Percentage Error(MAPE)------------------------------------ 40.616788791578045\n"
     ]
    },
    {
     "name": "stderr",
     "output_type": "stream",
     "text": [
      "14:35:56 - cmdstanpy - INFO - Chain [1] done processing\n",
      "14:35:56 - cmdstanpy - INFO - Chain [1] start processing\n"
     ]
    },
    {
     "name": "stdout",
     "output_type": "stream",
     "text": [
      "--------------------------------------------------------------------------------------------------\n",
      "try 449 -- Mean Absolute Percentage Error(MAPE)------------------------------------ 10.078404780473301\n"
     ]
    },
    {
     "name": "stderr",
     "output_type": "stream",
     "text": [
      "14:35:56 - cmdstanpy - INFO - Chain [1] done processing\n",
      "14:35:56 - cmdstanpy - INFO - Chain [1] start processing\n"
     ]
    },
    {
     "name": "stdout",
     "output_type": "stream",
     "text": [
      "--------------------------------------------------------------------------------------------------\n",
      "try 450 -- Mean Absolute Percentage Error(MAPE)------------------------------------ 10.192113960144681\n"
     ]
    },
    {
     "name": "stderr",
     "output_type": "stream",
     "text": [
      "14:35:57 - cmdstanpy - INFO - Chain [1] done processing\n",
      "14:35:57 - cmdstanpy - INFO - Chain [1] start processing\n"
     ]
    },
    {
     "name": "stdout",
     "output_type": "stream",
     "text": [
      "--------------------------------------------------------------------------------------------------\n",
      "try 451 -- Mean Absolute Percentage Error(MAPE)------------------------------------ 10.240489408852978\n"
     ]
    },
    {
     "name": "stderr",
     "output_type": "stream",
     "text": [
      "14:35:57 - cmdstanpy - INFO - Chain [1] done processing\n",
      "14:35:57 - cmdstanpy - INFO - Chain [1] start processing\n"
     ]
    },
    {
     "name": "stdout",
     "output_type": "stream",
     "text": [
      "--------------------------------------------------------------------------------------------------\n",
      "try 452 -- Mean Absolute Percentage Error(MAPE)------------------------------------ 10.707040795663042\n"
     ]
    },
    {
     "name": "stderr",
     "output_type": "stream",
     "text": [
      "14:35:58 - cmdstanpy - INFO - Chain [1] done processing\n",
      "14:35:58 - cmdstanpy - INFO - Chain [1] start processing\n"
     ]
    },
    {
     "name": "stdout",
     "output_type": "stream",
     "text": [
      "--------------------------------------------------------------------------------------------------\n",
      "try 453 -- Mean Absolute Percentage Error(MAPE)------------------------------------ 11.594169266255246\n"
     ]
    },
    {
     "name": "stderr",
     "output_type": "stream",
     "text": [
      "14:35:58 - cmdstanpy - INFO - Chain [1] done processing\n",
      "14:35:58 - cmdstanpy - INFO - Chain [1] start processing\n"
     ]
    },
    {
     "name": "stdout",
     "output_type": "stream",
     "text": [
      "--------------------------------------------------------------------------------------------------\n",
      "try 454 -- Mean Absolute Percentage Error(MAPE)------------------------------------ 30.77751142728524\n"
     ]
    },
    {
     "name": "stderr",
     "output_type": "stream",
     "text": [
      "14:35:59 - cmdstanpy - INFO - Chain [1] done processing\n",
      "14:35:59 - cmdstanpy - INFO - Chain [1] start processing\n"
     ]
    },
    {
     "name": "stdout",
     "output_type": "stream",
     "text": [
      "--------------------------------------------------------------------------------------------------\n",
      "try 455 -- Mean Absolute Percentage Error(MAPE)------------------------------------ 47.02378299511327\n"
     ]
    },
    {
     "name": "stderr",
     "output_type": "stream",
     "text": [
      "14:35:59 - cmdstanpy - INFO - Chain [1] done processing\n",
      "14:36:00 - cmdstanpy - INFO - Chain [1] start processing\n"
     ]
    },
    {
     "name": "stdout",
     "output_type": "stream",
     "text": [
      "--------------------------------------------------------------------------------------------------\n",
      "try 456 -- Mean Absolute Percentage Error(MAPE)------------------------------------ 48.72134590088806\n"
     ]
    },
    {
     "name": "stderr",
     "output_type": "stream",
     "text": [
      "14:36:00 - cmdstanpy - INFO - Chain [1] done processing\n",
      "14:36:00 - cmdstanpy - INFO - Chain [1] start processing\n"
     ]
    },
    {
     "name": "stdout",
     "output_type": "stream",
     "text": [
      "--------------------------------------------------------------------------------------------------\n",
      "try 457 -- Mean Absolute Percentage Error(MAPE)------------------------------------ 52.27613789158335\n"
     ]
    },
    {
     "name": "stderr",
     "output_type": "stream",
     "text": [
      "14:36:01 - cmdstanpy - INFO - Chain [1] done processing\n",
      "14:36:01 - cmdstanpy - INFO - Chain [1] start processing\n"
     ]
    },
    {
     "name": "stdout",
     "output_type": "stream",
     "text": [
      "--------------------------------------------------------------------------------------------------\n",
      "try 458 -- Mean Absolute Percentage Error(MAPE)------------------------------------ 53.77321018750525\n"
     ]
    },
    {
     "name": "stderr",
     "output_type": "stream",
     "text": [
      "14:36:01 - cmdstanpy - INFO - Chain [1] done processing\n",
      "14:36:01 - cmdstanpy - INFO - Chain [1] start processing\n"
     ]
    },
    {
     "name": "stdout",
     "output_type": "stream",
     "text": [
      "--------------------------------------------------------------------------------------------------\n",
      "try 459 -- Mean Absolute Percentage Error(MAPE)------------------------------------ 63.07788545782345\n"
     ]
    },
    {
     "name": "stderr",
     "output_type": "stream",
     "text": [
      "14:36:25 - cmdstanpy - INFO - Chain [1] done processing\n",
      "14:36:25 - cmdstanpy - INFO - Chain [1] start processing\n"
     ]
    },
    {
     "name": "stdout",
     "output_type": "stream",
     "text": [
      "--------------------------------------------------------------------------------------------------\n",
      "try 460 -- Mean Absolute Percentage Error(MAPE)------------------------------------ 81.71943203065098\n"
     ]
    },
    {
     "name": "stderr",
     "output_type": "stream",
     "text": [
      "14:36:51 - cmdstanpy - INFO - Chain [1] done processing\n",
      "14:36:51 - cmdstanpy - INFO - Chain [1] start processing\n"
     ]
    },
    {
     "name": "stdout",
     "output_type": "stream",
     "text": [
      "--------------------------------------------------------------------------------------------------\n",
      "try 461 -- Mean Absolute Percentage Error(MAPE)------------------------------------ 67.68716157595944\n"
     ]
    },
    {
     "name": "stderr",
     "output_type": "stream",
     "text": [
      "14:37:14 - cmdstanpy - INFO - Chain [1] done processing\n",
      "14:37:14 - cmdstanpy - INFO - Chain [1] start processing\n"
     ]
    },
    {
     "name": "stdout",
     "output_type": "stream",
     "text": [
      "--------------------------------------------------------------------------------------------------\n",
      "try 462 -- Mean Absolute Percentage Error(MAPE)------------------------------------ 92.4874103904818\n"
     ]
    },
    {
     "name": "stderr",
     "output_type": "stream",
     "text": [
      "14:37:39 - cmdstanpy - INFO - Chain [1] done processing\n",
      "14:37:39 - cmdstanpy - INFO - Chain [1] start processing\n"
     ]
    },
    {
     "name": "stdout",
     "output_type": "stream",
     "text": [
      "--------------------------------------------------------------------------------------------------\n",
      "try 463 -- Mean Absolute Percentage Error(MAPE)------------------------------------ 112.5631981209203\n"
     ]
    },
    {
     "name": "stderr",
     "output_type": "stream",
     "text": [
      "14:38:04 - cmdstanpy - INFO - Chain [1] done processing\n",
      "14:38:04 - cmdstanpy - INFO - Chain [1] start processing\n"
     ]
    },
    {
     "name": "stdout",
     "output_type": "stream",
     "text": [
      "--------------------------------------------------------------------------------------------------\n",
      "try 464 -- Mean Absolute Percentage Error(MAPE)------------------------------------ 114.35526065416713\n"
     ]
    },
    {
     "name": "stderr",
     "output_type": "stream",
     "text": [
      "14:38:04 - cmdstanpy - INFO - Chain [1] done processing\n",
      "14:38:04 - cmdstanpy - INFO - Chain [1] start processing\n"
     ]
    },
    {
     "name": "stdout",
     "output_type": "stream",
     "text": [
      "--------------------------------------------------------------------------------------------------\n",
      "try 465 -- Mean Absolute Percentage Error(MAPE)------------------------------------ 9.994393958134776\n"
     ]
    },
    {
     "name": "stderr",
     "output_type": "stream",
     "text": [
      "14:38:05 - cmdstanpy - INFO - Chain [1] done processing\n",
      "14:38:05 - cmdstanpy - INFO - Chain [1] start processing\n"
     ]
    },
    {
     "name": "stdout",
     "output_type": "stream",
     "text": [
      "--------------------------------------------------------------------------------------------------\n",
      "try 466 -- Mean Absolute Percentage Error(MAPE)------------------------------------ 9.608693032695538\n"
     ]
    },
    {
     "name": "stderr",
     "output_type": "stream",
     "text": [
      "14:38:05 - cmdstanpy - INFO - Chain [1] done processing\n",
      "14:38:06 - cmdstanpy - INFO - Chain [1] start processing\n"
     ]
    },
    {
     "name": "stdout",
     "output_type": "stream",
     "text": [
      "--------------------------------------------------------------------------------------------------\n",
      "try 467 -- Mean Absolute Percentage Error(MAPE)------------------------------------ 12.805907162555751\n"
     ]
    },
    {
     "name": "stderr",
     "output_type": "stream",
     "text": [
      "14:38:06 - cmdstanpy - INFO - Chain [1] done processing\n",
      "14:38:06 - cmdstanpy - INFO - Chain [1] start processing\n"
     ]
    },
    {
     "name": "stdout",
     "output_type": "stream",
     "text": [
      "--------------------------------------------------------------------------------------------------\n",
      "try 468 -- Mean Absolute Percentage Error(MAPE)------------------------------------ 14.503213809317408\n"
     ]
    },
    {
     "name": "stderr",
     "output_type": "stream",
     "text": [
      "14:38:07 - cmdstanpy - INFO - Chain [1] done processing\n",
      "14:38:07 - cmdstanpy - INFO - Chain [1] start processing\n"
     ]
    },
    {
     "name": "stdout",
     "output_type": "stream",
     "text": [
      "--------------------------------------------------------------------------------------------------\n",
      "try 469 -- Mean Absolute Percentage Error(MAPE)------------------------------------ 16.768553700407594\n"
     ]
    },
    {
     "name": "stderr",
     "output_type": "stream",
     "text": [
      "14:38:08 - cmdstanpy - INFO - Chain [1] done processing\n",
      "14:38:08 - cmdstanpy - INFO - Chain [1] start processing\n"
     ]
    },
    {
     "name": "stdout",
     "output_type": "stream",
     "text": [
      "--------------------------------------------------------------------------------------------------\n",
      "try 470 -- Mean Absolute Percentage Error(MAPE)------------------------------------ 19.409670644475423\n"
     ]
    },
    {
     "name": "stderr",
     "output_type": "stream",
     "text": [
      "14:38:08 - cmdstanpy - INFO - Chain [1] done processing\n",
      "14:38:08 - cmdstanpy - INFO - Chain [1] start processing\n"
     ]
    },
    {
     "name": "stdout",
     "output_type": "stream",
     "text": [
      "--------------------------------------------------------------------------------------------------\n",
      "try 471 -- Mean Absolute Percentage Error(MAPE)------------------------------------ 21.109175711356816\n"
     ]
    },
    {
     "name": "stderr",
     "output_type": "stream",
     "text": [
      "14:38:09 - cmdstanpy - INFO - Chain [1] done processing\n",
      "14:38:09 - cmdstanpy - INFO - Chain [1] start processing\n"
     ]
    },
    {
     "name": "stdout",
     "output_type": "stream",
     "text": [
      "--------------------------------------------------------------------------------------------------\n",
      "try 472 -- Mean Absolute Percentage Error(MAPE)------------------------------------ 23.32798989953139\n"
     ]
    },
    {
     "name": "stderr",
     "output_type": "stream",
     "text": [
      "14:38:10 - cmdstanpy - INFO - Chain [1] done processing\n",
      "14:38:10 - cmdstanpy - INFO - Chain [1] start processing\n"
     ]
    },
    {
     "name": "stdout",
     "output_type": "stream",
     "text": [
      "--------------------------------------------------------------------------------------------------\n",
      "try 473 -- Mean Absolute Percentage Error(MAPE)------------------------------------ 26.913153744553682\n"
     ]
    },
    {
     "name": "stderr",
     "output_type": "stream",
     "text": [
      "14:38:11 - cmdstanpy - INFO - Chain [1] done processing\n",
      "14:38:11 - cmdstanpy - INFO - Chain [1] start processing\n"
     ]
    },
    {
     "name": "stdout",
     "output_type": "stream",
     "text": [
      "--------------------------------------------------------------------------------------------------\n",
      "try 474 -- Mean Absolute Percentage Error(MAPE)------------------------------------ 32.771471688366496\n"
     ]
    },
    {
     "name": "stderr",
     "output_type": "stream",
     "text": [
      "14:38:12 - cmdstanpy - INFO - Chain [1] done processing\n",
      "14:38:12 - cmdstanpy - INFO - Chain [1] start processing\n"
     ]
    },
    {
     "name": "stdout",
     "output_type": "stream",
     "text": [
      "--------------------------------------------------------------------------------------------------\n",
      "try 475 -- Mean Absolute Percentage Error(MAPE)------------------------------------ 34.80437490429317\n"
     ]
    },
    {
     "name": "stderr",
     "output_type": "stream",
     "text": [
      "14:38:13 - cmdstanpy - INFO - Chain [1] done processing\n",
      "14:38:13 - cmdstanpy - INFO - Chain [1] start processing\n"
     ]
    },
    {
     "name": "stdout",
     "output_type": "stream",
     "text": [
      "--------------------------------------------------------------------------------------------------\n",
      "try 476 -- Mean Absolute Percentage Error(MAPE)------------------------------------ 35.96136367263166\n"
     ]
    },
    {
     "name": "stderr",
     "output_type": "stream",
     "text": [
      "14:38:14 - cmdstanpy - INFO - Chain [1] done processing\n",
      "14:38:14 - cmdstanpy - INFO - Chain [1] start processing\n"
     ]
    },
    {
     "name": "stdout",
     "output_type": "stream",
     "text": [
      "--------------------------------------------------------------------------------------------------\n",
      "try 477 -- Mean Absolute Percentage Error(MAPE)------------------------------------ 36.597000542851774\n"
     ]
    },
    {
     "name": "stderr",
     "output_type": "stream",
     "text": [
      "14:38:15 - cmdstanpy - INFO - Chain [1] done processing\n",
      "14:38:15 - cmdstanpy - INFO - Chain [1] start processing\n"
     ]
    },
    {
     "name": "stdout",
     "output_type": "stream",
     "text": [
      "--------------------------------------------------------------------------------------------------\n",
      "try 478 -- Mean Absolute Percentage Error(MAPE)------------------------------------ 42.594674179737126\n"
     ]
    },
    {
     "name": "stderr",
     "output_type": "stream",
     "text": [
      "14:38:16 - cmdstanpy - INFO - Chain [1] done processing\n",
      "14:38:16 - cmdstanpy - INFO - Chain [1] start processing\n"
     ]
    },
    {
     "name": "stdout",
     "output_type": "stream",
     "text": [
      "--------------------------------------------------------------------------------------------------\n",
      "try 479 -- Mean Absolute Percentage Error(MAPE)------------------------------------ 35.742432547845794\n"
     ]
    },
    {
     "name": "stderr",
     "output_type": "stream",
     "text": [
      "14:38:17 - cmdstanpy - INFO - Chain [1] done processing\n"
     ]
    },
    {
     "name": "stdout",
     "output_type": "stream",
     "text": [
      "--------------------------------------------------------------------------------------------------\n",
      "try 480 -- Mean Absolute Percentage Error(MAPE)------------------------------------ 36.316460147329025\n"
     ]
    }
   ],
   "source": [
    "# create initial DataFrame\n",
    "model_parameters = pd.DataFrame(columns = ['MAPE','Parameters'])\n",
    "\n",
    "#trial count\n",
    "_try = 0\n",
    "\n",
    "# try hyperparameters\n",
    "for p in grid:\n",
    "    train_forecast = pd.DataFrame()\n",
    "    train_model =Prophet(changepoint_prior_scale = p['changepoint_prior_scale'],\n",
    "                        seasonality_prior_scale = p['seasonality_prior_scale'],\n",
    "                        seasonality_mode = p['seasonality_mode'])\n",
    "    train_model.fit(train)\n",
    "    train_forecast = train_model.make_future_dataframe(periods=12, freq='MS')\n",
    "    train_forecast = train_model.predict(train_forecast)\n",
    "    train_forecast = train_forecast[['ds','yhat']]\n",
    "    train_forecast = train_forecast[35:39]\n",
    "    train_test = test\n",
    "    MAPE = mean_absolute_percentage_error(train_test['y'],abs(train_forecast['yhat']))\n",
    "    _try +=1\n",
    "    print('--------------------------------------------------------------------------------------------------')\n",
    "    print('try', _try, '-- Mean Absolute Percentage Error(MAPE)------------------------------------',MAPE)\n",
    "    try_parameter = pd.DataFrame({'MAPE':MAPE,'Parameters':[p]})\n",
    "    model_parameters = pd.concat([model_parameters,try_parameter],ignore_index=True)"
   ]
  },
  {
   "cell_type": "code",
   "execution_count": 15,
   "metadata": {},
   "outputs": [
    {
     "name": "stdout",
     "output_type": "stream",
     "text": [
      "{'changepoint_prior_scale': 0.001, 'seasonality_mode': 'additive', 'seasonality_prior_scale': 0.1}\n"
     ]
    }
   ],
   "source": [
    "# sort MAPE ascending\n",
    "parameters = model_parameters.sort_values(by=['MAPE'], ascending=True)\n",
    "parameters = parameters.reset_index(drop=True)\n",
    "\n",
    "# choose the lowest one\n",
    "hyperparameters = parameters['Parameters'][0]\n",
    "\n",
    "# print hyperparameters\n",
    "print(hyperparameters)"
   ]
  },
  {
   "cell_type": "code",
   "execution_count": 24,
   "metadata": {},
   "outputs": [
    {
     "data": {
      "text/html": [
       "<div>\n",
       "<style scoped>\n",
       "    .dataframe tbody tr th:only-of-type {\n",
       "        vertical-align: middle;\n",
       "    }\n",
       "\n",
       "    .dataframe tbody tr th {\n",
       "        vertical-align: top;\n",
       "    }\n",
       "\n",
       "    .dataframe thead th {\n",
       "        text-align: right;\n",
       "    }\n",
       "</style>\n",
       "<table border=\"1\" class=\"dataframe\">\n",
       "  <thead>\n",
       "    <tr style=\"text-align: right;\">\n",
       "      <th></th>\n",
       "      <th>MAPE</th>\n",
       "      <th>Parameters</th>\n",
       "    </tr>\n",
       "  </thead>\n",
       "  <tbody>\n",
       "    <tr>\n",
       "      <th>0</th>\n",
       "      <td>7.015567</td>\n",
       "      <td>{'changepoint_prior_scale': 0.001, 'seasonalit...</td>\n",
       "    </tr>\n",
       "  </tbody>\n",
       "</table>\n",
       "</div>"
      ],
      "text/plain": [
       "       MAPE                                         Parameters\n",
       "0  7.015567  {'changepoint_prior_scale': 0.001, 'seasonalit..."
      ]
     },
     "execution_count": 24,
     "metadata": {},
     "output_type": "execute_result"
    }
   ],
   "source": [
    "parameters.head(1)"
   ]
  },
  {
   "cell_type": "code",
   "execution_count": 16,
   "metadata": {},
   "outputs": [
    {
     "name": "stderr",
     "output_type": "stream",
     "text": [
      "14:38:17 - cmdstanpy - INFO - Chain [1] start processing\n",
      "14:38:18 - cmdstanpy - INFO - Chain [1] done processing\n"
     ]
    }
   ],
   "source": [
    "# create model with the best hyperparameters\n",
    "model = Prophet(changepoint_prior_scale=hyperparameters['changepoint_prior_scale'],\n",
    "                        seasonality_prior_scale=hyperparameters['seasonality_prior_scale'],\n",
    "                        seasonality_mode=hyperparameters['seasonality_mode'])\n",
    "\n",
    "# fit dataset\n",
    "model.fit(train)\n",
    "\n",
    "# create future want to predict\n",
    "future = model.make_future_dataframe(periods=12, freq='MS') # predict next 12 months\n",
    "\n",
    "# run forecast\n",
    "forecast = model.predict(future)"
   ]
  },
  {
   "cell_type": "code",
   "execution_count": 26,
   "metadata": {},
   "outputs": [
    {
     "data": {
      "text/plain": [
       "<Figure size 1000x600 with 0 Axes>"
      ]
     },
     "metadata": {},
     "output_type": "display_data"
    },
    {
     "data": {
      "image/png": "[encoded data removed]",
      "text/plain": [
       "<Figure size 1000x600 with 1 Axes>"
      ]
     },
     "metadata": {},
     "output_type": "display_data"
    }
   ],
   "source": [
    "# show results\n",
    "fig_1 = plt.figure(figsize=(10, 6))\n",
    "plt.figure(figsize=(10, 6))\n",
    "plt.plot(train[\"ds\"], train[\"y\"], '.', label='Actual Train', color = 'blue')\n",
    "plt.plot(test[\"ds\"], test[\"y\"], '.', label='Actual Test', color = 'red')\n",
    "plt.plot(forecast['ds'], forecast['yhat'], label='Forecast', color='grey')\n",
    "plt.fill_between(forecast['ds'], forecast['yhat_lower'], forecast['yhat_upper'], color='skyblue', alpha=0.3)\n",
    "plt.xlabel('Date')\n",
    "plt.ylabel('Value')\n",
    "plt.title('Training and Actual with Forecasted Data')\n",
    "plt.legend()\n",
    "plt.show()"
   ]
  },
  {
   "cell_type": "code",
   "execution_count": 20,
   "metadata": {},
   "outputs": [
    {
     "data": {
      "image/png": "[encoded data removed]",
      "text/plain": [
       "<Figure size 900x600 with 2 Axes>"
      ]
     },
     "metadata": {},
     "output_type": "display_data"
    }
   ],
   "source": [
    "fig_2 = model.plot_components(forecast, plot_cap=20)"
   ]
  }
 ],
 "metadata": {
  "kernelspec": {
   "display_name": "Python 3",
   "language": "python",
   "name": "python3"
  },
  "language_info": {
   "codemirror_mode": {
    "name": "ipython",
    "version": 3
   },
   "file_extension": ".py",
   "mimetype": "text/x-python",
   "name": "python",
   "nbconvert_exporter": "python",
   "pygments_lexer": "ipython3",
   "version": "3.10.6"
  }
 },
 "nbformat": 4,
 "nbformat_minor": 2
}

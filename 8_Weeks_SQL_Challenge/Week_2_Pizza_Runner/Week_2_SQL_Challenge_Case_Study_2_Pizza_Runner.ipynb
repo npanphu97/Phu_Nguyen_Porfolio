{
 "cells": [
  {
   "cell_type": "code",
   "execution_count": 1,
   "metadata": {},
   "outputs": [],
   "source": [
    "import numpy as np\n",
    "import pandas as pd"
   ]
  },
  {
   "cell_type": "code",
   "execution_count": 2,
   "metadata": {},
   "outputs": [],
   "source": [
    "customer_orders = pd.read_csv('customer_orders.csv')\n",
    "runner_orders = pd.read_csv('runner_orders.csv')\n",
    "pizza_names = pd.read_csv('pizza_names.csv')\n",
    "pizza_recipes = pd.read_csv('pizza_recipes.csv')\n",
    "pizza_toppings = pd.read_csv('pizza_toppings.csv')\n",
    "runners = pd.read_csv('runners.csv')"
   ]
  },
  {
   "cell_type": "code",
   "execution_count": 3,
   "metadata": {},
   "outputs": [
    {
     "name": "stderr",
     "output_type": "stream",
     "text": [
      ""
     ]
    }
   ],
   "source": [
    "# modify values of \"distance\", and \"duration\" columns\n",
    "runner_orders[\"distance\"] = runner_orders[\"distance\"] = runner_orders[\"distance\"].str.replace('km','').astype(float)\n",
    "runner_orders['duration'] = runner_orders['duration'].str.replace('mins|minutes|minute', '').astype(float)"
   ]
  },
  {
   "cell_type": "code",
   "execution_count": 4,
   "metadata": {},
   "outputs": [],
   "source": [
    "# unified data type of primary key, and foreign key\n",
    "customer_orders['order_id'] = customer_orders['order_id'].astype(int)\n",
    "customer_orders['pizza_id'] = customer_orders['pizza_id'].astype(int)\n",
    "pizza_names['pizza_id'] = pizza_names['pizza_id'].astype(int)\n",
    "pizza_toppings['topping_id'] = pizza_toppings['topping_id'].astype(int)"
   ]
  },
  {
   "cell_type": "markdown",
   "metadata": {},
   "source": [
    "# Part I"
   ]
  },
  {
   "cell_type": "markdown",
   "metadata": {},
   "source": [
    "Q1. How many pizzas were ordered?"
   ]
  },
  {
   "cell_type": "code",
   "execution_count": 5,
   "metadata": {},
   "outputs": [
    {
     "data": {
      "text/plain": [
       "14"
      ]
     },
     "execution_count": 5,
     "metadata": {},
     "output_type": "execute_result"
    }
   ],
   "source": [
    "customer_orders[\"order_id\"].count()"
   ]
  },
  {
   "cell_type": "markdown",
   "metadata": {},
   "source": [
    "Q2. How many unique customer orders was made?"
   ]
  },
  {
   "cell_type": "code",
   "execution_count": 6,
   "metadata": {},
   "outputs": [
    {
     "data": {
      "text/plain": [
       "10"
      ]
     },
     "execution_count": 6,
     "metadata": {},
     "output_type": "execute_result"
    }
   ],
   "source": [
    "customer_orders[\"order_id\"].nunique()"
   ]
  },
  {
   "cell_type": "markdown",
   "metadata": {},
   "source": [
    "Q3. How many successful orders was delivered by each runner?\n"
   ]
  },
  {
   "cell_type": "code",
   "execution_count": 7,
   "metadata": {},
   "outputs": [
    {
     "data": {
      "text/html": [
       "<div>\n",
       "<style scoped>\n",
       "    .dataframe tbody tr th:only-of-type {\n",
       "        vertical-align: middle;\n",
       "    }\n",
       "\n",
       "    .dataframe tbody tr th {\n",
       "        vertical-align: top;\n",
       "    }\n",
       "\n",
       "    .dataframe thead th {\n",
       "        text-align: right;\n",
       "    }\n",
       "</style>\n",
       "<table border=\"1\" class=\"dataframe\">\n",
       "  <thead>\n",
       "    <tr style=\"text-align: right;\">\n",
       "      <th></th>\n",
       "      <th>runner_id</th>\n",
       "      <th>order_delivered</th>\n",
       "    </tr>\n",
       "  </thead>\n",
       "  <tbody>\n",
       "    <tr>\n",
       "      <th>0</th>\n",
       "      <td>1</td>\n",
       "      <td>4</td>\n",
       "    </tr>\n",
       "    <tr>\n",
       "      <th>1</th>\n",
       "      <td>2</td>\n",
       "      <td>3</td>\n",
       "    </tr>\n",
       "    <tr>\n",
       "      <th>2</th>\n",
       "      <td>3</td>\n",
       "      <td>1</td>\n",
       "    </tr>\n",
       "  </tbody>\n",
       "</table>\n",
       "</div>"
      ],
      "text/plain": [
       "   runner_id  order_delivered\n",
       "0          1                4\n",
       "1          2                3\n",
       "2          3                1"
      ]
     },
     "execution_count": 7,
     "metadata": {},
     "output_type": "execute_result"
    }
   ],
   "source": [
    "# create source\n",
    "successful_ordered = runner_orders['runner_id'].loc[runner_orders[\"cancellation\"].isnull()].value_counts().reset_index()\n",
    "successful_ordered.columns = ['runner_id', 'order_delivered']\n",
    "\n",
    "# print result\n",
    "successful_ordered"
   ]
  },
  {
   "cell_type": "markdown",
   "metadata": {},
   "source": [
    "Q4. How many of each type of pizza was delivered?"
   ]
  },
  {
   "cell_type": "code",
   "execution_count": 8,
   "metadata": {},
   "outputs": [
    {
     "data": {
      "text/html": [
       "<div>\n",
       "<style scoped>\n",
       "    .dataframe tbody tr th:only-of-type {\n",
       "        vertical-align: middle;\n",
       "    }\n",
       "\n",
       "    .dataframe tbody tr th {\n",
       "        vertical-align: top;\n",
       "    }\n",
       "\n",
       "    .dataframe thead th {\n",
       "        text-align: right;\n",
       "    }\n",
       "</style>\n",
       "<table border=\"1\" class=\"dataframe\">\n",
       "  <thead>\n",
       "    <tr style=\"text-align: right;\">\n",
       "      <th></th>\n",
       "      <th>pizza_name</th>\n",
       "      <th>pizza_count</th>\n",
       "    </tr>\n",
       "  </thead>\n",
       "  <tbody>\n",
       "    <tr>\n",
       "      <th>0</th>\n",
       "      <td>Meatlovers</td>\n",
       "      <td>9</td>\n",
       "    </tr>\n",
       "    <tr>\n",
       "      <th>1</th>\n",
       "      <td>Vegetarian</td>\n",
       "      <td>3</td>\n",
       "    </tr>\n",
       "  </tbody>\n",
       "</table>\n",
       "</div>"
      ],
      "text/plain": [
       "   pizza_name  pizza_count\n",
       "0  Meatlovers            9\n",
       "1  Vegetarian            3"
      ]
     },
     "execution_count": 8,
     "metadata": {},
     "output_type": "execute_result"
    }
   ],
   "source": [
    "# delivered orders\n",
    "delivered_runners = runner_orders.loc[runner_orders['cancellation'].isnull()]\n",
    "\n",
    "# merge customer orders, filter of delivered runners, and pizza names\n",
    "pizza_delivered = (\n",
    "    customer_orders.merge(delivered_runners, on='order_id', how='inner')\n",
    "    .merge(pizza_names, on='pizza_id', how='left')\n",
    ")\n",
    "\n",
    "# count pizza types\n",
    "pizza_delivered_counts = pizza_delivered['pizza_name'].value_counts().reset_index()\n",
    "pizza_delivered_counts.columns = ['pizza_name', 'pizza_count']\n",
    "\n",
    "# print result\n",
    "pizza_delivered_counts"
   ]
  },
  {
   "cell_type": "markdown",
   "metadata": {},
   "source": [
    "Q5. How many Vegetarian and Meatlovers were ordered by each customer?"
   ]
  },
  {
   "cell_type": "code",
   "execution_count": 9,
   "metadata": {},
   "outputs": [
    {
     "data": {
      "text/html": [
       "<div>\n",
       "<style scoped>\n",
       "    .dataframe tbody tr th:only-of-type {\n",
       "        vertical-align: middle;\n",
       "    }\n",
       "\n",
       "    .dataframe tbody tr th {\n",
       "        vertical-align: top;\n",
       "    }\n",
       "\n",
       "    .dataframe thead th {\n",
       "        text-align: right;\n",
       "    }\n",
       "</style>\n",
       "<table border=\"1\" class=\"dataframe\">\n",
       "  <thead>\n",
       "    <tr style=\"text-align: right;\">\n",
       "      <th></th>\n",
       "      <th>customer_id</th>\n",
       "      <th>pizza_name</th>\n",
       "      <th>order_made</th>\n",
       "    </tr>\n",
       "  </thead>\n",
       "  <tbody>\n",
       "    <tr>\n",
       "      <th>0</th>\n",
       "      <td>101</td>\n",
       "      <td>Meatlovers</td>\n",
       "      <td>2</td>\n",
       "    </tr>\n",
       "    <tr>\n",
       "      <th>1</th>\n",
       "      <td>101</td>\n",
       "      <td>Vegetarian</td>\n",
       "      <td>1</td>\n",
       "    </tr>\n",
       "    <tr>\n",
       "      <th>2</th>\n",
       "      <td>102</td>\n",
       "      <td>Meatlovers</td>\n",
       "      <td>2</td>\n",
       "    </tr>\n",
       "    <tr>\n",
       "      <th>3</th>\n",
       "      <td>102</td>\n",
       "      <td>Vegetarian</td>\n",
       "      <td>1</td>\n",
       "    </tr>\n",
       "    <tr>\n",
       "      <th>4</th>\n",
       "      <td>103</td>\n",
       "      <td>Meatlovers</td>\n",
       "      <td>3</td>\n",
       "    </tr>\n",
       "    <tr>\n",
       "      <th>5</th>\n",
       "      <td>103</td>\n",
       "      <td>Vegetarian</td>\n",
       "      <td>1</td>\n",
       "    </tr>\n",
       "    <tr>\n",
       "      <th>6</th>\n",
       "      <td>104</td>\n",
       "      <td>Meatlovers</td>\n",
       "      <td>3</td>\n",
       "    </tr>\n",
       "    <tr>\n",
       "      <th>7</th>\n",
       "      <td>105</td>\n",
       "      <td>Vegetarian</td>\n",
       "      <td>1</td>\n",
       "    </tr>\n",
       "  </tbody>\n",
       "</table>\n",
       "</div>"
      ],
      "text/plain": [
       "   customer_id  pizza_name  order_made\n",
       "0          101  Meatlovers           2\n",
       "1          101  Vegetarian           1\n",
       "2          102  Meatlovers           2\n",
       "3          102  Vegetarian           1\n",
       "4          103  Meatlovers           3\n",
       "5          103  Vegetarian           1\n",
       "6          104  Meatlovers           3\n",
       "7          105  Vegetarian           1"
      ]
     },
     "execution_count": 9,
     "metadata": {},
     "output_type": "execute_result"
    }
   ],
   "source": [
    "# create source\n",
    "pizza_count_by_customer = (\n",
    "    customer_orders.merge(pizza_names, on='pizza_id', how='left')\n",
    "    .groupby(['customer_id', 'pizza_name'])\n",
    "    .size()\n",
    "    .reset_index(name='order_made')\n",
    "    .sort_values('customer_id')\n",
    ")\n",
    "\n",
    "# print result\n",
    "pizza_count_by_customer.sort_values('customer_id')"
   ]
  },
  {
   "cell_type": "markdown",
   "metadata": {},
   "source": [
    "Q6. What was the maximum number of pizzas delivered in a single orders?"
   ]
  },
  {
   "cell_type": "code",
   "execution_count": 10,
   "metadata": {},
   "outputs": [
    {
     "data": {
      "text/html": [
       "<div>\n",
       "<style scoped>\n",
       "    .dataframe tbody tr th:only-of-type {\n",
       "        vertical-align: middle;\n",
       "    }\n",
       "\n",
       "    .dataframe tbody tr th {\n",
       "        vertical-align: top;\n",
       "    }\n",
       "\n",
       "    .dataframe thead th {\n",
       "        text-align: right;\n",
       "    }\n",
       "</style>\n",
       "<table border=\"1\" class=\"dataframe\">\n",
       "  <thead>\n",
       "    <tr style=\"text-align: right;\">\n",
       "      <th></th>\n",
       "      <th>order_id</th>\n",
       "      <th>pizzas</th>\n",
       "    </tr>\n",
       "  </thead>\n",
       "  <tbody>\n",
       "    <tr>\n",
       "      <th>0</th>\n",
       "      <td>4</td>\n",
       "      <td>3</td>\n",
       "    </tr>\n",
       "  </tbody>\n",
       "</table>\n",
       "</div>"
      ],
      "text/plain": [
       "   order_id  pizzas\n",
       "0         4       3"
      ]
     },
     "execution_count": 10,
     "metadata": {},
     "output_type": "execute_result"
    }
   ],
   "source": [
    "# create source\n",
    "max_pizzas_delivered = pizza_delivered['order_id'].value_counts(ascending=False).reset_index(name='pizzas').head(1)\n",
    "max_pizzas_delivered.columns = ['order_id', 'pizzas']\n",
    "\n",
    "# print result\n",
    "max_pizzas_delivered\n"
   ]
  },
  {
   "cell_type": "markdown",
   "metadata": {},
   "source": [
    "Q7. For each customer, how many delivered pizzas had at least 1 change and how many had no changes?"
   ]
  },
  {
   "cell_type": "code",
   "execution_count": 11,
   "metadata": {},
   "outputs": [
    {
     "data": {
      "text/html": [
       "<div>\n",
       "<style scoped>\n",
       "    .dataframe tbody tr th:only-of-type {\n",
       "        vertical-align: middle;\n",
       "    }\n",
       "\n",
       "    .dataframe tbody tr th {\n",
       "        vertical-align: top;\n",
       "    }\n",
       "\n",
       "    .dataframe thead th {\n",
       "        text-align: right;\n",
       "    }\n",
       "</style>\n",
       "<table border=\"1\" class=\"dataframe\">\n",
       "  <thead>\n",
       "    <tr style=\"text-align: right;\">\n",
       "      <th></th>\n",
       "      <th>customer_id</th>\n",
       "      <th>at_least_1_change</th>\n",
       "      <th>no_change</th>\n",
       "    </tr>\n",
       "  </thead>\n",
       "  <tbody>\n",
       "    <tr>\n",
       "      <th>0</th>\n",
       "      <td>101</td>\n",
       "      <td>0</td>\n",
       "      <td>2</td>\n",
       "    </tr>\n",
       "    <tr>\n",
       "      <th>1</th>\n",
       "      <td>102</td>\n",
       "      <td>0</td>\n",
       "      <td>3</td>\n",
       "    </tr>\n",
       "    <tr>\n",
       "      <th>2</th>\n",
       "      <td>103</td>\n",
       "      <td>3</td>\n",
       "      <td>0</td>\n",
       "    </tr>\n",
       "    <tr>\n",
       "      <th>3</th>\n",
       "      <td>104</td>\n",
       "      <td>2</td>\n",
       "      <td>1</td>\n",
       "    </tr>\n",
       "    <tr>\n",
       "      <th>4</th>\n",
       "      <td>105</td>\n",
       "      <td>1</td>\n",
       "      <td>0</td>\n",
       "    </tr>\n",
       "  </tbody>\n",
       "</table>\n",
       "</div>"
      ],
      "text/plain": [
       "   customer_id  at_least_1_change  no_change\n",
       "0          101                  0          2\n",
       "1          102                  0          3\n",
       "2          103                  3          0\n",
       "3          104                  2          1\n",
       "4          105                  1          0"
      ]
     },
     "execution_count": 11,
     "metadata": {},
     "output_type": "execute_result"
    }
   ],
   "source": [
    "# perform the inner join to get delivered orders\n",
    "merged_data = customer_orders.merge(runner_orders[runner_orders['cancellation'].isnull()],\n",
    "                                        on='order_id', how='inner')\n",
    "\n",
    "# define conditions for sum calculations\n",
    "merged_data['at_least_1_change'] = (\n",
    "    merged_data['exclusions'].notnull() | merged_data['extras'].notnull()\n",
    ").astype(int)\n",
    "\n",
    "merged_data['no_change'] = (\n",
    "    (merged_data['exclusions'].isnull() & merged_data['extras'].isnull())\n",
    ").astype(int)\n",
    "\n",
    "# group by 'customer_id' and perform the sums\n",
    "result = merged_data.groupby('customer_id').agg({\n",
    "    'at_least_1_change': 'sum',\n",
    "    'no_change': 'sum'\n",
    "}).reset_index().sort_values('customer_id')\n",
    "\n",
    "# print the result\n",
    "result"
   ]
  },
  {
   "cell_type": "markdown",
   "metadata": {},
   "source": [
    "Q8. How many pizzas were delivered that had both exclusions and extras?"
   ]
  },
  {
   "cell_type": "code",
   "execution_count": 12,
   "metadata": {},
   "outputs": [
    {
     "name": "stdout",
     "output_type": "stream",
     "text": [
      "1\n"
     ]
    }
   ],
   "source": [
    "# define conditions for sum calculations\n",
    "merged_data['change_extras_and_exclusion'] = (\n",
    "    merged_data['exclusions'].notnull() & merged_data['extras'].notnull()\n",
    ").astype(int)\n",
    "\n",
    "# results\n",
    "print(merged_data['change_extras_and_exclusion'].sum())"
   ]
  },
  {
   "cell_type": "markdown",
   "metadata": {},
   "source": [
    "Q9. What was the total volume of pizzas ordered for each hour of the day?"
   ]
  },
  {
   "cell_type": "code",
   "execution_count": 13,
   "metadata": {},
   "outputs": [
    {
     "name": "stdout",
     "output_type": "stream",
     "text": [
      "   hour_of_the_day  pizza_ordered_count\n",
      "0               11                    1\n",
      "1               13                    3\n",
      "2               18                    3\n",
      "3               19                    1\n",
      "4               21                    3\n",
      "5               23                    3\n"
     ]
    }
   ],
   "source": [
    "# change date type of oder_time column to pd.datetime\n",
    "customer_orders['order_time'] = pd.to_datetime(customer_orders['order_time'], format='%d/%m/%Y %H:%M:%S')\n",
    "\n",
    "# extract the hour of the date\n",
    "customer_orders['hour_of_the_day'] = customer_orders['order_time'].dt.hour\n",
    "\n",
    "# define measure\n",
    "result = customer_orders.groupby('hour_of_the_day').size().reset_index(name='pizza_ordered_count')\n",
    "\n",
    "# print order result\n",
    "print(result.sort_values('hour_of_the_day'))"
   ]
  },
  {
   "cell_type": "markdown",
   "metadata": {},
   "source": [
    "Q10. What was the volume of orders for each day of the week?"
   ]
  },
  {
   "cell_type": "code",
   "execution_count": 14,
   "metadata": {},
   "outputs": [
    {
     "name": "stdout",
     "output_type": "stream",
     "text": [
      "  day_of_week  pizza_order_count\n",
      "3   Wednesday                  5\n",
      "2    Thursday                  3\n",
      "0      Friday                  1\n",
      "1    Saturday                  5\n"
     ]
    }
   ],
   "source": [
    "# extract day name of the week\n",
    "customer_orders['day_of_week'] = customer_orders['order_time'].dt.day_name()\n",
    "\n",
    "# define measure\n",
    "result = customer_orders.groupby('day_of_week').size().reset_index(name='pizza_order_count')\n",
    "\n",
    "# day of week order\n",
    "d_o_w_order = ['Monday', 'Tuesday', 'Wednesday', 'Thursday', 'Friday', 'Saturday', 'Sunday']\n",
    "\n",
    "result['day_of_week'] = pd.Categorical(result['day_of_week'], categories=d_o_w_order, ordered=True)\n",
    "\n",
    "# order result\n",
    "print(result.sort_values('day_of_week'))"
   ]
  },
  {
   "cell_type": "markdown",
   "metadata": {},
   "source": [
    "# Part II"
   ]
  },
  {
   "cell_type": "markdown",
   "metadata": {},
   "source": [
    "Q1. How many runners signed up for each week period? (i.e. week starts 2021-01-01)"
   ]
  },
  {
   "cell_type": "code",
   "execution_count": 15,
   "metadata": {},
   "outputs": [
    {
     "name": "stdout",
     "output_type": "stream",
     "text": [
      "  registration_week_year  registered_runners\n",
      "0                 1-2021                   2\n",
      "1                 2-2021                   1\n",
      "2                 3-2021                   1\n"
     ]
    }
   ],
   "source": [
    "# format data type\n",
    "runners['registration_date'] = pd.to_datetime(runners['registration_date'], format='%d/%M/%Y')\n",
    "\n",
    "# define measure\n",
    "runners['registration_week_year'] = (runners['registration_date'].dt.strftime('%W').astype(int) + 1).astype(str) + '-' + runners['registration_date'].dt.strftime('%Y')\n",
    "\n",
    "# calculate result\n",
    "result = runners.groupby('registration_week_year').size().reset_index(name='registered_runners')\n",
    "\n",
    "# print result\n",
    "print(result)"
   ]
  },
  {
   "cell_type": "markdown",
   "metadata": {},
   "source": [
    "Q2. What was the average time in minutes it took for each runner to arrive at the Pizza Runner HQ to pickup the order?"
   ]
  },
  {
   "cell_type": "code",
   "execution_count": 16,
   "metadata": {},
   "outputs": [
    {
     "data": {
      "text/html": [
       "<div>\n",
       "<style scoped>\n",
       "    .dataframe tbody tr th:only-of-type {\n",
       "        vertical-align: middle;\n",
       "    }\n",
       "\n",
       "    .dataframe tbody tr th {\n",
       "        vertical-align: top;\n",
       "    }\n",
       "\n",
       "    .dataframe thead th {\n",
       "        text-align: right;\n",
       "    }\n",
       "</style>\n",
       "<table border=\"1\" class=\"dataframe\">\n",
       "  <thead>\n",
       "    <tr style=\"text-align: right;\">\n",
       "      <th></th>\n",
       "      <th>pickup_time_in_minutes</th>\n",
       "    </tr>\n",
       "    <tr>\n",
       "      <th>runner_id</th>\n",
       "      <th></th>\n",
       "    </tr>\n",
       "  </thead>\n",
       "  <tbody>\n",
       "    <tr>\n",
       "      <th>1</th>\n",
       "      <td>15.677778</td>\n",
       "    </tr>\n",
       "    <tr>\n",
       "      <th>2</th>\n",
       "      <td>23.720000</td>\n",
       "    </tr>\n",
       "    <tr>\n",
       "      <th>3</th>\n",
       "      <td>10.466667</td>\n",
       "    </tr>\n",
       "  </tbody>\n",
       "</table>\n",
       "</div>"
      ],
      "text/plain": [
       "           pickup_time_in_minutes\n",
       "runner_id                        \n",
       "1                       15.677778\n",
       "2                       23.720000\n",
       "3                       10.466667"
      ]
     },
     "execution_count": 16,
     "metadata": {},
     "output_type": "execute_result"
    }
   ],
   "source": [
    "pizza_delivered['pickup_time'] = pd.to_datetime(pizza_delivered['pickup_time'], format = '%d/%m/%Y %H:%M:%S')\n",
    "pizza_delivered['order_time'] = pd.to_datetime(pizza_delivered['order_time'], format = '%d/%m/%Y %H:%M:%S')\n",
    "pizza_delivered['pickup_time_in_minutes'] = (pizza_delivered['pickup_time'] - pizza_delivered['order_time']).dt.total_seconds() / 60\n",
    "pizza_delivered[['runner_id', 'pickup_time_in_minutes']].groupby(by='runner_id').agg({'pickup_time_in_minutes': 'mean'})"
   ]
  },
  {
   "cell_type": "markdown",
   "metadata": {},
   "source": [
    "Q3. Is there any relationship between the number of pizzas and how long the order takes to prepare?"
   ]
  },
  {
   "cell_type": "code",
   "execution_count": 17,
   "metadata": {},
   "outputs": [
    {
     "data": {
      "text/html": [
       "<div>\n",
       "<style scoped>\n",
       "    .dataframe tbody tr th:only-of-type {\n",
       "        vertical-align: middle;\n",
       "    }\n",
       "\n",
       "    .dataframe tbody tr th {\n",
       "        vertical-align: top;\n",
       "    }\n",
       "\n",
       "    .dataframe thead th {\n",
       "        text-align: right;\n",
       "    }\n",
       "</style>\n",
       "<table border=\"1\" class=\"dataframe\">\n",
       "  <thead>\n",
       "    <tr style=\"text-align: right;\">\n",
       "      <th></th>\n",
       "      <th>pizzas_in_orders</th>\n",
       "      <th>avg_pickup_time_in_minutes</th>\n",
       "      <th>avg_time_per_pizza</th>\n",
       "    </tr>\n",
       "    <tr>\n",
       "      <th>order_id</th>\n",
       "      <th></th>\n",
       "      <th></th>\n",
       "      <th></th>\n",
       "    </tr>\n",
       "  </thead>\n",
       "  <tbody>\n",
       "    <tr>\n",
       "      <th>1</th>\n",
       "      <td>1</td>\n",
       "      <td>10.53</td>\n",
       "      <td>10.53</td>\n",
       "    </tr>\n",
       "    <tr>\n",
       "      <th>2</th>\n",
       "      <td>1</td>\n",
       "      <td>10.03</td>\n",
       "      <td>10.03</td>\n",
       "    </tr>\n",
       "    <tr>\n",
       "      <th>3</th>\n",
       "      <td>2</td>\n",
       "      <td>21.23</td>\n",
       "      <td>10.62</td>\n",
       "    </tr>\n",
       "    <tr>\n",
       "      <th>4</th>\n",
       "      <td>3</td>\n",
       "      <td>29.28</td>\n",
       "      <td>9.76</td>\n",
       "    </tr>\n",
       "    <tr>\n",
       "      <th>5</th>\n",
       "      <td>1</td>\n",
       "      <td>10.47</td>\n",
       "      <td>10.47</td>\n",
       "    </tr>\n",
       "    <tr>\n",
       "      <th>7</th>\n",
       "      <td>1</td>\n",
       "      <td>10.27</td>\n",
       "      <td>10.27</td>\n",
       "    </tr>\n",
       "    <tr>\n",
       "      <th>8</th>\n",
       "      <td>1</td>\n",
       "      <td>20.48</td>\n",
       "      <td>20.48</td>\n",
       "    </tr>\n",
       "    <tr>\n",
       "      <th>10</th>\n",
       "      <td>2</td>\n",
       "      <td>15.52</td>\n",
       "      <td>7.76</td>\n",
       "    </tr>\n",
       "  </tbody>\n",
       "</table>\n",
       "</div>"
      ],
      "text/plain": [
       "          pizzas_in_orders  avg_pickup_time_in_minutes  avg_time_per_pizza\n",
       "order_id                                                                  \n",
       "1                        1                       10.53               10.53\n",
       "2                        1                       10.03               10.03\n",
       "3                        2                       21.23               10.62\n",
       "4                        3                       29.28                9.76\n",
       "5                        1                       10.47               10.47\n",
       "7                        1                       10.27               10.27\n",
       "8                        1                       20.48               20.48\n",
       "10                       2                       15.52                7.76"
      ]
     },
     "execution_count": 17,
     "metadata": {},
     "output_type": "execute_result"
    }
   ],
   "source": [
    "result = pizza_delivered.groupby(by='order_id').agg(\n",
    "                                                pizzas_in_orders = ('pizza_id', 'count'),\n",
    "                                                avg_pickup_time_in_minutes = ('pickup_time_in_minutes', 'mean'))\n",
    "result['avg_time_per_pizza'] = result['avg_pickup_time_in_minutes']/result['pizzas_in_orders']\n",
    "result = result.round({'avg_pickup_time_in_minutes': 2, 'avg_time_per_pizza': 2})\n",
    "result"
   ]
  },
  {
   "cell_type": "markdown",
   "metadata": {},
   "source": [
    "Q4. What was the average distance travelled for each customer?"
   ]
  },
  {
   "cell_type": "code",
   "execution_count": 19,
   "metadata": {},
   "outputs": [
    {
     "data": {
      "text/html": [
       "<div>\n",
       "<style scoped>\n",
       "    .dataframe tbody tr th:only-of-type {\n",
       "        vertical-align: middle;\n",
       "    }\n",
       "\n",
       "    .dataframe tbody tr th {\n",
       "        vertical-align: top;\n",
       "    }\n",
       "\n",
       "    .dataframe thead th {\n",
       "        text-align: right;\n",
       "    }\n",
       "</style>\n",
       "<table border=\"1\" class=\"dataframe\">\n",
       "  <thead>\n",
       "    <tr style=\"text-align: right;\">\n",
       "      <th></th>\n",
       "      <th>order_id</th>\n",
       "      <th>customer_id</th>\n",
       "      <th>pizza_id</th>\n",
       "      <th>exclusions</th>\n",
       "      <th>extras</th>\n",
       "      <th>order_time</th>\n",
       "      <th>runner_id</th>\n",
       "      <th>pickup_time</th>\n",
       "      <th>distance</th>\n",
       "      <th>duration</th>\n",
       "      <th>cancellation</th>\n",
       "      <th>pizza_name</th>\n",
       "      <th>pickup_time_in_minutes</th>\n",
       "    </tr>\n",
       "  </thead>\n",
       "  <tbody>\n",
       "    <tr>\n",
       "      <th>0</th>\n",
       "      <td>1</td>\n",
       "      <td>101</td>\n",
       "      <td>1</td>\n",
       "      <td>NaN</td>\n",
       "      <td>NaN</td>\n",
       "      <td>2020-01-01 18:05:02</td>\n",
       "      <td>1</td>\n",
       "      <td>2020-01-01 18:15:34</td>\n",
       "      <td>20.0</td>\n",
       "      <td>32.0</td>\n",
       "      <td>NaN</td>\n",
       "      <td>Meatlovers</td>\n",
       "      <td>10.533333</td>\n",
       "    </tr>\n",
       "    <tr>\n",
       "      <th>1</th>\n",
       "      <td>2</td>\n",
       "      <td>101</td>\n",
       "      <td>1</td>\n",
       "      <td>NaN</td>\n",
       "      <td>NaN</td>\n",
       "      <td>2020-01-01 19:00:52</td>\n",
       "      <td>1</td>\n",
       "      <td>2020-01-01 19:10:54</td>\n",
       "      <td>20.0</td>\n",
       "      <td>27.0</td>\n",
       "      <td>NaN</td>\n",
       "      <td>Meatlovers</td>\n",
       "      <td>10.033333</td>\n",
       "    </tr>\n",
       "    <tr>\n",
       "      <th>2</th>\n",
       "      <td>3</td>\n",
       "      <td>102</td>\n",
       "      <td>1</td>\n",
       "      <td>NaN</td>\n",
       "      <td>NaN</td>\n",
       "      <td>2020-01-02 23:51:23</td>\n",
       "      <td>1</td>\n",
       "      <td>2020-01-03 00:12:37</td>\n",
       "      <td>13.4</td>\n",
       "      <td>20.0</td>\n",
       "      <td>NaN</td>\n",
       "      <td>Meatlovers</td>\n",
       "      <td>21.233333</td>\n",
       "    </tr>\n",
       "    <tr>\n",
       "      <th>3</th>\n",
       "      <td>3</td>\n",
       "      <td>102</td>\n",
       "      <td>2</td>\n",
       "      <td>NaN</td>\n",
       "      <td>NaN</td>\n",
       "      <td>2020-01-02 23:51:23</td>\n",
       "      <td>1</td>\n",
       "      <td>2020-01-03 00:12:37</td>\n",
       "      <td>13.4</td>\n",
       "      <td>20.0</td>\n",
       "      <td>NaN</td>\n",
       "      <td>Vegetarian</td>\n",
       "      <td>21.233333</td>\n",
       "    </tr>\n",
       "    <tr>\n",
       "      <th>4</th>\n",
       "      <td>4</td>\n",
       "      <td>103</td>\n",
       "      <td>1</td>\n",
       "      <td>4</td>\n",
       "      <td>NaN</td>\n",
       "      <td>2020-01-04 13:23:46</td>\n",
       "      <td>2</td>\n",
       "      <td>2020-01-04 13:53:03</td>\n",
       "      <td>23.4</td>\n",
       "      <td>40.0</td>\n",
       "      <td>NaN</td>\n",
       "      <td>Meatlovers</td>\n",
       "      <td>29.283333</td>\n",
       "    </tr>\n",
       "  </tbody>\n",
       "</table>\n",
       "</div>"
      ],
      "text/plain": [
       "   order_id  customer_id  pizza_id exclusions extras          order_time  \\\n",
       "0         1          101         1        NaN    NaN 2020-01-01 18:05:02   \n",
       "1         2          101         1        NaN    NaN 2020-01-01 19:00:52   \n",
       "2         3          102         1        NaN    NaN 2020-01-02 23:51:23   \n",
       "3         3          102         2        NaN    NaN 2020-01-02 23:51:23   \n",
       "4         4          103         1          4    NaN 2020-01-04 13:23:46   \n",
       "\n",
       "   runner_id         pickup_time  distance  duration cancellation  pizza_name  \\\n",
       "0          1 2020-01-01 18:15:34      20.0      32.0          NaN  Meatlovers   \n",
       "1          1 2020-01-01 19:10:54      20.0      27.0          NaN  Meatlovers   \n",
       "2          1 2020-01-03 00:12:37      13.4      20.0          NaN  Meatlovers   \n",
       "3          1 2020-01-03 00:12:37      13.4      20.0          NaN  Vegetarian   \n",
       "4          2 2020-01-04 13:53:03      23.4      40.0          NaN  Meatlovers   \n",
       "\n",
       "   pickup_time_in_minutes  \n",
       "0               10.533333  \n",
       "1               10.033333  \n",
       "2               21.233333  \n",
       "3               21.233333  \n",
       "4               29.283333  "
      ]
     },
     "execution_count": 19,
     "metadata": {},
     "output_type": "execute_result"
    }
   ],
   "source": [
    "result = pizza_delivered.groupby()"
   ]
  },
  {
   "cell_type": "code",
   "execution_count": null,
   "metadata": {},
   "outputs": [],
   "source": []
  }
 ],
 "metadata": {
  "kernelspec": {
   "display_name": "Python 3",
   "language": "python",
   "name": "python3"
  },
  "language_info": {
   "codemirror_mode": {
    "name": "ipython",
    "version": 3
   },
   "file_extension": ".py",
   "mimetype": "text/x-python",
   "name": "python",
   "nbconvert_exporter": "python",
   "pygments_lexer": "ipython3",
   "version": "3.10.6"
  }
 },
 "nbformat": 4,
 "nbformat_minor": 2
}

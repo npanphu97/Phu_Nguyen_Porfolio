{
 "cells": [
  {
   "cell_type": "code",
   "execution_count": null,
   "metadata": {},
   "outputs": [],
   "source": [
    "import numpy as np\n",
    "import pandas as pd"
   ]
  },
  {
   "cell_type": "code",
   "execution_count": 43,
   "metadata": {},
   "outputs": [],
   "source": [
    "customer_orders = pd.read_csv('customer_orders.csv')\n",
    "runner_orders = pd.read_csv('runner_orders.csv')\n",
    "pizza_names = pd.read_csv('pizza_names.csv')\n",
    "pizza_recipes = pd.read_csv('pizza_recipes.csv')\n",
    "pizza_toppings = pd.read_csv('pizza_toppings.csv')"
   ]
  },
  {
   "cell_type": "markdown",
   "metadata": {},
   "source": [
    "Modify values of \"distance\", and \"duration\" columns"
   ]
  },
  {
   "cell_type": "code",
   "execution_count": 46,
   "metadata": {},
   "outputs": [],
   "source": [
    "runner_orders[\"distance\"] = runner_orders[\"distance\"] = runner_orders[\"distance\"].str.replace('km','').astype(float)\n",
    "runner_orders['duration'] = runner_orders['duration'].str.replace('mins|minutes|minute', '').astype(float)"
   ]
  },
  {
   "cell_type": "markdown",
   "metadata": {},
   "source": [
    "Q1. How many pizzas were ordered?"
   ]
  },
  {
   "cell_type": "code",
   "execution_count": 49,
   "metadata": {},
   "outputs": [
    {
     "data": {
      "text/plain": [
       "14"
      ]
     },
     "execution_count": 49,
     "metadata": {},
     "output_type": "execute_result"
    }
   ],
   "source": [
    "customer_orders[\"order_id\"].count()"
   ]
  },
  {
   "cell_type": "markdown",
   "metadata": {},
   "source": [
    "Q2. How many unique customer orders was made?"
   ]
  },
  {
   "cell_type": "code",
   "execution_count": 52,
   "metadata": {},
   "outputs": [
    {
     "data": {
      "text/plain": [
       "10"
      ]
     },
     "execution_count": 52,
     "metadata": {},
     "output_type": "execute_result"
    }
   ],
   "source": [
    "customer_orders[\"order_id\"].nunique()"
   ]
  },
  {
   "cell_type": "markdown",
   "metadata": {},
   "source": [
    "Q3. How many successful orders was delivered by each runner?\n"
   ]
  },
  {
   "cell_type": "code",
   "execution_count": 53,
   "metadata": {},
   "outputs": [
    {
     "data": {
      "text/plain": [
       "8"
      ]
     },
     "execution_count": 53,
     "metadata": {},
     "output_type": "execute_result"
    }
   ],
   "source": [
    "runner_orders['order_id'].loc[runner_orders[\"cancellation\"].isnull()].count()"
   ]
  },
  {
   "cell_type": "markdown",
   "metadata": {},
   "source": [
    "Q4. How many of each type of pizza was delivered?"
   ]
  },
  {
   "cell_type": "code",
   "execution_count": 55,
   "metadata": {},
   "outputs": [
    {
     "data": {
      "text/html": [
       "<div>\n",
       "<style scoped>\n",
       "    .dataframe tbody tr th:only-of-type {\n",
       "        vertical-align: middle;\n",
       "    }\n",
       "\n",
       "    .dataframe tbody tr th {\n",
       "        vertical-align: top;\n",
       "    }\n",
       "\n",
       "    .dataframe thead th {\n",
       "        text-align: right;\n",
       "    }\n",
       "</style>\n",
       "<table border=\"1\" class=\"dataframe\">\n",
       "  <thead>\n",
       "    <tr style=\"text-align: right;\">\n",
       "      <th></th>\n",
       "      <th>order_id</th>\n",
       "      <th>customer_id</th>\n",
       "      <th>pizza_id</th>\n",
       "      <th>exclusions</th>\n",
       "      <th>extras</th>\n",
       "      <th>order_time</th>\n",
       "      <th>order_idright</th>\n",
       "      <th>runner_id</th>\n",
       "      <th>pickup_time</th>\n",
       "      <th>distance</th>\n",
       "      <th>duration</th>\n",
       "      <th>cancellation</th>\n",
       "    </tr>\n",
       "  </thead>\n",
       "  <tbody>\n",
       "    <tr>\n",
       "      <th>0</th>\n",
       "      <td>1</td>\n",
       "      <td>101</td>\n",
       "      <td>1</td>\n",
       "      <td>NaN</td>\n",
       "      <td>NaN</td>\n",
       "      <td>01/01/2020 18:05:02</td>\n",
       "      <td>2.0</td>\n",
       "      <td>1.0</td>\n",
       "      <td>01/01/2020 19:10:54</td>\n",
       "      <td>20.0</td>\n",
       "      <td>27.0</td>\n",
       "      <td>NaN</td>\n",
       "    </tr>\n",
       "    <tr>\n",
       "      <th>1</th>\n",
       "      <td>2</td>\n",
       "      <td>101</td>\n",
       "      <td>1</td>\n",
       "      <td>NaN</td>\n",
       "      <td>NaN</td>\n",
       "      <td>01/01/2020 19:00:52</td>\n",
       "      <td>3.0</td>\n",
       "      <td>1.0</td>\n",
       "      <td>03/01/2020 00:12:37</td>\n",
       "      <td>13.4</td>\n",
       "      <td>20.0</td>\n",
       "      <td>NaN</td>\n",
       "    </tr>\n",
       "    <tr>\n",
       "      <th>2</th>\n",
       "      <td>3</td>\n",
       "      <td>102</td>\n",
       "      <td>1</td>\n",
       "      <td>NaN</td>\n",
       "      <td>NaN</td>\n",
       "      <td>02/01/2020 23:51:23</td>\n",
       "      <td>4.0</td>\n",
       "      <td>2.0</td>\n",
       "      <td>04/01/2020 13:53:03</td>\n",
       "      <td>23.4</td>\n",
       "      <td>40.0</td>\n",
       "      <td>NaN</td>\n",
       "    </tr>\n",
       "    <tr>\n",
       "      <th>3</th>\n",
       "      <td>3</td>\n",
       "      <td>102</td>\n",
       "      <td>2</td>\n",
       "      <td>NaN</td>\n",
       "      <td>NaN</td>\n",
       "      <td>02/01/2020 23:51:23</td>\n",
       "      <td>4.0</td>\n",
       "      <td>2.0</td>\n",
       "      <td>04/01/2020 13:53:03</td>\n",
       "      <td>23.4</td>\n",
       "      <td>40.0</td>\n",
       "      <td>NaN</td>\n",
       "    </tr>\n",
       "    <tr>\n",
       "      <th>4</th>\n",
       "      <td>4</td>\n",
       "      <td>103</td>\n",
       "      <td>1</td>\n",
       "      <td>4</td>\n",
       "      <td>NaN</td>\n",
       "      <td>04/01/2020 13:23:46</td>\n",
       "      <td>5.0</td>\n",
       "      <td>3.0</td>\n",
       "      <td>08/01/2020 21:10:57</td>\n",
       "      <td>10.0</td>\n",
       "      <td>15.0</td>\n",
       "      <td>NaN</td>\n",
       "    </tr>\n",
       "    <tr>\n",
       "      <th>5</th>\n",
       "      <td>4</td>\n",
       "      <td>103</td>\n",
       "      <td>1</td>\n",
       "      <td>4</td>\n",
       "      <td>NaN</td>\n",
       "      <td>04/01/2020 13:23:46</td>\n",
       "      <td>5.0</td>\n",
       "      <td>3.0</td>\n",
       "      <td>08/01/2020 21:10:57</td>\n",
       "      <td>10.0</td>\n",
       "      <td>15.0</td>\n",
       "      <td>NaN</td>\n",
       "    </tr>\n",
       "    <tr>\n",
       "      <th>6</th>\n",
       "      <td>4</td>\n",
       "      <td>103</td>\n",
       "      <td>2</td>\n",
       "      <td>4</td>\n",
       "      <td>NaN</td>\n",
       "      <td>04/01/2020 13:23:46</td>\n",
       "      <td>5.0</td>\n",
       "      <td>3.0</td>\n",
       "      <td>08/01/2020 21:10:57</td>\n",
       "      <td>10.0</td>\n",
       "      <td>15.0</td>\n",
       "      <td>NaN</td>\n",
       "    </tr>\n",
       "    <tr>\n",
       "      <th>7</th>\n",
       "      <td>5</td>\n",
       "      <td>104</td>\n",
       "      <td>1</td>\n",
       "      <td>NaN</td>\n",
       "      <td>1</td>\n",
       "      <td>08/01/2020 21:00:29</td>\n",
       "      <td>6.0</td>\n",
       "      <td>3.0</td>\n",
       "      <td>NaN</td>\n",
       "      <td>NaN</td>\n",
       "      <td>NaN</td>\n",
       "      <td>Restaurant Cancellation</td>\n",
       "    </tr>\n",
       "    <tr>\n",
       "      <th>8</th>\n",
       "      <td>6</td>\n",
       "      <td>101</td>\n",
       "      <td>2</td>\n",
       "      <td>NaN</td>\n",
       "      <td>NaN</td>\n",
       "      <td>08/01/2020 21:03:13</td>\n",
       "      <td>7.0</td>\n",
       "      <td>2.0</td>\n",
       "      <td>08/01/2020 21:30:45</td>\n",
       "      <td>25.0</td>\n",
       "      <td>25.0</td>\n",
       "      <td>NaN</td>\n",
       "    </tr>\n",
       "    <tr>\n",
       "      <th>9</th>\n",
       "      <td>7</td>\n",
       "      <td>105</td>\n",
       "      <td>2</td>\n",
       "      <td>NaN</td>\n",
       "      <td>1</td>\n",
       "      <td>08/01/2020 21:20:29</td>\n",
       "      <td>8.0</td>\n",
       "      <td>2.0</td>\n",
       "      <td>10/01/2020 00:15:02</td>\n",
       "      <td>23.4</td>\n",
       "      <td>15.0</td>\n",
       "      <td>NaN</td>\n",
       "    </tr>\n",
       "    <tr>\n",
       "      <th>10</th>\n",
       "      <td>8</td>\n",
       "      <td>102</td>\n",
       "      <td>1</td>\n",
       "      <td>NaN</td>\n",
       "      <td>NaN</td>\n",
       "      <td>09/01/2020 23:54:33</td>\n",
       "      <td>9.0</td>\n",
       "      <td>2.0</td>\n",
       "      <td>NaN</td>\n",
       "      <td>NaN</td>\n",
       "      <td>NaN</td>\n",
       "      <td>Customer Cancellation</td>\n",
       "    </tr>\n",
       "    <tr>\n",
       "      <th>11</th>\n",
       "      <td>9</td>\n",
       "      <td>103</td>\n",
       "      <td>1</td>\n",
       "      <td>4</td>\n",
       "      <td>1, 5</td>\n",
       "      <td>10/01/2020 11:22:59</td>\n",
       "      <td>10.0</td>\n",
       "      <td>1.0</td>\n",
       "      <td>11/01/2020 18:50:20</td>\n",
       "      <td>10.0</td>\n",
       "      <td>10.0</td>\n",
       "      <td>NaN</td>\n",
       "    </tr>\n",
       "    <tr>\n",
       "      <th>12</th>\n",
       "      <td>10</td>\n",
       "      <td>104</td>\n",
       "      <td>1</td>\n",
       "      <td>NaN</td>\n",
       "      <td>NaN</td>\n",
       "      <td>11/01/2020 18:34:49</td>\n",
       "      <td>NaN</td>\n",
       "      <td>NaN</td>\n",
       "      <td>NaN</td>\n",
       "      <td>NaN</td>\n",
       "      <td>NaN</td>\n",
       "      <td>NaN</td>\n",
       "    </tr>\n",
       "    <tr>\n",
       "      <th>13</th>\n",
       "      <td>10</td>\n",
       "      <td>104</td>\n",
       "      <td>1</td>\n",
       "      <td>2, 6</td>\n",
       "      <td>1, 4</td>\n",
       "      <td>11/01/2020 18:34:49</td>\n",
       "      <td>NaN</td>\n",
       "      <td>NaN</td>\n",
       "      <td>NaN</td>\n",
       "      <td>NaN</td>\n",
       "      <td>NaN</td>\n",
       "      <td>NaN</td>\n",
       "    </tr>\n",
       "  </tbody>\n",
       "</table>\n",
       "</div>"
      ],
      "text/plain": [
       "    order_id  customer_id  pizza_id exclusions extras           order_time  \\\n",
       "0          1          101         1        NaN    NaN  01/01/2020 18:05:02   \n",
       "1          2          101         1        NaN    NaN  01/01/2020 19:00:52   \n",
       "2          3          102         1        NaN    NaN  02/01/2020 23:51:23   \n",
       "3          3          102         2        NaN    NaN  02/01/2020 23:51:23   \n",
       "4          4          103         1          4    NaN  04/01/2020 13:23:46   \n",
       "5          4          103         1          4    NaN  04/01/2020 13:23:46   \n",
       "6          4          103         2          4    NaN  04/01/2020 13:23:46   \n",
       "7          5          104         1        NaN      1  08/01/2020 21:00:29   \n",
       "8          6          101         2        NaN    NaN  08/01/2020 21:03:13   \n",
       "9          7          105         2        NaN      1  08/01/2020 21:20:29   \n",
       "10         8          102         1        NaN    NaN  09/01/2020 23:54:33   \n",
       "11         9          103         1          4   1, 5  10/01/2020 11:22:59   \n",
       "12        10          104         1        NaN    NaN  11/01/2020 18:34:49   \n",
       "13        10          104         1       2, 6   1, 4  11/01/2020 18:34:49   \n",
       "\n",
       "    order_idright  runner_id          pickup_time  distance  duration  \\\n",
       "0             2.0        1.0  01/01/2020 19:10:54      20.0      27.0   \n",
       "1             3.0        1.0  03/01/2020 00:12:37      13.4      20.0   \n",
       "2             4.0        2.0  04/01/2020 13:53:03      23.4      40.0   \n",
       "3             4.0        2.0  04/01/2020 13:53:03      23.4      40.0   \n",
       "4             5.0        3.0  08/01/2020 21:10:57      10.0      15.0   \n",
       "5             5.0        3.0  08/01/2020 21:10:57      10.0      15.0   \n",
       "6             5.0        3.0  08/01/2020 21:10:57      10.0      15.0   \n",
       "7             6.0        3.0                  NaN       NaN       NaN   \n",
       "8             7.0        2.0  08/01/2020 21:30:45      25.0      25.0   \n",
       "9             8.0        2.0  10/01/2020 00:15:02      23.4      15.0   \n",
       "10            9.0        2.0                  NaN       NaN       NaN   \n",
       "11           10.0        1.0  11/01/2020 18:50:20      10.0      10.0   \n",
       "12            NaN        NaN                  NaN       NaN       NaN   \n",
       "13            NaN        NaN                  NaN       NaN       NaN   \n",
       "\n",
       "               cancellation  \n",
       "0                       NaN  \n",
       "1                       NaN  \n",
       "2                       NaN  \n",
       "3                       NaN  \n",
       "4                       NaN  \n",
       "5                       NaN  \n",
       "6                       NaN  \n",
       "7   Restaurant Cancellation  \n",
       "8                       NaN  \n",
       "9                       NaN  \n",
       "10    Customer Cancellation  \n",
       "11                      NaN  \n",
       "12                      NaN  \n",
       "13                      NaN  "
      ]
     },
     "execution_count": 55,
     "metadata": {},
     "output_type": "execute_result"
    }
   ],
   "source": [
    "customer_orders.join(runner_orders, on = \"order_id\", how= 'left', rsuffix='right')"
   ]
  },
  {
   "cell_type": "code",
   "execution_count": null,
   "metadata": {},
   "outputs": [],
   "source": []
  }
 ],
 "metadata": {
  "kernelspec": {
   "display_name": "Python 3",
   "language": "python",
   "name": "python3"
  },
  "language_info": {
   "codemirror_mode": {
    "name": "ipython",
    "version": 3
   },
   "file_extension": ".py",
   "mimetype": "text/x-python",
   "name": "python",
   "nbconvert_exporter": "python",
   "pygments_lexer": "ipython3",
   "version": "3.10.6"
  }
 },
 "nbformat": 4,
 "nbformat_minor": 2
}
